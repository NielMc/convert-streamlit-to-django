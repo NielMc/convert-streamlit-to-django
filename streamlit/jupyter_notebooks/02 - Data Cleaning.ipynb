{
  "nbformat": 4,
  "nbformat_minor": 0,
  "metadata": {
    "colab": {
      "name": "Stacking Pipelines.ipynb",
      "provenance": [],
      "collapsed_sections": [],
      "toc_visible": true,
      "authorship_tag": "ABX9TyOlA5y6nl/X0i4tdDVBKYCT"
    },
    "kernelspec": {
      "name": "python3",
      "display_name": "Python 3"
    },
    "language_info": {
      "name": "python"
    },
    "accelerator": "GPU"
  },
  "cells": [
    {
      "cell_type": "markdown",
      "metadata": {
        "id": "n5gbVGPNZWPR"
      },
      "source": [
        "# Import repo"
      ]
    },
    {
      "cell_type": "code",
      "metadata": {
        "colab": {
          "base_uri": "https://localhost:8080/"
        },
        "id": "fsIRBPkQY-vt",
        "outputId": "85cab765-c6f3-4d74-8ace-3aa7e651a04e"
      },
      "source": [
        "!git clone https://github.com/FernandoDoreto/convert-streamlit-to-django.git"
      ],
      "execution_count": 2,
      "outputs": [
        {
          "output_type": "stream",
          "text": [
            "fatal: destination path 'convert-streamlit-to-django' already exists and is not an empty directory.\n"
          ],
          "name": "stdout"
        }
      ]
    },
    {
      "cell_type": "code",
      "metadata": {
        "colab": {
          "base_uri": "https://localhost:8080/"
        },
        "id": "-v6jSgUoZMkV",
        "outputId": "6393b275-fbdd-4e34-bb01-638dec58a2ff"
      },
      "source": [
        "%cd /content/convert-streamlit-to-django"
      ],
      "execution_count": 3,
      "outputs": [
        {
          "output_type": "stream",
          "text": [
            "/content/convert-streamlit-to-django\n"
          ],
          "name": "stdout"
        }
      ]
    },
    {
      "cell_type": "code",
      "metadata": {
        "colab": {
          "base_uri": "https://localhost:8080/",
          "height": 35
        },
        "id": "qEIV0cHtZUUH",
        "outputId": "9b728845-7116-47c0-eea9-b6605db2252e"
      },
      "source": [
        "pwd"
      ],
      "execution_count": 4,
      "outputs": [
        {
          "output_type": "execute_result",
          "data": {
            "application/vnd.google.colaboratory.intrinsic+json": {
              "type": "string"
            },
            "text/plain": [
              "'/content/convert-streamlit-to-django'"
            ]
          },
          "metadata": {
            "tags": []
          },
          "execution_count": 4
        }
      ]
    },
    {
      "cell_type": "code",
      "metadata": {
        "id": "dpPJS2YmZU2P"
      },
      "source": [
        ""
      ],
      "execution_count": 1,
      "outputs": []
    },
    {
      "cell_type": "markdown",
      "metadata": {
        "id": "BFyUM3AUZcye"
      },
      "source": [
        "# Load dataset"
      ]
    },
    {
      "cell_type": "code",
      "metadata": {
        "colab": {
          "base_uri": "https://localhost:8080/"
        },
        "id": "Cop0CpQuZrKc",
        "outputId": "55930ff1-aca7-4d87-8079-b0237fb36eb6"
      },
      "source": [
        "pip install streamlit"
      ],
      "execution_count": 4,
      "outputs": [
        {
          "output_type": "stream",
          "text": [
            "Requirement already satisfied: streamlit in /usr/local/lib/python3.7/dist-packages (0.80.0)\n",
            "Requirement already satisfied: toml in /usr/local/lib/python3.7/dist-packages (from streamlit) (0.10.2)\n",
            "Requirement already satisfied: altair>=3.2.0 in /usr/local/lib/python3.7/dist-packages (from streamlit) (4.1.0)\n",
            "Requirement already satisfied: click>=7.0 in /usr/local/lib/python3.7/dist-packages (from streamlit) (7.1.2)\n",
            "Requirement already satisfied: cachetools>=4.0 in /usr/local/lib/python3.7/dist-packages (from streamlit) (4.2.1)\n",
            "Requirement already satisfied: pillow>=6.2.0 in /usr/local/lib/python3.7/dist-packages (from streamlit) (7.1.2)\n",
            "Requirement already satisfied: gitpython in /usr/local/lib/python3.7/dist-packages (from streamlit) (3.1.14)\n",
            "Requirement already satisfied: astor in /usr/local/lib/python3.7/dist-packages (from streamlit) (0.8.1)\n",
            "Requirement already satisfied: watchdog; platform_system != \"Darwin\" in /usr/local/lib/python3.7/dist-packages (from streamlit) (2.0.2)\n",
            "Requirement already satisfied: pandas>=0.21.0 in /usr/local/lib/python3.7/dist-packages (from streamlit) (1.1.5)\n",
            "Requirement already satisfied: packaging in /usr/local/lib/python3.7/dist-packages (from streamlit) (20.9)\n",
            "Requirement already satisfied: protobuf!=3.11,>=3.6.0 in /usr/local/lib/python3.7/dist-packages (from streamlit) (3.12.4)\n",
            "Requirement already satisfied: base58 in /usr/local/lib/python3.7/dist-packages (from streamlit) (2.1.0)\n",
            "Requirement already satisfied: pydeck>=0.1.dev5 in /usr/local/lib/python3.7/dist-packages (from streamlit) (0.6.2)\n",
            "Requirement already satisfied: requests in /usr/local/lib/python3.7/dist-packages (from streamlit) (2.23.0)\n",
            "Requirement already satisfied: tornado>=5.0 in /usr/local/lib/python3.7/dist-packages (from streamlit) (5.1.1)\n",
            "Requirement already satisfied: python-dateutil in /usr/local/lib/python3.7/dist-packages (from streamlit) (2.8.1)\n",
            "Requirement already satisfied: tzlocal in /usr/local/lib/python3.7/dist-packages (from streamlit) (1.5.1)\n",
            "Requirement already satisfied: pyarrow; python_version < \"3.9\" in /usr/local/lib/python3.7/dist-packages (from streamlit) (3.0.0)\n",
            "Requirement already satisfied: blinker in /usr/local/lib/python3.7/dist-packages (from streamlit) (1.4)\n",
            "Requirement already satisfied: numpy in /usr/local/lib/python3.7/dist-packages (from streamlit) (1.19.5)\n",
            "Requirement already satisfied: validators in /usr/local/lib/python3.7/dist-packages (from streamlit) (0.18.2)\n",
            "Requirement already satisfied: jinja2 in /usr/local/lib/python3.7/dist-packages (from altair>=3.2.0->streamlit) (2.11.3)\n",
            "Requirement already satisfied: entrypoints in /usr/local/lib/python3.7/dist-packages (from altair>=3.2.0->streamlit) (0.3)\n",
            "Requirement already satisfied: toolz in /usr/local/lib/python3.7/dist-packages (from altair>=3.2.0->streamlit) (0.11.1)\n",
            "Requirement already satisfied: jsonschema in /usr/local/lib/python3.7/dist-packages (from altair>=3.2.0->streamlit) (2.6.0)\n",
            "Requirement already satisfied: gitdb<5,>=4.0.1 in /usr/local/lib/python3.7/dist-packages (from gitpython->streamlit) (4.0.7)\n",
            "Requirement already satisfied: pytz>=2017.2 in /usr/local/lib/python3.7/dist-packages (from pandas>=0.21.0->streamlit) (2018.9)\n",
            "Requirement already satisfied: pyparsing>=2.0.2 in /usr/local/lib/python3.7/dist-packages (from packaging->streamlit) (2.4.7)\n",
            "Requirement already satisfied: six>=1.9 in /usr/local/lib/python3.7/dist-packages (from protobuf!=3.11,>=3.6.0->streamlit) (1.15.0)\n",
            "Requirement already satisfied: setuptools in /usr/local/lib/python3.7/dist-packages (from protobuf!=3.11,>=3.6.0->streamlit) (54.2.0)\n",
            "Requirement already satisfied: ipywidgets>=7.0.0 in /usr/local/lib/python3.7/dist-packages (from pydeck>=0.1.dev5->streamlit) (7.6.3)\n",
            "Requirement already satisfied: ipykernel>=5.1.2; python_version >= \"3.4\" in /usr/local/lib/python3.7/dist-packages (from pydeck>=0.1.dev5->streamlit) (5.5.3)\n",
            "Requirement already satisfied: traitlets>=4.3.2 in /usr/local/lib/python3.7/dist-packages (from pydeck>=0.1.dev5->streamlit) (5.0.5)\n",
            "Requirement already satisfied: chardet<4,>=3.0.2 in /usr/local/lib/python3.7/dist-packages (from requests->streamlit) (3.0.4)\n",
            "Requirement already satisfied: urllib3!=1.25.0,!=1.25.1,<1.26,>=1.21.1 in /usr/local/lib/python3.7/dist-packages (from requests->streamlit) (1.24.3)\n",
            "Requirement already satisfied: idna<3,>=2.5 in /usr/local/lib/python3.7/dist-packages (from requests->streamlit) (2.10)\n",
            "Requirement already satisfied: certifi>=2017.4.17 in /usr/local/lib/python3.7/dist-packages (from requests->streamlit) (2020.12.5)\n",
            "Requirement already satisfied: decorator>=3.4.0 in /usr/local/lib/python3.7/dist-packages (from validators->streamlit) (4.4.2)\n",
            "Requirement already satisfied: MarkupSafe>=0.23 in /usr/local/lib/python3.7/dist-packages (from jinja2->altair>=3.2.0->streamlit) (1.1.1)\n",
            "Requirement already satisfied: smmap<5,>=3.0.1 in /usr/local/lib/python3.7/dist-packages (from gitdb<5,>=4.0.1->gitpython->streamlit) (4.0.0)\n",
            "Requirement already satisfied: ipython>=4.0.0; python_version >= \"3.3\" in /usr/local/lib/python3.7/dist-packages (from ipywidgets>=7.0.0->pydeck>=0.1.dev5->streamlit) (5.5.0)\n",
            "Requirement already satisfied: widgetsnbextension~=3.5.0 in /usr/local/lib/python3.7/dist-packages (from ipywidgets>=7.0.0->pydeck>=0.1.dev5->streamlit) (3.5.1)\n",
            "Requirement already satisfied: jupyterlab-widgets>=1.0.0; python_version >= \"3.6\" in /usr/local/lib/python3.7/dist-packages (from ipywidgets>=7.0.0->pydeck>=0.1.dev5->streamlit) (1.0.0)\n",
            "Requirement already satisfied: nbformat>=4.2.0 in /usr/local/lib/python3.7/dist-packages (from ipywidgets>=7.0.0->pydeck>=0.1.dev5->streamlit) (5.1.3)\n",
            "Requirement already satisfied: jupyter-client in /usr/local/lib/python3.7/dist-packages (from ipykernel>=5.1.2; python_version >= \"3.4\"->pydeck>=0.1.dev5->streamlit) (5.3.5)\n",
            "Requirement already satisfied: ipython-genutils in /usr/local/lib/python3.7/dist-packages (from traitlets>=4.3.2->pydeck>=0.1.dev5->streamlit) (0.2.0)\n",
            "Requirement already satisfied: pickleshare in /usr/local/lib/python3.7/dist-packages (from ipython>=4.0.0; python_version >= \"3.3\"->ipywidgets>=7.0.0->pydeck>=0.1.dev5->streamlit) (0.7.5)\n",
            "Requirement already satisfied: prompt-toolkit<2.0.0,>=1.0.4 in /usr/local/lib/python3.7/dist-packages (from ipython>=4.0.0; python_version >= \"3.3\"->ipywidgets>=7.0.0->pydeck>=0.1.dev5->streamlit) (1.0.18)\n",
            "Requirement already satisfied: simplegeneric>0.8 in /usr/local/lib/python3.7/dist-packages (from ipython>=4.0.0; python_version >= \"3.3\"->ipywidgets>=7.0.0->pydeck>=0.1.dev5->streamlit) (0.8.1)\n",
            "Requirement already satisfied: pygments in /usr/local/lib/python3.7/dist-packages (from ipython>=4.0.0; python_version >= \"3.3\"->ipywidgets>=7.0.0->pydeck>=0.1.dev5->streamlit) (2.6.1)\n",
            "Requirement already satisfied: pexpect; sys_platform != \"win32\" in /usr/local/lib/python3.7/dist-packages (from ipython>=4.0.0; python_version >= \"3.3\"->ipywidgets>=7.0.0->pydeck>=0.1.dev5->streamlit) (4.8.0)\n",
            "Requirement already satisfied: notebook>=4.4.1 in /usr/local/lib/python3.7/dist-packages (from widgetsnbextension~=3.5.0->ipywidgets>=7.0.0->pydeck>=0.1.dev5->streamlit) (5.3.1)\n",
            "Requirement already satisfied: jupyter-core in /usr/local/lib/python3.7/dist-packages (from nbformat>=4.2.0->ipywidgets>=7.0.0->pydeck>=0.1.dev5->streamlit) (4.7.1)\n",
            "Requirement already satisfied: pyzmq>=13 in /usr/local/lib/python3.7/dist-packages (from jupyter-client->ipykernel>=5.1.2; python_version >= \"3.4\"->pydeck>=0.1.dev5->streamlit) (22.0.3)\n",
            "Requirement already satisfied: wcwidth in /usr/local/lib/python3.7/dist-packages (from prompt-toolkit<2.0.0,>=1.0.4->ipython>=4.0.0; python_version >= \"3.3\"->ipywidgets>=7.0.0->pydeck>=0.1.dev5->streamlit) (0.2.5)\n",
            "Requirement already satisfied: ptyprocess>=0.5 in /usr/local/lib/python3.7/dist-packages (from pexpect; sys_platform != \"win32\"->ipython>=4.0.0; python_version >= \"3.3\"->ipywidgets>=7.0.0->pydeck>=0.1.dev5->streamlit) (0.7.0)\n",
            "Requirement already satisfied: Send2Trash in /usr/local/lib/python3.7/dist-packages (from notebook>=4.4.1->widgetsnbextension~=3.5.0->ipywidgets>=7.0.0->pydeck>=0.1.dev5->streamlit) (1.5.0)\n",
            "Requirement already satisfied: terminado>=0.8.1 in /usr/local/lib/python3.7/dist-packages (from notebook>=4.4.1->widgetsnbextension~=3.5.0->ipywidgets>=7.0.0->pydeck>=0.1.dev5->streamlit) (0.9.4)\n",
            "Requirement already satisfied: nbconvert in /usr/local/lib/python3.7/dist-packages (from notebook>=4.4.1->widgetsnbextension~=3.5.0->ipywidgets>=7.0.0->pydeck>=0.1.dev5->streamlit) (5.6.1)\n",
            "Requirement already satisfied: mistune<2,>=0.8.1 in /usr/local/lib/python3.7/dist-packages (from nbconvert->notebook>=4.4.1->widgetsnbextension~=3.5.0->ipywidgets>=7.0.0->pydeck>=0.1.dev5->streamlit) (0.8.4)\n",
            "Requirement already satisfied: defusedxml in /usr/local/lib/python3.7/dist-packages (from nbconvert->notebook>=4.4.1->widgetsnbextension~=3.5.0->ipywidgets>=7.0.0->pydeck>=0.1.dev5->streamlit) (0.7.1)\n",
            "Requirement already satisfied: bleach in /usr/local/lib/python3.7/dist-packages (from nbconvert->notebook>=4.4.1->widgetsnbextension~=3.5.0->ipywidgets>=7.0.0->pydeck>=0.1.dev5->streamlit) (3.3.0)\n",
            "Requirement already satisfied: pandocfilters>=1.4.1 in /usr/local/lib/python3.7/dist-packages (from nbconvert->notebook>=4.4.1->widgetsnbextension~=3.5.0->ipywidgets>=7.0.0->pydeck>=0.1.dev5->streamlit) (1.4.3)\n",
            "Requirement already satisfied: testpath in /usr/local/lib/python3.7/dist-packages (from nbconvert->notebook>=4.4.1->widgetsnbextension~=3.5.0->ipywidgets>=7.0.0->pydeck>=0.1.dev5->streamlit) (0.4.4)\n",
            "Requirement already satisfied: webencodings in /usr/local/lib/python3.7/dist-packages (from bleach->nbconvert->notebook>=4.4.1->widgetsnbextension~=3.5.0->ipywidgets>=7.0.0->pydeck>=0.1.dev5->streamlit) (0.5.1)\n"
          ],
          "name": "stdout"
        }
      ]
    },
    {
      "cell_type": "code",
      "metadata": {
        "id": "IZVRbgK4Ze-f"
      },
      "source": [
        "from src.processing.data_management import LoadIrisDataset"
      ],
      "execution_count": 5,
      "outputs": []
    },
    {
      "cell_type": "code",
      "metadata": {
        "id": "CTpNrYWrabB8",
        "colab": {
          "base_uri": "https://localhost:8080/",
          "height": 200
        },
        "outputId": "a21e87f0-0c6f-4403-8e94-88100df0294c"
      },
      "source": [
        "df = LoadIrisDataset()\n",
        "df.head()"
      ],
      "execution_count": 6,
      "outputs": [
        {
          "output_type": "execute_result",
          "data": {
            "text/html": [
              "<div>\n",
              "<style scoped>\n",
              "    .dataframe tbody tr th:only-of-type {\n",
              "        vertical-align: middle;\n",
              "    }\n",
              "\n",
              "    .dataframe tbody tr th {\n",
              "        vertical-align: top;\n",
              "    }\n",
              "\n",
              "    .dataframe thead th {\n",
              "        text-align: right;\n",
              "    }\n",
              "</style>\n",
              "<table border=\"1\" class=\"dataframe\">\n",
              "  <thead>\n",
              "    <tr style=\"text-align: right;\">\n",
              "      <th></th>\n",
              "      <th>sepal length (cm)</th>\n",
              "      <th>sepal width (cm)</th>\n",
              "      <th>petal length (cm)</th>\n",
              "      <th>petal width (cm)</th>\n",
              "      <th>Species</th>\n",
              "    </tr>\n",
              "  </thead>\n",
              "  <tbody>\n",
              "    <tr>\n",
              "      <th>0</th>\n",
              "      <td>5.1</td>\n",
              "      <td>3.5</td>\n",
              "      <td>1.4</td>\n",
              "      <td>0.2</td>\n",
              "      <td>0</td>\n",
              "    </tr>\n",
              "    <tr>\n",
              "      <th>1</th>\n",
              "      <td>4.9</td>\n",
              "      <td>3.0</td>\n",
              "      <td>1.4</td>\n",
              "      <td>0.2</td>\n",
              "      <td>0</td>\n",
              "    </tr>\n",
              "    <tr>\n",
              "      <th>2</th>\n",
              "      <td>4.7</td>\n",
              "      <td>3.2</td>\n",
              "      <td>1.3</td>\n",
              "      <td>0.2</td>\n",
              "      <td>0</td>\n",
              "    </tr>\n",
              "    <tr>\n",
              "      <th>3</th>\n",
              "      <td>4.6</td>\n",
              "      <td>3.1</td>\n",
              "      <td>1.5</td>\n",
              "      <td>0.2</td>\n",
              "      <td>0</td>\n",
              "    </tr>\n",
              "    <tr>\n",
              "      <th>4</th>\n",
              "      <td>5.0</td>\n",
              "      <td>3.6</td>\n",
              "      <td>1.4</td>\n",
              "      <td>0.2</td>\n",
              "      <td>0</td>\n",
              "    </tr>\n",
              "  </tbody>\n",
              "</table>\n",
              "</div>"
            ],
            "text/plain": [
              "   sepal length (cm)  sepal width (cm)  ...  petal width (cm)  Species\n",
              "0                5.1               3.5  ...               0.2        0\n",
              "1                4.9               3.0  ...               0.2        0\n",
              "2                4.7               3.2  ...               0.2        0\n",
              "3                4.6               3.1  ...               0.2        0\n",
              "4                5.0               3.6  ...               0.2        0\n",
              "\n",
              "[5 rows x 5 columns]"
            ]
          },
          "metadata": {
            "tags": []
          },
          "execution_count": 6
        }
      ]
    },
    {
      "cell_type": "markdown",
      "metadata": {
        "id": "5yJr5dNiautq"
      },
      "source": [
        "* Train Test split"
      ]
    },
    {
      "cell_type": "code",
      "metadata": {
        "id": "JumJM7znakWR"
      },
      "source": [
        "from config import config\n",
        "from src.processing.data_management import TrainTestSplit"
      ],
      "execution_count": 7,
      "outputs": []
    },
    {
      "cell_type": "code",
      "metadata": {
        "id": "Wp5nl2pHaxMy"
      },
      "source": [
        " X_train, X_test,y_train, y_test = TrainTestSplit(df=df,TARGET=config.ClfIrisSpecies_TARGET)"
      ],
      "execution_count": 8,
      "outputs": []
    },
    {
      "cell_type": "code",
      "metadata": {
        "id": "8qOHD-TSPDbn"
      },
      "source": [
        ""
      ],
      "execution_count": 22,
      "outputs": []
    },
    {
      "cell_type": "markdown",
      "metadata": {
        "id": "6NM6PH_3bsIK"
      },
      "source": [
        "# Grid Search on 1 pipeline"
      ]
    },
    {
      "cell_type": "code",
      "metadata": {
        "id": "r2QTcEfHbSqf"
      },
      "source": [
        "from config import config\n",
        "from sklearn.pipeline import Pipeline\n",
        "from sklearn.feature_selection import SelectFromModel\n",
        "from sklearn.preprocessing import StandardScaler\n",
        "from sklearn.tree import DecisionTreeClassifier \n",
        "from sklearn.model_selection import GridSearchCV\n",
        "\n",
        "ClfIrisSpecies_DT = Pipeline(\n",
        "    [       \n",
        "        (\"feat_selection\",SelectFromModel(DecisionTreeClassifier(random_state=config.RANDOM_STATE))),\n",
        "        (\"feat_scaling\",StandardScaler()),\n",
        "        (\"model\", DecisionTreeClassifier(random_state=config.RANDOM_STATE))\n",
        "    ]\n",
        ")\n",
        "\n",
        "\n",
        "_parameters = {\n",
        "    'model__splitter': [\"best\",\"random\"],\n",
        "    'model__max_depth': [None,3,5,10],\n",
        "    'model__criterion': [\"gini\", \"entropy\"]\n",
        "}\n",
        "\n",
        "\n",
        "_pipe = GridSearchCV(\n",
        "\t\testimator = ClfIrisSpecies_DT,\n",
        "\t\tparam_grid = _parameters, \n",
        "\t\tcv=5,n_jobs=-2,verbose=2)"
      ],
      "execution_count": 59,
      "outputs": []
    },
    {
      "cell_type": "code",
      "metadata": {
        "colab": {
          "base_uri": "https://localhost:8080/"
        },
        "id": "_2VbAbZHecnz",
        "outputId": "561de682-9de1-4f6d-e4f7-32a37f6b5f75"
      },
      "source": [
        "_pipe.fit(X_train, y_train)"
      ],
      "execution_count": 60,
      "outputs": [
        {
          "output_type": "stream",
          "text": [
            "Fitting 5 folds for each of 16 candidates, totalling 80 fits\n",
            "[CV] model__criterion=gini, model__max_depth=None, model__splitter=best \n",
            "[CV]  model__criterion=gini, model__max_depth=None, model__splitter=best, total=   0.0s\n",
            "[CV] model__criterion=gini, model__max_depth=None, model__splitter=best \n",
            "[CV]  model__criterion=gini, model__max_depth=None, model__splitter=best, total=   0.0s\n",
            "[CV] model__criterion=gini, model__max_depth=None, model__splitter=best \n",
            "[CV]  model__criterion=gini, model__max_depth=None, model__splitter=best, total=   0.0s\n",
            "[CV] model__criterion=gini, model__max_depth=None, model__splitter=best \n",
            "[CV]  model__criterion=gini, model__max_depth=None, model__splitter=best, total=   0.0s\n",
            "[CV] model__criterion=gini, model__max_depth=None, model__splitter=best \n",
            "[CV]  model__criterion=gini, model__max_depth=None, model__splitter=best, total=   0.0s\n",
            "[CV] model__criterion=gini, model__max_depth=None, model__splitter=random \n",
            "[CV]  model__criterion=gini, model__max_depth=None, model__splitter=random, total=   0.0s\n",
            "[CV] model__criterion=gini, model__max_depth=None, model__splitter=random \n",
            "[CV]  model__criterion=gini, model__max_depth=None, model__splitter=random, total=   0.0s\n",
            "[CV] model__criterion=gini, model__max_depth=None, model__splitter=random \n",
            "[CV]  model__criterion=gini, model__max_depth=None, model__splitter=random, total=   0.0s\n",
            "[CV] model__criterion=gini, model__max_depth=None, model__splitter=random \n",
            "[CV]  model__criterion=gini, model__max_depth=None, model__splitter=random, total=   0.0s\n",
            "[CV] model__criterion=gini, model__max_depth=None, model__splitter=random \n",
            "[CV]  model__criterion=gini, model__max_depth=None, model__splitter=random, total=   0.0s\n",
            "[CV] model__criterion=gini, model__max_depth=3, model__splitter=best .\n",
            "[CV]  model__criterion=gini, model__max_depth=3, model__splitter=best, total=   0.0s\n",
            "[CV] model__criterion=gini, model__max_depth=3, model__splitter=best .\n",
            "[CV]  model__criterion=gini, model__max_depth=3, model__splitter=best, total=   0.0s\n",
            "[CV] model__criterion=gini, model__max_depth=3, model__splitter=best .\n",
            "[CV]  model__criterion=gini, model__max_depth=3, model__splitter=best, total=   0.0s\n",
            "[CV] model__criterion=gini, model__max_depth=3, model__splitter=best .\n",
            "[CV]  model__criterion=gini, model__max_depth=3, model__splitter=best, total=   0.0s\n",
            "[CV] model__criterion=gini, model__max_depth=3, model__splitter=best .\n",
            "[CV]  model__criterion=gini, model__max_depth=3, model__splitter=best, total=   0.0s\n",
            "[CV] model__criterion=gini, model__max_depth=3, model__splitter=random \n",
            "[CV]  model__criterion=gini, model__max_depth=3, model__splitter=random, total=   0.0s\n",
            "[CV] model__criterion=gini, model__max_depth=3, model__splitter=random \n",
            "[CV]  model__criterion=gini, model__max_depth=3, model__splitter=random, total=   0.0s\n",
            "[CV] model__criterion=gini, model__max_depth=3, model__splitter=random \n",
            "[CV]  model__criterion=gini, model__max_depth=3, model__splitter=random, total=   0.0s\n",
            "[CV] model__criterion=gini, model__max_depth=3, model__splitter=random \n",
            "[CV]  model__criterion=gini, model__max_depth=3, model__splitter=random, total=   0.0s\n",
            "[CV] model__criterion=gini, model__max_depth=3, model__splitter=random \n",
            "[CV]  model__criterion=gini, model__max_depth=3, model__splitter=random, total=   0.0s\n",
            "[CV] model__criterion=gini, model__max_depth=5, model__splitter=best .\n",
            "[CV]  model__criterion=gini, model__max_depth=5, model__splitter=best, total=   0.0s\n",
            "[CV] model__criterion=gini, model__max_depth=5, model__splitter=best .\n",
            "[CV]  model__criterion=gini, model__max_depth=5, model__splitter=best, total=   0.0s\n",
            "[CV] model__criterion=gini, model__max_depth=5, model__splitter=best .\n",
            "[CV]  model__criterion=gini, model__max_depth=5, model__splitter=best, total=   0.0s\n",
            "[CV] model__criterion=gini, model__max_depth=5, model__splitter=best .\n",
            "[CV]  model__criterion=gini, model__max_depth=5, model__splitter=best, total=   0.0s\n",
            "[CV] model__criterion=gini, model__max_depth=5, model__splitter=best .\n",
            "[CV]  model__criterion=gini, model__max_depth=5, model__splitter=best, total=   0.0s\n",
            "[CV] model__criterion=gini, model__max_depth=5, model__splitter=random \n",
            "[CV]  model__criterion=gini, model__max_depth=5, model__splitter=random, total=   0.0s\n",
            "[CV] model__criterion=gini, model__max_depth=5, model__splitter=random \n",
            "[CV]  model__criterion=gini, model__max_depth=5, model__splitter=random, total=   0.0s\n",
            "[CV] model__criterion=gini, model__max_depth=5, model__splitter=random \n",
            "[CV]  model__criterion=gini, model__max_depth=5, model__splitter=random, total=   0.0s\n",
            "[CV] model__criterion=gini, model__max_depth=5, model__splitter=random \n",
            "[CV]  model__criterion=gini, model__max_depth=5, model__splitter=random, total=   0.0s\n",
            "[CV] model__criterion=gini, model__max_depth=5, model__splitter=random \n",
            "[CV]  model__criterion=gini, model__max_depth=5, model__splitter=random, total=   0.0s\n",
            "[CV] model__criterion=gini, model__max_depth=10, model__splitter=best \n"
          ],
          "name": "stdout"
        },
        {
          "output_type": "stream",
          "text": [
            "[Parallel(n_jobs=-2)]: Using backend SequentialBackend with 1 concurrent workers.\n",
            "[Parallel(n_jobs=-2)]: Done   1 out of   1 | elapsed:    0.0s remaining:    0.0s\n"
          ],
          "name": "stderr"
        },
        {
          "output_type": "stream",
          "text": [
            "[CV]  model__criterion=gini, model__max_depth=10, model__splitter=best, total=   0.0s\n",
            "[CV] model__criterion=gini, model__max_depth=10, model__splitter=best \n",
            "[CV]  model__criterion=gini, model__max_depth=10, model__splitter=best, total=   0.0s\n",
            "[CV] model__criterion=gini, model__max_depth=10, model__splitter=best \n",
            "[CV]  model__criterion=gini, model__max_depth=10, model__splitter=best, total=   0.0s\n",
            "[CV] model__criterion=gini, model__max_depth=10, model__splitter=best \n",
            "[CV]  model__criterion=gini, model__max_depth=10, model__splitter=best, total=   0.0s\n",
            "[CV] model__criterion=gini, model__max_depth=10, model__splitter=best \n",
            "[CV]  model__criterion=gini, model__max_depth=10, model__splitter=best, total=   0.0s\n",
            "[CV] model__criterion=gini, model__max_depth=10, model__splitter=random \n",
            "[CV]  model__criterion=gini, model__max_depth=10, model__splitter=random, total=   0.0s\n",
            "[CV] model__criterion=gini, model__max_depth=10, model__splitter=random \n",
            "[CV]  model__criterion=gini, model__max_depth=10, model__splitter=random, total=   0.0s\n",
            "[CV] model__criterion=gini, model__max_depth=10, model__splitter=random \n",
            "[CV]  model__criterion=gini, model__max_depth=10, model__splitter=random, total=   0.0s\n",
            "[CV] model__criterion=gini, model__max_depth=10, model__splitter=random \n",
            "[CV]  model__criterion=gini, model__max_depth=10, model__splitter=random, total=   0.0s\n",
            "[CV] model__criterion=gini, model__max_depth=10, model__splitter=random \n",
            "[CV]  model__criterion=gini, model__max_depth=10, model__splitter=random, total=   0.0s\n",
            "[CV] model__criterion=entropy, model__max_depth=None, model__splitter=best \n",
            "[CV]  model__criterion=entropy, model__max_depth=None, model__splitter=best, total=   0.0s\n",
            "[CV] model__criterion=entropy, model__max_depth=None, model__splitter=best \n",
            "[CV]  model__criterion=entropy, model__max_depth=None, model__splitter=best, total=   0.0s\n",
            "[CV] model__criterion=entropy, model__max_depth=None, model__splitter=best \n",
            "[CV]  model__criterion=entropy, model__max_depth=None, model__splitter=best, total=   0.0s\n",
            "[CV] model__criterion=entropy, model__max_depth=None, model__splitter=best \n",
            "[CV]  model__criterion=entropy, model__max_depth=None, model__splitter=best, total=   0.0s\n",
            "[CV] model__criterion=entropy, model__max_depth=None, model__splitter=best \n",
            "[CV]  model__criterion=entropy, model__max_depth=None, model__splitter=best, total=   0.0s\n",
            "[CV] model__criterion=entropy, model__max_depth=None, model__splitter=random \n",
            "[CV]  model__criterion=entropy, model__max_depth=None, model__splitter=random, total=   0.0s\n",
            "[CV] model__criterion=entropy, model__max_depth=None, model__splitter=random \n",
            "[CV]  model__criterion=entropy, model__max_depth=None, model__splitter=random, total=   0.0s\n",
            "[CV] model__criterion=entropy, model__max_depth=None, model__splitter=random \n",
            "[CV]  model__criterion=entropy, model__max_depth=None, model__splitter=random, total=   0.0s\n",
            "[CV] model__criterion=entropy, model__max_depth=None, model__splitter=random \n",
            "[CV]  model__criterion=entropy, model__max_depth=None, model__splitter=random, total=   0.0s\n",
            "[CV] model__criterion=entropy, model__max_depth=None, model__splitter=random \n",
            "[CV]  model__criterion=entropy, model__max_depth=None, model__splitter=random, total=   0.0s\n",
            "[CV] model__criterion=entropy, model__max_depth=3, model__splitter=best \n",
            "[CV]  model__criterion=entropy, model__max_depth=3, model__splitter=best, total=   0.0s\n",
            "[CV] model__criterion=entropy, model__max_depth=3, model__splitter=best \n",
            "[CV]  model__criterion=entropy, model__max_depth=3, model__splitter=best, total=   0.0s\n",
            "[CV] model__criterion=entropy, model__max_depth=3, model__splitter=best \n",
            "[CV]  model__criterion=entropy, model__max_depth=3, model__splitter=best, total=   0.0s\n",
            "[CV] model__criterion=entropy, model__max_depth=3, model__splitter=best \n",
            "[CV]  model__criterion=entropy, model__max_depth=3, model__splitter=best, total=   0.0s\n",
            "[CV] model__criterion=entropy, model__max_depth=3, model__splitter=best \n",
            "[CV]  model__criterion=entropy, model__max_depth=3, model__splitter=best, total=   0.0s\n",
            "[CV] model__criterion=entropy, model__max_depth=3, model__splitter=random \n",
            "[CV]  model__criterion=entropy, model__max_depth=3, model__splitter=random, total=   0.0s\n",
            "[CV] model__criterion=entropy, model__max_depth=3, model__splitter=random \n",
            "[CV]  model__criterion=entropy, model__max_depth=3, model__splitter=random, total=   0.0s\n",
            "[CV] model__criterion=entropy, model__max_depth=3, model__splitter=random \n",
            "[CV]  model__criterion=entropy, model__max_depth=3, model__splitter=random, total=   0.0s\n",
            "[CV] model__criterion=entropy, model__max_depth=3, model__splitter=random \n",
            "[CV]  model__criterion=entropy, model__max_depth=3, model__splitter=random, total=   0.0s\n",
            "[CV] model__criterion=entropy, model__max_depth=3, model__splitter=random \n",
            "[CV]  model__criterion=entropy, model__max_depth=3, model__splitter=random, total=   0.0s\n",
            "[CV] model__criterion=entropy, model__max_depth=5, model__splitter=best \n",
            "[CV]  model__criterion=entropy, model__max_depth=5, model__splitter=best, total=   0.0s\n",
            "[CV] model__criterion=entropy, model__max_depth=5, model__splitter=best \n",
            "[CV]  model__criterion=entropy, model__max_depth=5, model__splitter=best, total=   0.0s\n",
            "[CV] model__criterion=entropy, model__max_depth=5, model__splitter=best \n",
            "[CV]  model__criterion=entropy, model__max_depth=5, model__splitter=best, total=   0.0s\n",
            "[CV] model__criterion=entropy, model__max_depth=5, model__splitter=best \n",
            "[CV]  model__criterion=entropy, model__max_depth=5, model__splitter=best, total=   0.0s\n",
            "[CV] model__criterion=entropy, model__max_depth=5, model__splitter=best \n",
            "[CV]  model__criterion=entropy, model__max_depth=5, model__splitter=best, total=   0.0s\n",
            "[CV] model__criterion=entropy, model__max_depth=5, model__splitter=random \n",
            "[CV]  model__criterion=entropy, model__max_depth=5, model__splitter=random, total=   0.0s\n",
            "[CV] model__criterion=entropy, model__max_depth=5, model__splitter=random \n",
            "[CV]  model__criterion=entropy, model__max_depth=5, model__splitter=random, total=   0.0s\n",
            "[CV] model__criterion=entropy, model__max_depth=5, model__splitter=random \n",
            "[CV]  model__criterion=entropy, model__max_depth=5, model__splitter=random, total=   0.0s\n",
            "[CV] model__criterion=entropy, model__max_depth=5, model__splitter=random \n",
            "[CV]  model__criterion=entropy, model__max_depth=5, model__splitter=random, total=   0.0s\n",
            "[CV] model__criterion=entropy, model__max_depth=5, model__splitter=random \n",
            "[CV]  model__criterion=entropy, model__max_depth=5, model__splitter=random, total=   0.0s\n",
            "[CV] model__criterion=entropy, model__max_depth=10, model__splitter=best \n",
            "[CV]  model__criterion=entropy, model__max_depth=10, model__splitter=best, total=   0.0s\n",
            "[CV] model__criterion=entropy, model__max_depth=10, model__splitter=best \n",
            "[CV]  model__criterion=entropy, model__max_depth=10, model__splitter=best, total=   0.0s\n",
            "[CV] model__criterion=entropy, model__max_depth=10, model__splitter=best \n",
            "[CV]  model__criterion=entropy, model__max_depth=10, model__splitter=best, total=   0.0s\n",
            "[CV] model__criterion=entropy, model__max_depth=10, model__splitter=best \n",
            "[CV]  model__criterion=entropy, model__max_depth=10, model__splitter=best, total=   0.0s\n",
            "[CV] model__criterion=entropy, model__max_depth=10, model__splitter=best \n",
            "[CV]  model__criterion=entropy, model__max_depth=10, model__splitter=best, total=   0.0s\n",
            "[CV] model__criterion=entropy, model__max_depth=10, model__splitter=random \n",
            "[CV]  model__criterion=entropy, model__max_depth=10, model__splitter=random, total=   0.0s\n",
            "[CV] model__criterion=entropy, model__max_depth=10, model__splitter=random \n",
            "[CV]  model__criterion=entropy, model__max_depth=10, model__splitter=random, total=   0.0s\n",
            "[CV] model__criterion=entropy, model__max_depth=10, model__splitter=random \n",
            "[CV]  model__criterion=entropy, model__max_depth=10, model__splitter=random, total=   0.0s\n",
            "[CV] model__criterion=entropy, model__max_depth=10, model__splitter=random \n",
            "[CV]  model__criterion=entropy, model__max_depth=10, model__splitter=random, total=   0.0s\n",
            "[CV] model__criterion=entropy, model__max_depth=10, model__splitter=random \n",
            "[CV]  model__criterion=entropy, model__max_depth=10, model__splitter=random, total=   0.0s\n"
          ],
          "name": "stdout"
        },
        {
          "output_type": "stream",
          "text": [
            "[Parallel(n_jobs=-2)]: Done  80 out of  80 | elapsed:    0.5s finished\n"
          ],
          "name": "stderr"
        },
        {
          "output_type": "execute_result",
          "data": {
            "text/plain": [
              "GridSearchCV(cv=5, error_score=nan,\n",
              "             estimator=Pipeline(memory=None,\n",
              "                                steps=[('feat_selection',\n",
              "                                        SelectFromModel(estimator=DecisionTreeClassifier(ccp_alpha=0.0,\n",
              "                                                                                         class_weight=None,\n",
              "                                                                                         criterion='gini',\n",
              "                                                                                         max_depth=None,\n",
              "                                                                                         max_features=None,\n",
              "                                                                                         max_leaf_nodes=None,\n",
              "                                                                                         min_impurity_decrease=0.0,\n",
              "                                                                                         min_impurity_split=None,\n",
              "                                                                                         min_samples_leaf=1,\n",
              "                                                                                         min_samples_split=2,\n",
              "                                                                                         min_weight_fraction_...\n",
              "                                                               min_samples_leaf=1,\n",
              "                                                               min_samples_split=2,\n",
              "                                                               min_weight_fraction_leaf=0.0,\n",
              "                                                               presort='deprecated',\n",
              "                                                               random_state=0,\n",
              "                                                               splitter='best'))],\n",
              "                                verbose=False),\n",
              "             iid='deprecated', n_jobs=-2,\n",
              "             param_grid={'model__criterion': ['gini', 'entropy'],\n",
              "                         'model__max_depth': [None, 3, 5, 10],\n",
              "                         'model__splitter': ['best', 'random']},\n",
              "             pre_dispatch='2*n_jobs', refit=True, return_train_score=False,\n",
              "             scoring=None, verbose=2)"
            ]
          },
          "metadata": {
            "tags": []
          },
          "execution_count": 60
        }
      ]
    },
    {
      "cell_type": "code",
      "metadata": {
        "colab": {
          "base_uri": "https://localhost:8080/"
        },
        "id": "-5GHuutxfpyD",
        "outputId": "76c8cb90-dd55-43bb-beda-81774757f1be"
      },
      "source": [
        "PipelineToDeploy = _pipe.best_estimator_\n",
        "PipelineToDeploy"
      ],
      "execution_count": 98,
      "outputs": [
        {
          "output_type": "execute_result",
          "data": {
            "text/plain": [
              "Pipeline(memory=None,\n",
              "         steps=[('feat_selection',\n",
              "                 SelectFromModel(estimator=DecisionTreeClassifier(ccp_alpha=0.0,\n",
              "                                                                  class_weight=None,\n",
              "                                                                  criterion='gini',\n",
              "                                                                  max_depth=None,\n",
              "                                                                  max_features=None,\n",
              "                                                                  max_leaf_nodes=None,\n",
              "                                                                  min_impurity_decrease=0.0,\n",
              "                                                                  min_impurity_split=None,\n",
              "                                                                  min_samples_leaf=1,\n",
              "                                                                  min_samples_split=2,\n",
              "                                                                  min_weight_fraction_leaf=0.0,\n",
              "                                                                  presort='deprecated',\n",
              "                                                                  random_state=0...\n",
              "                 StandardScaler(copy=True, with_mean=True, with_std=True)),\n",
              "                ('model',\n",
              "                 DecisionTreeClassifier(ccp_alpha=0.0, class_weight=None,\n",
              "                                        criterion='gini', max_depth=None,\n",
              "                                        max_features=None, max_leaf_nodes=None,\n",
              "                                        min_impurity_decrease=0.0,\n",
              "                                        min_impurity_split=None,\n",
              "                                        min_samples_leaf=1, min_samples_split=2,\n",
              "                                        min_weight_fraction_leaf=0.0,\n",
              "                                        presort='deprecated', random_state=0,\n",
              "                                        splitter='best'))],\n",
              "         verbose=False)"
            ]
          },
          "metadata": {
            "tags": []
          },
          "execution_count": 98
        }
      ]
    },
    {
      "cell_type": "code",
      "metadata": {
        "id": "yWtDZiOTae-c",
        "outputId": "5b42b114-6c20-43e3-893a-4d8552cba782",
        "colab": {
          "base_uri": "https://localhost:8080/"
        }
      },
      "source": [
        "_pipe.best_params_"
      ],
      "execution_count": 70,
      "outputs": [
        {
          "output_type": "execute_result",
          "data": {
            "text/plain": [
              "{'model__criterion': 'gini',\n",
              " 'model__max_depth': None,\n",
              " 'model__splitter': 'best'}"
            ]
          },
          "metadata": {
            "tags": []
          },
          "execution_count": 70
        }
      ]
    },
    {
      "cell_type": "code",
      "metadata": {
        "id": "_Ja12eaYa8qI",
        "outputId": "c206a4e6-d9d2-43d8-e767-b33909454deb",
        "colab": {
          "base_uri": "https://localhost:8080/"
        }
      },
      "source": [
        "# main features in this pipeline -taken from feat selection step\n",
        "X_train.columns[PipelineToDeploy['feat_selection'].get_support()].to_list()"
      ],
      "execution_count": 99,
      "outputs": [
        {
          "output_type": "execute_result",
          "data": {
            "text/plain": [
              "['petal width (cm)']"
            ]
          },
          "metadata": {
            "tags": []
          },
          "execution_count": 99
        }
      ]
    },
    {
      "cell_type": "code",
      "metadata": {
        "id": "cFDWRh_AddEf",
        "outputId": "71b2f785-a888-4b00-ab46-543f349334fe",
        "colab": {
          "base_uri": "https://localhost:8080/"
        }
      },
      "source": [
        "from sklearn.metrics import classification_report\n",
        "print( classification_report(y_test, PipelineToDeploy.predict(X_test)) )"
      ],
      "execution_count": 104,
      "outputs": [
        {
          "output_type": "stream",
          "text": [
            "              precision    recall  f1-score   support\n",
            "\n",
            "           0       1.00      1.00      1.00        10\n",
            "           1       0.83      1.00      0.91        10\n",
            "           2       1.00      0.80      0.89        10\n",
            "\n",
            "    accuracy                           0.93        30\n",
            "   macro avg       0.94      0.93      0.93        30\n",
            "weighted avg       0.94      0.93      0.93        30\n",
            "\n"
          ],
          "name": "stdout"
        }
      ]
    },
    {
      "cell_type": "markdown",
      "metadata": {
        "id": "bo88lAxHbwJe"
      },
      "source": [
        "# Grid Search on Stacking pipeline"
      ]
    },
    {
      "cell_type": "code",
      "metadata": {
        "id": "OFnoNBUFbT50"
      },
      "source": [
        "from config import config\n",
        "from sklearn.pipeline import Pipeline\n",
        "\n",
        "from sklearn.feature_selection import SelectFromModel\n",
        "from sklearn.preprocessing import StandardScaler\n",
        "\n",
        "from sklearn.tree import DecisionTreeClassifier \n",
        "from sklearn.ensemble import GradientBoostingClassifier\n",
        "from sklearn.ensemble import RandomForestClassifier\n",
        "\n",
        "from sklearn.model_selection import GridSearchCV\n",
        "\n",
        "# from mlxtend.classifier import StackingClassifier\n",
        "from sklearn.linear_model import LogisticRegression\n",
        "\n",
        "from sklearn.ensemble import StackingClassifier"
      ],
      "execution_count": 112,
      "outputs": []
    },
    {
      "cell_type": "code",
      "metadata": {
        "id": "P6lpqWnGSYJL"
      },
      "source": [
        "ClfIrisSpecies_DT = Pipeline(\n",
        "    [       \n",
        "        (\"feat_selection\",SelectFromModel(DecisionTreeClassifier(random_state=config.RANDOM_STATE))),\n",
        "        (\"feat_scaling\",StandardScaler()),\n",
        "        (\"model\", DecisionTreeClassifier(random_state=config.RANDOM_STATE))\n",
        "    ]\n",
        ")\n",
        "\n",
        "\n",
        "_parameters_DT = {\n",
        "    'model__splitter': [\"best\",\"random\"],\n",
        "    'model__max_depth': [None,3,10],\n",
        "    'model__criterion': [\"gini\", \"entropy\"]\n",
        "}\n",
        "\n",
        "\n",
        "PipelineClfIrisSpecies_DT = GridSearchCV(\n",
        "\t\testimator = ClfIrisSpecies_DT,\n",
        "\t\tparam_grid = _parameters_DT, \n",
        "\t\tcv = 5,n_jobs = -2,verbose = 2,refit=True)\n",
        "\n"
      ],
      "execution_count": 113,
      "outputs": []
    },
    {
      "cell_type": "code",
      "metadata": {
        "id": "77hCNk90RoJi"
      },
      "source": [
        "ClfIrisSpecies_RF = Pipeline(\n",
        "    [       \n",
        "        (\"feat_selection\",SelectFromModel(RandomForestClassifier(random_state=config.RANDOM_STATE))),\n",
        "        (\"feat_scaling\",StandardScaler()),\n",
        "        (\"model\", RandomForestClassifier(random_state=config.RANDOM_STATE))\n",
        "    ]\n",
        ")\n",
        "\n",
        "_parameters_RF = {\n",
        "    'model__n_estimators': [100,50],\n",
        "    'model__max_depth': [None,5,10],\n",
        "    'model__criterion': [\"gini\", \"entropy\"]\n",
        "}\n",
        "\n",
        "PipelineClfIrisSpecies_RF = GridSearchCV(\n",
        "\t\testimator = ClfIrisSpecies_RF,\n",
        "\t\tparam_grid = _parameters_RF, \n",
        "\t\tcv = 5,n_jobs = -2,verbose = 2,refit=True)\n",
        "\n"
      ],
      "execution_count": 114,
      "outputs": []
    },
    {
      "cell_type": "code",
      "metadata": {
        "id": "2DzRWLe8bfeX"
      },
      "source": [
        "ClfIrisSpecies_GB = Pipeline(\n",
        "    [       \n",
        "        (\"feat_selection\",SelectFromModel(GradientBoostingClassifier(random_state=config.RANDOM_STATE))),\n",
        "        (\"feat_scaling\",StandardScaler()),\n",
        "        (\"model\", GradientBoostingClassifier(random_state=config.RANDOM_STATE,learning_rate=0.1))\n",
        "    ]\n",
        ")\n",
        "\n",
        "_parameters_GB = {\n",
        "    'model__learning_rate': [1e-1,1e-2],\n",
        "    'model__n_estimators': [100,50]\n",
        "}\n",
        "\n",
        "\n",
        "PipelineClfIrisSpecies_GB = GridSearchCV(\n",
        "\t\testimator = ClfIrisSpecies_GB,\n",
        "\t\tparam_grid = _parameters_GB, \n",
        "\t\tcv = 5,n_jobs = -2,verbose = 2,refit=True)\n",
        "\n"
      ],
      "execution_count": 115,
      "outputs": []
    },
    {
      "cell_type": "code",
      "metadata": {
        "id": "O20QBKEljusR"
      },
      "source": [
        "estimators = [\n",
        "            (\"GB\",PipelineClfIrisSpecies_GB),\n",
        "            (\"RF\",PipelineClfIrisSpecies_RF),\n",
        "            (\"DT\",PipelineClfIrisSpecies_DT)\n",
        "        ]\n",
        "\n",
        "ClfIrisStacking = StackingClassifier(\n",
        "    estimators=estimators,\n",
        "    # use_probas=True,\n",
        "    final_estimator=LogisticRegression(solver='liblinear')\n",
        ")\n"
      ],
      "execution_count": 116,
      "outputs": []
    },
    {
      "cell_type": "code",
      "metadata": {
        "colab": {
          "base_uri": "https://localhost:8080/"
        },
        "id": "fioy3-mlju3P",
        "outputId": "2c29c4c2-fb9a-4ce6-8c6f-872cda083271"
      },
      "source": [
        "ClfIrisStacking.fit(X_train,y_train)"
      ],
      "execution_count": 117,
      "outputs": [
        {
          "output_type": "stream",
          "text": [
            "Fitting 5 folds for each of 4 candidates, totalling 20 fits\n",
            "[CV] model__learning_rate=0.1, model__n_estimators=100 ...............\n"
          ],
          "name": "stdout"
        },
        {
          "output_type": "stream",
          "text": [
            "[Parallel(n_jobs=-2)]: Using backend SequentialBackend with 1 concurrent workers.\n"
          ],
          "name": "stderr"
        },
        {
          "output_type": "stream",
          "text": [
            "[CV]  model__learning_rate=0.1, model__n_estimators=100, total=   0.3s\n",
            "[CV] model__learning_rate=0.1, model__n_estimators=100 ...............\n"
          ],
          "name": "stdout"
        },
        {
          "output_type": "stream",
          "text": [
            "[Parallel(n_jobs=-2)]: Done   1 out of   1 | elapsed:    0.3s remaining:    0.0s\n"
          ],
          "name": "stderr"
        },
        {
          "output_type": "stream",
          "text": [
            "[CV]  model__learning_rate=0.1, model__n_estimators=100, total=   0.3s\n",
            "[CV] model__learning_rate=0.1, model__n_estimators=100 ...............\n",
            "[CV]  model__learning_rate=0.1, model__n_estimators=100, total=   0.3s\n",
            "[CV] model__learning_rate=0.1, model__n_estimators=100 ...............\n",
            "[CV]  model__learning_rate=0.1, model__n_estimators=100, total=   0.3s\n",
            "[CV] model__learning_rate=0.1, model__n_estimators=100 ...............\n",
            "[CV]  model__learning_rate=0.1, model__n_estimators=100, total=   0.3s\n",
            "[CV] model__learning_rate=0.1, model__n_estimators=50 ................\n",
            "[CV] . model__learning_rate=0.1, model__n_estimators=50, total=   0.3s\n",
            "[CV] model__learning_rate=0.1, model__n_estimators=50 ................\n",
            "[CV] . model__learning_rate=0.1, model__n_estimators=50, total=   0.3s\n",
            "[CV] model__learning_rate=0.1, model__n_estimators=50 ................\n",
            "[CV] . model__learning_rate=0.1, model__n_estimators=50, total=   0.3s\n",
            "[CV] model__learning_rate=0.1, model__n_estimators=50 ................\n",
            "[CV] . model__learning_rate=0.1, model__n_estimators=50, total=   0.3s\n",
            "[CV] model__learning_rate=0.1, model__n_estimators=50 ................\n",
            "[CV] . model__learning_rate=0.1, model__n_estimators=50, total=   0.2s\n",
            "[CV] model__learning_rate=0.01, model__n_estimators=100 ..............\n",
            "[CV]  model__learning_rate=0.01, model__n_estimators=100, total=   0.4s\n",
            "[CV] model__learning_rate=0.01, model__n_estimators=100 ..............\n",
            "[CV]  model__learning_rate=0.01, model__n_estimators=100, total=   0.3s\n",
            "[CV] model__learning_rate=0.01, model__n_estimators=100 ..............\n",
            "[CV]  model__learning_rate=0.01, model__n_estimators=100, total=   0.3s\n",
            "[CV] model__learning_rate=0.01, model__n_estimators=100 ..............\n",
            "[CV]  model__learning_rate=0.01, model__n_estimators=100, total=   0.3s\n",
            "[CV] model__learning_rate=0.01, model__n_estimators=100 ..............\n",
            "[CV]  model__learning_rate=0.01, model__n_estimators=100, total=   0.3s\n",
            "[CV] model__learning_rate=0.01, model__n_estimators=50 ...............\n",
            "[CV]  model__learning_rate=0.01, model__n_estimators=50, total=   0.3s\n",
            "[CV] model__learning_rate=0.01, model__n_estimators=50 ...............\n",
            "[CV]  model__learning_rate=0.01, model__n_estimators=50, total=   0.2s\n",
            "[CV] model__learning_rate=0.01, model__n_estimators=50 ...............\n",
            "[CV]  model__learning_rate=0.01, model__n_estimators=50, total=   0.3s\n",
            "[CV] model__learning_rate=0.01, model__n_estimators=50 ...............\n",
            "[CV]  model__learning_rate=0.01, model__n_estimators=50, total=   0.2s\n",
            "[CV] model__learning_rate=0.01, model__n_estimators=50 ...............\n",
            "[CV]  model__learning_rate=0.01, model__n_estimators=50, total=   0.2s\n"
          ],
          "name": "stdout"
        },
        {
          "output_type": "stream",
          "text": [
            "[Parallel(n_jobs=-2)]: Done  20 out of  20 | elapsed:    5.8s finished\n"
          ],
          "name": "stderr"
        },
        {
          "output_type": "stream",
          "text": [
            "Fitting 5 folds for each of 12 candidates, totalling 60 fits\n",
            "[CV] model__criterion=gini, model__max_depth=None, model__n_estimators=100 \n"
          ],
          "name": "stdout"
        },
        {
          "output_type": "stream",
          "text": [
            "[Parallel(n_jobs=-2)]: Using backend SequentialBackend with 1 concurrent workers.\n"
          ],
          "name": "stderr"
        },
        {
          "output_type": "stream",
          "text": [
            "[CV]  model__criterion=gini, model__max_depth=None, model__n_estimators=100, total=   0.3s\n",
            "[CV] model__criterion=gini, model__max_depth=None, model__n_estimators=100 \n"
          ],
          "name": "stdout"
        },
        {
          "output_type": "stream",
          "text": [
            "[Parallel(n_jobs=-2)]: Done   1 out of   1 | elapsed:    0.3s remaining:    0.0s\n"
          ],
          "name": "stderr"
        },
        {
          "output_type": "stream",
          "text": [
            "[CV]  model__criterion=gini, model__max_depth=None, model__n_estimators=100, total=   0.3s\n",
            "[CV] model__criterion=gini, model__max_depth=None, model__n_estimators=100 \n",
            "[CV]  model__criterion=gini, model__max_depth=None, model__n_estimators=100, total=   0.3s\n",
            "[CV] model__criterion=gini, model__max_depth=None, model__n_estimators=100 \n",
            "[CV]  model__criterion=gini, model__max_depth=None, model__n_estimators=100, total=   0.3s\n",
            "[CV] model__criterion=gini, model__max_depth=None, model__n_estimators=100 \n",
            "[CV]  model__criterion=gini, model__max_depth=None, model__n_estimators=100, total=   0.3s\n",
            "[CV] model__criterion=gini, model__max_depth=None, model__n_estimators=50 \n",
            "[CV]  model__criterion=gini, model__max_depth=None, model__n_estimators=50, total=   0.2s\n",
            "[CV] model__criterion=gini, model__max_depth=None, model__n_estimators=50 \n",
            "[CV]  model__criterion=gini, model__max_depth=None, model__n_estimators=50, total=   0.2s\n",
            "[CV] model__criterion=gini, model__max_depth=None, model__n_estimators=50 \n",
            "[CV]  model__criterion=gini, model__max_depth=None, model__n_estimators=50, total=   0.2s\n",
            "[CV] model__criterion=gini, model__max_depth=None, model__n_estimators=50 \n",
            "[CV]  model__criterion=gini, model__max_depth=None, model__n_estimators=50, total=   0.2s\n",
            "[CV] model__criterion=gini, model__max_depth=None, model__n_estimators=50 \n",
            "[CV]  model__criterion=gini, model__max_depth=None, model__n_estimators=50, total=   0.2s\n",
            "[CV] model__criterion=gini, model__max_depth=5, model__n_estimators=100 \n",
            "[CV]  model__criterion=gini, model__max_depth=5, model__n_estimators=100, total=   0.3s\n",
            "[CV] model__criterion=gini, model__max_depth=5, model__n_estimators=100 \n",
            "[CV]  model__criterion=gini, model__max_depth=5, model__n_estimators=100, total=   0.3s\n",
            "[CV] model__criterion=gini, model__max_depth=5, model__n_estimators=100 \n",
            "[CV]  model__criterion=gini, model__max_depth=5, model__n_estimators=100, total=   0.3s\n",
            "[CV] model__criterion=gini, model__max_depth=5, model__n_estimators=100 \n",
            "[CV]  model__criterion=gini, model__max_depth=5, model__n_estimators=100, total=   0.3s\n",
            "[CV] model__criterion=gini, model__max_depth=5, model__n_estimators=100 \n",
            "[CV]  model__criterion=gini, model__max_depth=5, model__n_estimators=100, total=   0.3s\n",
            "[CV] model__criterion=gini, model__max_depth=5, model__n_estimators=50 \n",
            "[CV]  model__criterion=gini, model__max_depth=5, model__n_estimators=50, total=   0.2s\n",
            "[CV] model__criterion=gini, model__max_depth=5, model__n_estimators=50 \n",
            "[CV]  model__criterion=gini, model__max_depth=5, model__n_estimators=50, total=   0.2s\n",
            "[CV] model__criterion=gini, model__max_depth=5, model__n_estimators=50 \n",
            "[CV]  model__criterion=gini, model__max_depth=5, model__n_estimators=50, total=   0.2s\n",
            "[CV] model__criterion=gini, model__max_depth=5, model__n_estimators=50 \n",
            "[CV]  model__criterion=gini, model__max_depth=5, model__n_estimators=50, total=   0.2s\n",
            "[CV] model__criterion=gini, model__max_depth=5, model__n_estimators=50 \n",
            "[CV]  model__criterion=gini, model__max_depth=5, model__n_estimators=50, total=   0.2s\n",
            "[CV] model__criterion=gini, model__max_depth=10, model__n_estimators=100 \n",
            "[CV]  model__criterion=gini, model__max_depth=10, model__n_estimators=100, total=   0.3s\n",
            "[CV] model__criterion=gini, model__max_depth=10, model__n_estimators=100 \n",
            "[CV]  model__criterion=gini, model__max_depth=10, model__n_estimators=100, total=   0.3s\n",
            "[CV] model__criterion=gini, model__max_depth=10, model__n_estimators=100 \n",
            "[CV]  model__criterion=gini, model__max_depth=10, model__n_estimators=100, total=   0.3s\n",
            "[CV] model__criterion=gini, model__max_depth=10, model__n_estimators=100 \n",
            "[CV]  model__criterion=gini, model__max_depth=10, model__n_estimators=100, total=   0.3s\n",
            "[CV] model__criterion=gini, model__max_depth=10, model__n_estimators=100 \n",
            "[CV]  model__criterion=gini, model__max_depth=10, model__n_estimators=100, total=   0.3s\n",
            "[CV] model__criterion=gini, model__max_depth=10, model__n_estimators=50 \n",
            "[CV]  model__criterion=gini, model__max_depth=10, model__n_estimators=50, total=   0.2s\n",
            "[CV] model__criterion=gini, model__max_depth=10, model__n_estimators=50 \n",
            "[CV]  model__criterion=gini, model__max_depth=10, model__n_estimators=50, total=   0.2s\n",
            "[CV] model__criterion=gini, model__max_depth=10, model__n_estimators=50 \n",
            "[CV]  model__criterion=gini, model__max_depth=10, model__n_estimators=50, total=   0.2s\n",
            "[CV] model__criterion=gini, model__max_depth=10, model__n_estimators=50 \n",
            "[CV]  model__criterion=gini, model__max_depth=10, model__n_estimators=50, total=   0.2s\n",
            "[CV] model__criterion=gini, model__max_depth=10, model__n_estimators=50 \n",
            "[CV]  model__criterion=gini, model__max_depth=10, model__n_estimators=50, total=   0.2s\n",
            "[CV] model__criterion=entropy, model__max_depth=None, model__n_estimators=100 \n",
            "[CV]  model__criterion=entropy, model__max_depth=None, model__n_estimators=100, total=   0.3s\n",
            "[CV] model__criterion=entropy, model__max_depth=None, model__n_estimators=100 \n",
            "[CV]  model__criterion=entropy, model__max_depth=None, model__n_estimators=100, total=   0.3s\n",
            "[CV] model__criterion=entropy, model__max_depth=None, model__n_estimators=100 \n",
            "[CV]  model__criterion=entropy, model__max_depth=None, model__n_estimators=100, total=   0.3s\n",
            "[CV] model__criterion=entropy, model__max_depth=None, model__n_estimators=100 \n",
            "[CV]  model__criterion=entropy, model__max_depth=None, model__n_estimators=100, total=   0.3s\n",
            "[CV] model__criterion=entropy, model__max_depth=None, model__n_estimators=100 \n",
            "[CV]  model__criterion=entropy, model__max_depth=None, model__n_estimators=100, total=   0.3s\n",
            "[CV] model__criterion=entropy, model__max_depth=None, model__n_estimators=50 \n",
            "[CV]  model__criterion=entropy, model__max_depth=None, model__n_estimators=50, total=   0.2s\n",
            "[CV] model__criterion=entropy, model__max_depth=None, model__n_estimators=50 \n",
            "[CV]  model__criterion=entropy, model__max_depth=None, model__n_estimators=50, total=   0.2s\n",
            "[CV] model__criterion=entropy, model__max_depth=None, model__n_estimators=50 \n",
            "[CV]  model__criterion=entropy, model__max_depth=None, model__n_estimators=50, total=   0.2s\n",
            "[CV] model__criterion=entropy, model__max_depth=None, model__n_estimators=50 \n",
            "[CV]  model__criterion=entropy, model__max_depth=None, model__n_estimators=50, total=   0.2s\n",
            "[CV] model__criterion=entropy, model__max_depth=None, model__n_estimators=50 \n",
            "[CV]  model__criterion=entropy, model__max_depth=None, model__n_estimators=50, total=   0.2s\n",
            "[CV] model__criterion=entropy, model__max_depth=5, model__n_estimators=100 \n",
            "[CV]  model__criterion=entropy, model__max_depth=5, model__n_estimators=100, total=   0.3s\n",
            "[CV] model__criterion=entropy, model__max_depth=5, model__n_estimators=100 \n",
            "[CV]  model__criterion=entropy, model__max_depth=5, model__n_estimators=100, total=   0.3s\n",
            "[CV] model__criterion=entropy, model__max_depth=5, model__n_estimators=100 \n",
            "[CV]  model__criterion=entropy, model__max_depth=5, model__n_estimators=100, total=   0.3s\n",
            "[CV] model__criterion=entropy, model__max_depth=5, model__n_estimators=100 \n",
            "[CV]  model__criterion=entropy, model__max_depth=5, model__n_estimators=100, total=   0.3s\n",
            "[CV] model__criterion=entropy, model__max_depth=5, model__n_estimators=100 \n",
            "[CV]  model__criterion=entropy, model__max_depth=5, model__n_estimators=100, total=   0.3s\n",
            "[CV] model__criterion=entropy, model__max_depth=5, model__n_estimators=50 \n",
            "[CV]  model__criterion=entropy, model__max_depth=5, model__n_estimators=50, total=   0.2s\n",
            "[CV] model__criterion=entropy, model__max_depth=5, model__n_estimators=50 \n",
            "[CV]  model__criterion=entropy, model__max_depth=5, model__n_estimators=50, total=   0.2s\n",
            "[CV] model__criterion=entropy, model__max_depth=5, model__n_estimators=50 \n",
            "[CV]  model__criterion=entropy, model__max_depth=5, model__n_estimators=50, total=   0.2s\n",
            "[CV] model__criterion=entropy, model__max_depth=5, model__n_estimators=50 \n",
            "[CV]  model__criterion=entropy, model__max_depth=5, model__n_estimators=50, total=   0.2s\n",
            "[CV] model__criterion=entropy, model__max_depth=5, model__n_estimators=50 \n",
            "[CV]  model__criterion=entropy, model__max_depth=5, model__n_estimators=50, total=   0.2s\n",
            "[CV] model__criterion=entropy, model__max_depth=10, model__n_estimators=100 \n",
            "[CV]  model__criterion=entropy, model__max_depth=10, model__n_estimators=100, total=   0.3s\n",
            "[CV] model__criterion=entropy, model__max_depth=10, model__n_estimators=100 \n",
            "[CV]  model__criterion=entropy, model__max_depth=10, model__n_estimators=100, total=   0.3s\n",
            "[CV] model__criterion=entropy, model__max_depth=10, model__n_estimators=100 \n",
            "[CV]  model__criterion=entropy, model__max_depth=10, model__n_estimators=100, total=   0.3s\n",
            "[CV] model__criterion=entropy, model__max_depth=10, model__n_estimators=100 \n",
            "[CV]  model__criterion=entropy, model__max_depth=10, model__n_estimators=100, total=   0.3s\n",
            "[CV] model__criterion=entropy, model__max_depth=10, model__n_estimators=100 \n",
            "[CV]  model__criterion=entropy, model__max_depth=10, model__n_estimators=100, total=   0.3s\n",
            "[CV] model__criterion=entropy, model__max_depth=10, model__n_estimators=50 \n",
            "[CV]  model__criterion=entropy, model__max_depth=10, model__n_estimators=50, total=   0.2s\n",
            "[CV] model__criterion=entropy, model__max_depth=10, model__n_estimators=50 \n",
            "[CV]  model__criterion=entropy, model__max_depth=10, model__n_estimators=50, total=   0.2s\n",
            "[CV] model__criterion=entropy, model__max_depth=10, model__n_estimators=50 \n",
            "[CV]  model__criterion=entropy, model__max_depth=10, model__n_estimators=50, total=   0.2s\n",
            "[CV] model__criterion=entropy, model__max_depth=10, model__n_estimators=50 \n",
            "[CV]  model__criterion=entropy, model__max_depth=10, model__n_estimators=50, total=   0.2s\n",
            "[CV] model__criterion=entropy, model__max_depth=10, model__n_estimators=50 \n",
            "[CV]  model__criterion=entropy, model__max_depth=10, model__n_estimators=50, total=   0.2s\n"
          ],
          "name": "stdout"
        },
        {
          "output_type": "stream",
          "text": [
            "[Parallel(n_jobs=-2)]: Done  60 out of  60 | elapsed:   14.0s finished\n"
          ],
          "name": "stderr"
        },
        {
          "output_type": "stream",
          "text": [
            "Fitting 5 folds for each of 12 candidates, totalling 60 fits\n",
            "[CV] model__criterion=gini, model__max_depth=None, model__splitter=best \n",
            "[CV]  model__criterion=gini, model__max_depth=None, model__splitter=best, total=   0.0s\n",
            "[CV] model__criterion=gini, model__max_depth=None, model__splitter=best \n",
            "[CV]  model__criterion=gini, model__max_depth=None, model__splitter=best, total=   0.0s\n",
            "[CV] model__criterion=gini, model__max_depth=None, model__splitter=best \n",
            "[CV]  model__criterion=gini, model__max_depth=None, model__splitter=best, total=   0.0s\n",
            "[CV] model__criterion=gini, model__max_depth=None, model__splitter=best \n",
            "[CV]  model__criterion=gini, model__max_depth=None, model__splitter=best, total=   0.0s\n",
            "[CV] model__criterion=gini, model__max_depth=None, model__splitter=best \n",
            "[CV]  model__criterion=gini, model__max_depth=None, model__splitter=best, total=   0.0s\n",
            "[CV] model__criterion=gini, model__max_depth=None, model__splitter=random \n",
            "[CV]  model__criterion=gini, model__max_depth=None, model__splitter=random, total=   0.0s\n",
            "[CV] model__criterion=gini, model__max_depth=None, model__splitter=random \n",
            "[CV]  model__criterion=gini, model__max_depth=None, model__splitter=random, total=   0.0s\n",
            "[CV] model__criterion=gini, model__max_depth=None, model__splitter=random \n",
            "[CV]  model__criterion=gini, model__max_depth=None, model__splitter=random, total=   0.0s\n",
            "[CV] model__criterion=gini, model__max_depth=None, model__splitter=random \n",
            "[CV]  model__criterion=gini, model__max_depth=None, model__splitter=random, total=   0.0s\n",
            "[CV] model__criterion=gini, model__max_depth=None, model__splitter=random \n",
            "[CV]  model__criterion=gini, model__max_depth=None, model__splitter=random, total=   0.0s\n",
            "[CV] model__criterion=gini, model__max_depth=3, model__splitter=best .\n",
            "[CV]  model__criterion=gini, model__max_depth=3, model__splitter=best, total=   0.0s\n",
            "[CV] model__criterion=gini, model__max_depth=3, model__splitter=best .\n",
            "[CV]  model__criterion=gini, model__max_depth=3, model__splitter=best, total=   0.0s\n",
            "[CV] model__criterion=gini, model__max_depth=3, model__splitter=best .\n",
            "[CV]  model__criterion=gini, model__max_depth=3, model__splitter=best, total=   0.0s\n",
            "[CV] model__criterion=gini, model__max_depth=3, model__splitter=best .\n",
            "[CV]  model__criterion=gini, model__max_depth=3, model__splitter=best, total=   0.0s\n",
            "[CV] model__criterion=gini, model__max_depth=3, model__splitter=best .\n",
            "[CV]  model__criterion=gini, model__max_depth=3, model__splitter=best, total=   0.0s\n",
            "[CV] model__criterion=gini, model__max_depth=3, model__splitter=random \n",
            "[CV]  model__criterion=gini, model__max_depth=3, model__splitter=random, total=   0.0s\n",
            "[CV] model__criterion=gini, model__max_depth=3, model__splitter=random \n",
            "[CV]  model__criterion=gini, model__max_depth=3, model__splitter=random, total=   0.0s\n",
            "[CV] model__criterion=gini, model__max_depth=3, model__splitter=random \n",
            "[CV]  model__criterion=gini, model__max_depth=3, model__splitter=random, total=   0.0s\n",
            "[CV] model__criterion=gini, model__max_depth=3, model__splitter=random \n",
            "[CV]  model__criterion=gini, model__max_depth=3, model__splitter=random, total=   0.0s\n",
            "[CV] model__criterion=gini, model__max_depth=3, model__splitter=random \n",
            "[CV]  model__criterion=gini, model__max_depth=3, model__splitter=random, total=   0.0s\n",
            "[CV] model__criterion=gini, model__max_depth=10, model__splitter=best \n",
            "[CV]  model__criterion=gini, model__max_depth=10, model__splitter=best, total=   0.0s\n",
            "[CV] model__criterion=gini, model__max_depth=10, model__splitter=best \n",
            "[CV]  model__criterion=gini, model__max_depth=10, model__splitter=best, total=   0.0s\n",
            "[CV] model__criterion=gini, model__max_depth=10, model__splitter=best \n",
            "[CV]  model__criterion=gini, model__max_depth=10, model__splitter=best, total=   0.0s\n",
            "[CV] model__criterion=gini, model__max_depth=10, model__splitter=best \n",
            "[CV]  model__criterion=gini, model__max_depth=10, model__splitter=best, total=   0.0s\n",
            "[CV] model__criterion=gini, model__max_depth=10, model__splitter=best \n",
            "[CV]  model__criterion=gini, model__max_depth=10, model__splitter=best, total=   0.0s\n",
            "[CV] model__criterion=gini, model__max_depth=10, model__splitter=random \n",
            "[CV]  model__criterion=gini, model__max_depth=10, model__splitter=random, total=   0.0s\n",
            "[CV] model__criterion=gini, model__max_depth=10, model__splitter=random \n",
            "[CV]  model__criterion=gini, model__max_depth=10, model__splitter=random, total=   0.0s\n",
            "[CV] model__criterion=gini, model__max_depth=10, model__splitter=random \n",
            "[CV]  model__criterion=gini, model__max_depth=10, model__splitter=random, total=   0.0s\n",
            "[CV] model__criterion=gini, model__max_depth=10, model__splitter=random \n",
            "[CV]  model__criterion=gini, model__max_depth=10, model__splitter=random, total=   0.0s\n",
            "[CV] model__criterion=gini, model__max_depth=10, model__splitter=random \n",
            "[CV]  model__criterion=gini, model__max_depth=10, model__splitter=random, total=   0.0s\n",
            "[CV] model__criterion=entropy, model__max_depth=None, model__splitter=best \n",
            "[CV]  model__criterion=entropy, model__max_depth=None, model__splitter=best, total=   0.0s\n",
            "[CV] model__criterion=entropy, model__max_depth=None, model__splitter=best \n",
            "[CV]  model__criterion=entropy, model__max_depth=None, model__splitter=best, total=   0.0s\n",
            "[CV] model__criterion=entropy, model__max_depth=None, model__splitter=best \n"
          ],
          "name": "stdout"
        },
        {
          "output_type": "stream",
          "text": [
            "[Parallel(n_jobs=-2)]: Using backend SequentialBackend with 1 concurrent workers.\n",
            "[Parallel(n_jobs=-2)]: Done   1 out of   1 | elapsed:    0.0s remaining:    0.0s\n"
          ],
          "name": "stderr"
        },
        {
          "output_type": "stream",
          "text": [
            "[CV]  model__criterion=entropy, model__max_depth=None, model__splitter=best, total=   0.0s\n",
            "[CV] model__criterion=entropy, model__max_depth=None, model__splitter=best \n",
            "[CV]  model__criterion=entropy, model__max_depth=None, model__splitter=best, total=   0.0s\n",
            "[CV] model__criterion=entropy, model__max_depth=None, model__splitter=best \n",
            "[CV]  model__criterion=entropy, model__max_depth=None, model__splitter=best, total=   0.0s\n",
            "[CV] model__criterion=entropy, model__max_depth=None, model__splitter=random \n",
            "[CV]  model__criterion=entropy, model__max_depth=None, model__splitter=random, total=   0.0s\n",
            "[CV] model__criterion=entropy, model__max_depth=None, model__splitter=random \n",
            "[CV]  model__criterion=entropy, model__max_depth=None, model__splitter=random, total=   0.0s\n",
            "[CV] model__criterion=entropy, model__max_depth=None, model__splitter=random \n",
            "[CV]  model__criterion=entropy, model__max_depth=None, model__splitter=random, total=   0.0s\n",
            "[CV] model__criterion=entropy, model__max_depth=None, model__splitter=random \n",
            "[CV]  model__criterion=entropy, model__max_depth=None, model__splitter=random, total=   0.0s\n",
            "[CV] model__criterion=entropy, model__max_depth=None, model__splitter=random \n",
            "[CV]  model__criterion=entropy, model__max_depth=None, model__splitter=random, total=   0.0s\n",
            "[CV] model__criterion=entropy, model__max_depth=3, model__splitter=best \n",
            "[CV]  model__criterion=entropy, model__max_depth=3, model__splitter=best, total=   0.0s\n",
            "[CV] model__criterion=entropy, model__max_depth=3, model__splitter=best \n",
            "[CV]  model__criterion=entropy, model__max_depth=3, model__splitter=best, total=   0.0s\n",
            "[CV] model__criterion=entropy, model__max_depth=3, model__splitter=best \n",
            "[CV]  model__criterion=entropy, model__max_depth=3, model__splitter=best, total=   0.0s\n",
            "[CV] model__criterion=entropy, model__max_depth=3, model__splitter=best \n",
            "[CV]  model__criterion=entropy, model__max_depth=3, model__splitter=best, total=   0.0s\n",
            "[CV] model__criterion=entropy, model__max_depth=3, model__splitter=best \n",
            "[CV]  model__criterion=entropy, model__max_depth=3, model__splitter=best, total=   0.0s\n",
            "[CV] model__criterion=entropy, model__max_depth=3, model__splitter=random \n",
            "[CV]  model__criterion=entropy, model__max_depth=3, model__splitter=random, total=   0.0s\n",
            "[CV] model__criterion=entropy, model__max_depth=3, model__splitter=random \n",
            "[CV]  model__criterion=entropy, model__max_depth=3, model__splitter=random, total=   0.0s\n",
            "[CV] model__criterion=entropy, model__max_depth=3, model__splitter=random \n",
            "[CV]  model__criterion=entropy, model__max_depth=3, model__splitter=random, total=   0.0s\n",
            "[CV] model__criterion=entropy, model__max_depth=3, model__splitter=random \n",
            "[CV]  model__criterion=entropy, model__max_depth=3, model__splitter=random, total=   0.0s\n",
            "[CV] model__criterion=entropy, model__max_depth=3, model__splitter=random \n",
            "[CV]  model__criterion=entropy, model__max_depth=3, model__splitter=random, total=   0.0s\n",
            "[CV] model__criterion=entropy, model__max_depth=10, model__splitter=best \n",
            "[CV]  model__criterion=entropy, model__max_depth=10, model__splitter=best, total=   0.0s\n",
            "[CV] model__criterion=entropy, model__max_depth=10, model__splitter=best \n",
            "[CV]  model__criterion=entropy, model__max_depth=10, model__splitter=best, total=   0.0s\n",
            "[CV] model__criterion=entropy, model__max_depth=10, model__splitter=best \n",
            "[CV]  model__criterion=entropy, model__max_depth=10, model__splitter=best, total=   0.0s\n",
            "[CV] model__criterion=entropy, model__max_depth=10, model__splitter=best \n",
            "[CV]  model__criterion=entropy, model__max_depth=10, model__splitter=best, total=   0.0s\n",
            "[CV] model__criterion=entropy, model__max_depth=10, model__splitter=best \n",
            "[CV]  model__criterion=entropy, model__max_depth=10, model__splitter=best, total=   0.0s\n",
            "[CV] model__criterion=entropy, model__max_depth=10, model__splitter=random \n",
            "[CV]  model__criterion=entropy, model__max_depth=10, model__splitter=random, total=   0.0s\n",
            "[CV] model__criterion=entropy, model__max_depth=10, model__splitter=random \n",
            "[CV]  model__criterion=entropy, model__max_depth=10, model__splitter=random, total=   0.0s\n",
            "[CV] model__criterion=entropy, model__max_depth=10, model__splitter=random \n",
            "[CV]  model__criterion=entropy, model__max_depth=10, model__splitter=random, total=   0.0s\n",
            "[CV] model__criterion=entropy, model__max_depth=10, model__splitter=random \n",
            "[CV]  model__criterion=entropy, model__max_depth=10, model__splitter=random, total=   0.0s\n",
            "[CV] model__criterion=entropy, model__max_depth=10, model__splitter=random \n",
            "[CV]  model__criterion=entropy, model__max_depth=10, model__splitter=random, total=   0.0s\n",
            "Fitting 5 folds for each of 4 candidates, totalling 20 fits\n",
            "[CV] model__learning_rate=0.1, model__n_estimators=100 ...............\n"
          ],
          "name": "stdout"
        },
        {
          "output_type": "stream",
          "text": [
            "[Parallel(n_jobs=-2)]: Done  60 out of  60 | elapsed:    0.4s finished\n",
            "[Parallel(n_jobs=-2)]: Using backend SequentialBackend with 1 concurrent workers.\n"
          ],
          "name": "stderr"
        },
        {
          "output_type": "stream",
          "text": [
            "[CV]  model__learning_rate=0.1, model__n_estimators=100, total=   0.3s\n",
            "[CV] model__learning_rate=0.1, model__n_estimators=100 ...............\n"
          ],
          "name": "stdout"
        },
        {
          "output_type": "stream",
          "text": [
            "[Parallel(n_jobs=-2)]: Done   1 out of   1 | elapsed:    0.3s remaining:    0.0s\n"
          ],
          "name": "stderr"
        },
        {
          "output_type": "stream",
          "text": [
            "[CV]  model__learning_rate=0.1, model__n_estimators=100, total=   0.3s\n",
            "[CV] model__learning_rate=0.1, model__n_estimators=100 ...............\n",
            "[CV]  model__learning_rate=0.1, model__n_estimators=100, total=   0.3s\n",
            "[CV] model__learning_rate=0.1, model__n_estimators=100 ...............\n",
            "[CV]  model__learning_rate=0.1, model__n_estimators=100, total=   0.3s\n",
            "[CV] model__learning_rate=0.1, model__n_estimators=100 ...............\n",
            "[CV]  model__learning_rate=0.1, model__n_estimators=100, total=   0.3s\n",
            "[CV] model__learning_rate=0.1, model__n_estimators=50 ................\n",
            "[CV] . model__learning_rate=0.1, model__n_estimators=50, total=   0.3s\n",
            "[CV] model__learning_rate=0.1, model__n_estimators=50 ................\n",
            "[CV] . model__learning_rate=0.1, model__n_estimators=50, total=   0.3s\n",
            "[CV] model__learning_rate=0.1, model__n_estimators=50 ................\n",
            "[CV] . model__learning_rate=0.1, model__n_estimators=50, total=   0.2s\n",
            "[CV] model__learning_rate=0.1, model__n_estimators=50 ................\n",
            "[CV] . model__learning_rate=0.1, model__n_estimators=50, total=   0.3s\n",
            "[CV] model__learning_rate=0.1, model__n_estimators=50 ................\n",
            "[CV] . model__learning_rate=0.1, model__n_estimators=50, total=   0.3s\n",
            "[CV] model__learning_rate=0.01, model__n_estimators=100 ..............\n",
            "[CV]  model__learning_rate=0.01, model__n_estimators=100, total=   0.3s\n",
            "[CV] model__learning_rate=0.01, model__n_estimators=100 ..............\n",
            "[CV]  model__learning_rate=0.01, model__n_estimators=100, total=   0.3s\n",
            "[CV] model__learning_rate=0.01, model__n_estimators=100 ..............\n",
            "[CV]  model__learning_rate=0.01, model__n_estimators=100, total=   0.3s\n",
            "[CV] model__learning_rate=0.01, model__n_estimators=100 ..............\n",
            "[CV]  model__learning_rate=0.01, model__n_estimators=100, total=   0.3s\n",
            "[CV] model__learning_rate=0.01, model__n_estimators=100 ..............\n",
            "[CV]  model__learning_rate=0.01, model__n_estimators=100, total=   0.3s\n",
            "[CV] model__learning_rate=0.01, model__n_estimators=50 ...............\n",
            "[CV]  model__learning_rate=0.01, model__n_estimators=50, total=   0.2s\n",
            "[CV] model__learning_rate=0.01, model__n_estimators=50 ...............\n",
            "[CV]  model__learning_rate=0.01, model__n_estimators=50, total=   0.3s\n",
            "[CV] model__learning_rate=0.01, model__n_estimators=50 ...............\n",
            "[CV]  model__learning_rate=0.01, model__n_estimators=50, total=   0.2s\n",
            "[CV] model__learning_rate=0.01, model__n_estimators=50 ...............\n",
            "[CV]  model__learning_rate=0.01, model__n_estimators=50, total=   0.3s\n",
            "[CV] model__learning_rate=0.01, model__n_estimators=50 ...............\n",
            "[CV]  model__learning_rate=0.01, model__n_estimators=50, total=   0.2s\n"
          ],
          "name": "stdout"
        },
        {
          "output_type": "stream",
          "text": [
            "[Parallel(n_jobs=-2)]: Done  20 out of  20 | elapsed:    5.8s finished\n"
          ],
          "name": "stderr"
        },
        {
          "output_type": "stream",
          "text": [
            "Fitting 5 folds for each of 4 candidates, totalling 20 fits\n",
            "[CV] model__learning_rate=0.1, model__n_estimators=100 ...............\n"
          ],
          "name": "stdout"
        },
        {
          "output_type": "stream",
          "text": [
            "[Parallel(n_jobs=-2)]: Using backend SequentialBackend with 1 concurrent workers.\n"
          ],
          "name": "stderr"
        },
        {
          "output_type": "stream",
          "text": [
            "[CV]  model__learning_rate=0.1, model__n_estimators=100, total=   0.3s\n",
            "[CV] model__learning_rate=0.1, model__n_estimators=100 ...............\n"
          ],
          "name": "stdout"
        },
        {
          "output_type": "stream",
          "text": [
            "[Parallel(n_jobs=-2)]: Done   1 out of   1 | elapsed:    0.3s remaining:    0.0s\n"
          ],
          "name": "stderr"
        },
        {
          "output_type": "stream",
          "text": [
            "[CV]  model__learning_rate=0.1, model__n_estimators=100, total=   0.3s\n",
            "[CV] model__learning_rate=0.1, model__n_estimators=100 ...............\n",
            "[CV]  model__learning_rate=0.1, model__n_estimators=100, total=   0.3s\n",
            "[CV] model__learning_rate=0.1, model__n_estimators=100 ...............\n",
            "[CV]  model__learning_rate=0.1, model__n_estimators=100, total=   0.3s\n",
            "[CV] model__learning_rate=0.1, model__n_estimators=100 ...............\n",
            "[CV]  model__learning_rate=0.1, model__n_estimators=100, total=   0.3s\n",
            "[CV] model__learning_rate=0.1, model__n_estimators=50 ................\n",
            "[CV] . model__learning_rate=0.1, model__n_estimators=50, total=   0.3s\n",
            "[CV] model__learning_rate=0.1, model__n_estimators=50 ................\n",
            "[CV] . model__learning_rate=0.1, model__n_estimators=50, total=   0.3s\n",
            "[CV] model__learning_rate=0.1, model__n_estimators=50 ................\n",
            "[CV] . model__learning_rate=0.1, model__n_estimators=50, total=   0.2s\n",
            "[CV] model__learning_rate=0.1, model__n_estimators=50 ................\n",
            "[CV] . model__learning_rate=0.1, model__n_estimators=50, total=   0.3s\n",
            "[CV] model__learning_rate=0.1, model__n_estimators=50 ................\n",
            "[CV] . model__learning_rate=0.1, model__n_estimators=50, total=   0.2s\n",
            "[CV] model__learning_rate=0.01, model__n_estimators=100 ..............\n",
            "[CV]  model__learning_rate=0.01, model__n_estimators=100, total=   0.4s\n",
            "[CV] model__learning_rate=0.01, model__n_estimators=100 ..............\n",
            "[CV]  model__learning_rate=0.01, model__n_estimators=100, total=   0.4s\n",
            "[CV] model__learning_rate=0.01, model__n_estimators=100 ..............\n",
            "[CV]  model__learning_rate=0.01, model__n_estimators=100, total=   0.3s\n",
            "[CV] model__learning_rate=0.01, model__n_estimators=100 ..............\n",
            "[CV]  model__learning_rate=0.01, model__n_estimators=100, total=   0.3s\n",
            "[CV] model__learning_rate=0.01, model__n_estimators=100 ..............\n",
            "[CV]  model__learning_rate=0.01, model__n_estimators=100, total=   0.3s\n",
            "[CV] model__learning_rate=0.01, model__n_estimators=50 ...............\n",
            "[CV]  model__learning_rate=0.01, model__n_estimators=50, total=   0.2s\n",
            "[CV] model__learning_rate=0.01, model__n_estimators=50 ...............\n",
            "[CV]  model__learning_rate=0.01, model__n_estimators=50, total=   0.3s\n",
            "[CV] model__learning_rate=0.01, model__n_estimators=50 ...............\n",
            "[CV]  model__learning_rate=0.01, model__n_estimators=50, total=   0.2s\n",
            "[CV] model__learning_rate=0.01, model__n_estimators=50 ...............\n",
            "[CV]  model__learning_rate=0.01, model__n_estimators=50, total=   0.3s\n",
            "[CV] model__learning_rate=0.01, model__n_estimators=50 ...............\n",
            "[CV]  model__learning_rate=0.01, model__n_estimators=50, total=   0.2s\n"
          ],
          "name": "stdout"
        },
        {
          "output_type": "stream",
          "text": [
            "[Parallel(n_jobs=-2)]: Done  20 out of  20 | elapsed:    5.9s finished\n"
          ],
          "name": "stderr"
        },
        {
          "output_type": "stream",
          "text": [
            "Fitting 5 folds for each of 4 candidates, totalling 20 fits\n",
            "[CV] model__learning_rate=0.1, model__n_estimators=100 ...............\n"
          ],
          "name": "stdout"
        },
        {
          "output_type": "stream",
          "text": [
            "[Parallel(n_jobs=-2)]: Using backend SequentialBackend with 1 concurrent workers.\n"
          ],
          "name": "stderr"
        },
        {
          "output_type": "stream",
          "text": [
            "[CV]  model__learning_rate=0.1, model__n_estimators=100, total=   0.3s\n",
            "[CV] model__learning_rate=0.1, model__n_estimators=100 ...............\n"
          ],
          "name": "stdout"
        },
        {
          "output_type": "stream",
          "text": [
            "[Parallel(n_jobs=-2)]: Done   1 out of   1 | elapsed:    0.3s remaining:    0.0s\n"
          ],
          "name": "stderr"
        },
        {
          "output_type": "stream",
          "text": [
            "[CV]  model__learning_rate=0.1, model__n_estimators=100, total=   0.3s\n",
            "[CV] model__learning_rate=0.1, model__n_estimators=100 ...............\n",
            "[CV]  model__learning_rate=0.1, model__n_estimators=100, total=   0.3s\n",
            "[CV] model__learning_rate=0.1, model__n_estimators=100 ...............\n",
            "[CV]  model__learning_rate=0.1, model__n_estimators=100, total=   0.3s\n",
            "[CV] model__learning_rate=0.1, model__n_estimators=100 ...............\n",
            "[CV]  model__learning_rate=0.1, model__n_estimators=100, total=   0.3s\n",
            "[CV] model__learning_rate=0.1, model__n_estimators=50 ................\n",
            "[CV] . model__learning_rate=0.1, model__n_estimators=50, total=   0.3s\n",
            "[CV] model__learning_rate=0.1, model__n_estimators=50 ................\n",
            "[CV] . model__learning_rate=0.1, model__n_estimators=50, total=   0.2s\n",
            "[CV] model__learning_rate=0.1, model__n_estimators=50 ................\n",
            "[CV] . model__learning_rate=0.1, model__n_estimators=50, total=   0.2s\n",
            "[CV] model__learning_rate=0.1, model__n_estimators=50 ................\n",
            "[CV] . model__learning_rate=0.1, model__n_estimators=50, total=   0.2s\n",
            "[CV] model__learning_rate=0.1, model__n_estimators=50 ................\n",
            "[CV] . model__learning_rate=0.1, model__n_estimators=50, total=   0.2s\n",
            "[CV] model__learning_rate=0.01, model__n_estimators=100 ..............\n",
            "[CV]  model__learning_rate=0.01, model__n_estimators=100, total=   0.3s\n",
            "[CV] model__learning_rate=0.01, model__n_estimators=100 ..............\n",
            "[CV]  model__learning_rate=0.01, model__n_estimators=100, total=   0.3s\n",
            "[CV] model__learning_rate=0.01, model__n_estimators=100 ..............\n",
            "[CV]  model__learning_rate=0.01, model__n_estimators=100, total=   0.3s\n",
            "[CV] model__learning_rate=0.01, model__n_estimators=100 ..............\n",
            "[CV]  model__learning_rate=0.01, model__n_estimators=100, total=   0.3s\n",
            "[CV] model__learning_rate=0.01, model__n_estimators=100 ..............\n",
            "[CV]  model__learning_rate=0.01, model__n_estimators=100, total=   0.3s\n",
            "[CV] model__learning_rate=0.01, model__n_estimators=50 ...............\n",
            "[CV]  model__learning_rate=0.01, model__n_estimators=50, total=   0.3s\n",
            "[CV] model__learning_rate=0.01, model__n_estimators=50 ...............\n",
            "[CV]  model__learning_rate=0.01, model__n_estimators=50, total=   0.3s\n",
            "[CV] model__learning_rate=0.01, model__n_estimators=50 ...............\n",
            "[CV]  model__learning_rate=0.01, model__n_estimators=50, total=   0.2s\n",
            "[CV] model__learning_rate=0.01, model__n_estimators=50 ...............\n",
            "[CV]  model__learning_rate=0.01, model__n_estimators=50, total=   0.2s\n",
            "[CV] model__learning_rate=0.01, model__n_estimators=50 ...............\n",
            "[CV]  model__learning_rate=0.01, model__n_estimators=50, total=   0.2s\n"
          ],
          "name": "stdout"
        },
        {
          "output_type": "stream",
          "text": [
            "[Parallel(n_jobs=-2)]: Done  20 out of  20 | elapsed:    5.7s finished\n"
          ],
          "name": "stderr"
        },
        {
          "output_type": "stream",
          "text": [
            "Fitting 5 folds for each of 4 candidates, totalling 20 fits\n",
            "[CV] model__learning_rate=0.1, model__n_estimators=100 ...............\n"
          ],
          "name": "stdout"
        },
        {
          "output_type": "stream",
          "text": [
            "[Parallel(n_jobs=-2)]: Using backend SequentialBackend with 1 concurrent workers.\n"
          ],
          "name": "stderr"
        },
        {
          "output_type": "stream",
          "text": [
            "[CV]  model__learning_rate=0.1, model__n_estimators=100, total=   0.4s\n",
            "[CV] model__learning_rate=0.1, model__n_estimators=100 ...............\n"
          ],
          "name": "stdout"
        },
        {
          "output_type": "stream",
          "text": [
            "[Parallel(n_jobs=-2)]: Done   1 out of   1 | elapsed:    0.4s remaining:    0.0s\n"
          ],
          "name": "stderr"
        },
        {
          "output_type": "stream",
          "text": [
            "[CV]  model__learning_rate=0.1, model__n_estimators=100, total=   0.3s\n",
            "[CV] model__learning_rate=0.1, model__n_estimators=100 ...............\n",
            "[CV]  model__learning_rate=0.1, model__n_estimators=100, total=   0.3s\n",
            "[CV] model__learning_rate=0.1, model__n_estimators=100 ...............\n",
            "[CV]  model__learning_rate=0.1, model__n_estimators=100, total=   0.3s\n",
            "[CV] model__learning_rate=0.1, model__n_estimators=100 ...............\n",
            "[CV]  model__learning_rate=0.1, model__n_estimators=100, total=   0.3s\n",
            "[CV] model__learning_rate=0.1, model__n_estimators=50 ................\n",
            "[CV] . model__learning_rate=0.1, model__n_estimators=50, total=   0.2s\n",
            "[CV] model__learning_rate=0.1, model__n_estimators=50 ................\n",
            "[CV] . model__learning_rate=0.1, model__n_estimators=50, total=   0.2s\n",
            "[CV] model__learning_rate=0.1, model__n_estimators=50 ................\n",
            "[CV] . model__learning_rate=0.1, model__n_estimators=50, total=   0.3s\n",
            "[CV] model__learning_rate=0.1, model__n_estimators=50 ................\n",
            "[CV] . model__learning_rate=0.1, model__n_estimators=50, total=   0.2s\n",
            "[CV] model__learning_rate=0.1, model__n_estimators=50 ................\n",
            "[CV] . model__learning_rate=0.1, model__n_estimators=50, total=   0.2s\n",
            "[CV] model__learning_rate=0.01, model__n_estimators=100 ..............\n",
            "[CV]  model__learning_rate=0.01, model__n_estimators=100, total=   0.4s\n",
            "[CV] model__learning_rate=0.01, model__n_estimators=100 ..............\n",
            "[CV]  model__learning_rate=0.01, model__n_estimators=100, total=   0.3s\n",
            "[CV] model__learning_rate=0.01, model__n_estimators=100 ..............\n",
            "[CV]  model__learning_rate=0.01, model__n_estimators=100, total=   0.3s\n",
            "[CV] model__learning_rate=0.01, model__n_estimators=100 ..............\n",
            "[CV]  model__learning_rate=0.01, model__n_estimators=100, total=   0.3s\n",
            "[CV] model__learning_rate=0.01, model__n_estimators=100 ..............\n",
            "[CV]  model__learning_rate=0.01, model__n_estimators=100, total=   0.3s\n",
            "[CV] model__learning_rate=0.01, model__n_estimators=50 ...............\n",
            "[CV]  model__learning_rate=0.01, model__n_estimators=50, total=   0.3s\n",
            "[CV] model__learning_rate=0.01, model__n_estimators=50 ...............\n",
            "[CV]  model__learning_rate=0.01, model__n_estimators=50, total=   0.3s\n",
            "[CV] model__learning_rate=0.01, model__n_estimators=50 ...............\n",
            "[CV]  model__learning_rate=0.01, model__n_estimators=50, total=   0.3s\n",
            "[CV] model__learning_rate=0.01, model__n_estimators=50 ...............\n",
            "[CV]  model__learning_rate=0.01, model__n_estimators=50, total=   0.2s\n",
            "[CV] model__learning_rate=0.01, model__n_estimators=50 ...............\n",
            "[CV]  model__learning_rate=0.01, model__n_estimators=50, total=   0.2s\n"
          ],
          "name": "stdout"
        },
        {
          "output_type": "stream",
          "text": [
            "[Parallel(n_jobs=-2)]: Done  20 out of  20 | elapsed:    5.8s finished\n"
          ],
          "name": "stderr"
        },
        {
          "output_type": "stream",
          "text": [
            "Fitting 5 folds for each of 4 candidates, totalling 20 fits\n",
            "[CV] model__learning_rate=0.1, model__n_estimators=100 ...............\n"
          ],
          "name": "stdout"
        },
        {
          "output_type": "stream",
          "text": [
            "[Parallel(n_jobs=-2)]: Using backend SequentialBackend with 1 concurrent workers.\n"
          ],
          "name": "stderr"
        },
        {
          "output_type": "stream",
          "text": [
            "[CV]  model__learning_rate=0.1, model__n_estimators=100, total=   0.3s\n",
            "[CV] model__learning_rate=0.1, model__n_estimators=100 ...............\n"
          ],
          "name": "stdout"
        },
        {
          "output_type": "stream",
          "text": [
            "[Parallel(n_jobs=-2)]: Done   1 out of   1 | elapsed:    0.3s remaining:    0.0s\n"
          ],
          "name": "stderr"
        },
        {
          "output_type": "stream",
          "text": [
            "[CV]  model__learning_rate=0.1, model__n_estimators=100, total=   0.3s\n",
            "[CV] model__learning_rate=0.1, model__n_estimators=100 ...............\n",
            "[CV]  model__learning_rate=0.1, model__n_estimators=100, total=   0.3s\n",
            "[CV] model__learning_rate=0.1, model__n_estimators=100 ...............\n",
            "[CV]  model__learning_rate=0.1, model__n_estimators=100, total=   0.3s\n",
            "[CV] model__learning_rate=0.1, model__n_estimators=100 ...............\n",
            "[CV]  model__learning_rate=0.1, model__n_estimators=100, total=   0.3s\n",
            "[CV] model__learning_rate=0.1, model__n_estimators=50 ................\n",
            "[CV] . model__learning_rate=0.1, model__n_estimators=50, total=   0.2s\n",
            "[CV] model__learning_rate=0.1, model__n_estimators=50 ................\n",
            "[CV] . model__learning_rate=0.1, model__n_estimators=50, total=   0.2s\n",
            "[CV] model__learning_rate=0.1, model__n_estimators=50 ................\n",
            "[CV] . model__learning_rate=0.1, model__n_estimators=50, total=   0.2s\n",
            "[CV] model__learning_rate=0.1, model__n_estimators=50 ................\n",
            "[CV] . model__learning_rate=0.1, model__n_estimators=50, total=   0.2s\n",
            "[CV] model__learning_rate=0.1, model__n_estimators=50 ................\n",
            "[CV] . model__learning_rate=0.1, model__n_estimators=50, total=   0.2s\n",
            "[CV] model__learning_rate=0.01, model__n_estimators=100 ..............\n",
            "[CV]  model__learning_rate=0.01, model__n_estimators=100, total=   0.3s\n",
            "[CV] model__learning_rate=0.01, model__n_estimators=100 ..............\n",
            "[CV]  model__learning_rate=0.01, model__n_estimators=100, total=   0.3s\n",
            "[CV] model__learning_rate=0.01, model__n_estimators=100 ..............\n",
            "[CV]  model__learning_rate=0.01, model__n_estimators=100, total=   0.3s\n",
            "[CV] model__learning_rate=0.01, model__n_estimators=100 ..............\n",
            "[CV]  model__learning_rate=0.01, model__n_estimators=100, total=   0.3s\n",
            "[CV] model__learning_rate=0.01, model__n_estimators=100 ..............\n",
            "[CV]  model__learning_rate=0.01, model__n_estimators=100, total=   0.3s\n",
            "[CV] model__learning_rate=0.01, model__n_estimators=50 ...............\n",
            "[CV]  model__learning_rate=0.01, model__n_estimators=50, total=   0.2s\n",
            "[CV] model__learning_rate=0.01, model__n_estimators=50 ...............\n",
            "[CV]  model__learning_rate=0.01, model__n_estimators=50, total=   0.2s\n",
            "[CV] model__learning_rate=0.01, model__n_estimators=50 ...............\n",
            "[CV]  model__learning_rate=0.01, model__n_estimators=50, total=   0.2s\n",
            "[CV] model__learning_rate=0.01, model__n_estimators=50 ...............\n",
            "[CV]  model__learning_rate=0.01, model__n_estimators=50, total=   0.2s\n",
            "[CV] model__learning_rate=0.01, model__n_estimators=50 ...............\n",
            "[CV]  model__learning_rate=0.01, model__n_estimators=50, total=   0.2s\n"
          ],
          "name": "stdout"
        },
        {
          "output_type": "stream",
          "text": [
            "[Parallel(n_jobs=-2)]: Done  20 out of  20 | elapsed:    5.4s finished\n"
          ],
          "name": "stderr"
        },
        {
          "output_type": "stream",
          "text": [
            "Fitting 5 folds for each of 12 candidates, totalling 60 fits\n",
            "[CV] model__criterion=gini, model__max_depth=None, model__n_estimators=100 \n"
          ],
          "name": "stdout"
        },
        {
          "output_type": "stream",
          "text": [
            "[Parallel(n_jobs=-2)]: Using backend SequentialBackend with 1 concurrent workers.\n"
          ],
          "name": "stderr"
        },
        {
          "output_type": "stream",
          "text": [
            "[CV]  model__criterion=gini, model__max_depth=None, model__n_estimators=100, total=   0.3s\n",
            "[CV] model__criterion=gini, model__max_depth=None, model__n_estimators=100 \n"
          ],
          "name": "stdout"
        },
        {
          "output_type": "stream",
          "text": [
            "[Parallel(n_jobs=-2)]: Done   1 out of   1 | elapsed:    0.3s remaining:    0.0s\n"
          ],
          "name": "stderr"
        },
        {
          "output_type": "stream",
          "text": [
            "[CV]  model__criterion=gini, model__max_depth=None, model__n_estimators=100, total=   0.3s\n",
            "[CV] model__criterion=gini, model__max_depth=None, model__n_estimators=100 \n",
            "[CV]  model__criterion=gini, model__max_depth=None, model__n_estimators=100, total=   0.3s\n",
            "[CV] model__criterion=gini, model__max_depth=None, model__n_estimators=100 \n",
            "[CV]  model__criterion=gini, model__max_depth=None, model__n_estimators=100, total=   0.3s\n",
            "[CV] model__criterion=gini, model__max_depth=None, model__n_estimators=100 \n",
            "[CV]  model__criterion=gini, model__max_depth=None, model__n_estimators=100, total=   0.3s\n",
            "[CV] model__criterion=gini, model__max_depth=None, model__n_estimators=50 \n",
            "[CV]  model__criterion=gini, model__max_depth=None, model__n_estimators=50, total=   0.2s\n",
            "[CV] model__criterion=gini, model__max_depth=None, model__n_estimators=50 \n",
            "[CV]  model__criterion=gini, model__max_depth=None, model__n_estimators=50, total=   0.2s\n",
            "[CV] model__criterion=gini, model__max_depth=None, model__n_estimators=50 \n",
            "[CV]  model__criterion=gini, model__max_depth=None, model__n_estimators=50, total=   0.2s\n",
            "[CV] model__criterion=gini, model__max_depth=None, model__n_estimators=50 \n",
            "[CV]  model__criterion=gini, model__max_depth=None, model__n_estimators=50, total=   0.2s\n",
            "[CV] model__criterion=gini, model__max_depth=None, model__n_estimators=50 \n",
            "[CV]  model__criterion=gini, model__max_depth=None, model__n_estimators=50, total=   0.2s\n",
            "[CV] model__criterion=gini, model__max_depth=5, model__n_estimators=100 \n",
            "[CV]  model__criterion=gini, model__max_depth=5, model__n_estimators=100, total=   0.3s\n",
            "[CV] model__criterion=gini, model__max_depth=5, model__n_estimators=100 \n",
            "[CV]  model__criterion=gini, model__max_depth=5, model__n_estimators=100, total=   0.3s\n",
            "[CV] model__criterion=gini, model__max_depth=5, model__n_estimators=100 \n",
            "[CV]  model__criterion=gini, model__max_depth=5, model__n_estimators=100, total=   0.3s\n",
            "[CV] model__criterion=gini, model__max_depth=5, model__n_estimators=100 \n",
            "[CV]  model__criterion=gini, model__max_depth=5, model__n_estimators=100, total=   0.3s\n",
            "[CV] model__criterion=gini, model__max_depth=5, model__n_estimators=100 \n",
            "[CV]  model__criterion=gini, model__max_depth=5, model__n_estimators=100, total=   0.3s\n",
            "[CV] model__criterion=gini, model__max_depth=5, model__n_estimators=50 \n",
            "[CV]  model__criterion=gini, model__max_depth=5, model__n_estimators=50, total=   0.2s\n",
            "[CV] model__criterion=gini, model__max_depth=5, model__n_estimators=50 \n",
            "[CV]  model__criterion=gini, model__max_depth=5, model__n_estimators=50, total=   0.2s\n",
            "[CV] model__criterion=gini, model__max_depth=5, model__n_estimators=50 \n",
            "[CV]  model__criterion=gini, model__max_depth=5, model__n_estimators=50, total=   0.2s\n",
            "[CV] model__criterion=gini, model__max_depth=5, model__n_estimators=50 \n",
            "[CV]  model__criterion=gini, model__max_depth=5, model__n_estimators=50, total=   0.2s\n",
            "[CV] model__criterion=gini, model__max_depth=5, model__n_estimators=50 \n",
            "[CV]  model__criterion=gini, model__max_depth=5, model__n_estimators=50, total=   0.2s\n",
            "[CV] model__criterion=gini, model__max_depth=10, model__n_estimators=100 \n",
            "[CV]  model__criterion=gini, model__max_depth=10, model__n_estimators=100, total=   0.3s\n",
            "[CV] model__criterion=gini, model__max_depth=10, model__n_estimators=100 \n",
            "[CV]  model__criterion=gini, model__max_depth=10, model__n_estimators=100, total=   0.3s\n",
            "[CV] model__criterion=gini, model__max_depth=10, model__n_estimators=100 \n",
            "[CV]  model__criterion=gini, model__max_depth=10, model__n_estimators=100, total=   0.3s\n",
            "[CV] model__criterion=gini, model__max_depth=10, model__n_estimators=100 \n",
            "[CV]  model__criterion=gini, model__max_depth=10, model__n_estimators=100, total=   0.3s\n",
            "[CV] model__criterion=gini, model__max_depth=10, model__n_estimators=100 \n",
            "[CV]  model__criterion=gini, model__max_depth=10, model__n_estimators=100, total=   0.3s\n",
            "[CV] model__criterion=gini, model__max_depth=10, model__n_estimators=50 \n",
            "[CV]  model__criterion=gini, model__max_depth=10, model__n_estimators=50, total=   0.2s\n",
            "[CV] model__criterion=gini, model__max_depth=10, model__n_estimators=50 \n",
            "[CV]  model__criterion=gini, model__max_depth=10, model__n_estimators=50, total=   0.2s\n",
            "[CV] model__criterion=gini, model__max_depth=10, model__n_estimators=50 \n",
            "[CV]  model__criterion=gini, model__max_depth=10, model__n_estimators=50, total=   0.2s\n",
            "[CV] model__criterion=gini, model__max_depth=10, model__n_estimators=50 \n",
            "[CV]  model__criterion=gini, model__max_depth=10, model__n_estimators=50, total=   0.2s\n",
            "[CV] model__criterion=gini, model__max_depth=10, model__n_estimators=50 \n",
            "[CV]  model__criterion=gini, model__max_depth=10, model__n_estimators=50, total=   0.2s\n",
            "[CV] model__criterion=entropy, model__max_depth=None, model__n_estimators=100 \n",
            "[CV]  model__criterion=entropy, model__max_depth=None, model__n_estimators=100, total=   0.3s\n",
            "[CV] model__criterion=entropy, model__max_depth=None, model__n_estimators=100 \n",
            "[CV]  model__criterion=entropy, model__max_depth=None, model__n_estimators=100, total=   0.3s\n",
            "[CV] model__criterion=entropy, model__max_depth=None, model__n_estimators=100 \n",
            "[CV]  model__criterion=entropy, model__max_depth=None, model__n_estimators=100, total=   0.3s\n",
            "[CV] model__criterion=entropy, model__max_depth=None, model__n_estimators=100 \n",
            "[CV]  model__criterion=entropy, model__max_depth=None, model__n_estimators=100, total=   0.3s\n",
            "[CV] model__criterion=entropy, model__max_depth=None, model__n_estimators=100 \n",
            "[CV]  model__criterion=entropy, model__max_depth=None, model__n_estimators=100, total=   0.3s\n",
            "[CV] model__criterion=entropy, model__max_depth=None, model__n_estimators=50 \n",
            "[CV]  model__criterion=entropy, model__max_depth=None, model__n_estimators=50, total=   0.2s\n",
            "[CV] model__criterion=entropy, model__max_depth=None, model__n_estimators=50 \n",
            "[CV]  model__criterion=entropy, model__max_depth=None, model__n_estimators=50, total=   0.2s\n",
            "[CV] model__criterion=entropy, model__max_depth=None, model__n_estimators=50 \n",
            "[CV]  model__criterion=entropy, model__max_depth=None, model__n_estimators=50, total=   0.2s\n",
            "[CV] model__criterion=entropy, model__max_depth=None, model__n_estimators=50 \n",
            "[CV]  model__criterion=entropy, model__max_depth=None, model__n_estimators=50, total=   0.2s\n",
            "[CV] model__criterion=entropy, model__max_depth=None, model__n_estimators=50 \n",
            "[CV]  model__criterion=entropy, model__max_depth=None, model__n_estimators=50, total=   0.2s\n",
            "[CV] model__criterion=entropy, model__max_depth=5, model__n_estimators=100 \n",
            "[CV]  model__criterion=entropy, model__max_depth=5, model__n_estimators=100, total=   0.3s\n",
            "[CV] model__criterion=entropy, model__max_depth=5, model__n_estimators=100 \n",
            "[CV]  model__criterion=entropy, model__max_depth=5, model__n_estimators=100, total=   0.3s\n",
            "[CV] model__criterion=entropy, model__max_depth=5, model__n_estimators=100 \n",
            "[CV]  model__criterion=entropy, model__max_depth=5, model__n_estimators=100, total=   0.3s\n",
            "[CV] model__criterion=entropy, model__max_depth=5, model__n_estimators=100 \n",
            "[CV]  model__criterion=entropy, model__max_depth=5, model__n_estimators=100, total=   0.3s\n",
            "[CV] model__criterion=entropy, model__max_depth=5, model__n_estimators=100 \n",
            "[CV]  model__criterion=entropy, model__max_depth=5, model__n_estimators=100, total=   0.3s\n",
            "[CV] model__criterion=entropy, model__max_depth=5, model__n_estimators=50 \n",
            "[CV]  model__criterion=entropy, model__max_depth=5, model__n_estimators=50, total=   0.2s\n",
            "[CV] model__criterion=entropy, model__max_depth=5, model__n_estimators=50 \n",
            "[CV]  model__criterion=entropy, model__max_depth=5, model__n_estimators=50, total=   0.2s\n",
            "[CV] model__criterion=entropy, model__max_depth=5, model__n_estimators=50 \n",
            "[CV]  model__criterion=entropy, model__max_depth=5, model__n_estimators=50, total=   0.2s\n",
            "[CV] model__criterion=entropy, model__max_depth=5, model__n_estimators=50 \n",
            "[CV]  model__criterion=entropy, model__max_depth=5, model__n_estimators=50, total=   0.2s\n",
            "[CV] model__criterion=entropy, model__max_depth=5, model__n_estimators=50 \n",
            "[CV]  model__criterion=entropy, model__max_depth=5, model__n_estimators=50, total=   0.2s\n",
            "[CV] model__criterion=entropy, model__max_depth=10, model__n_estimators=100 \n",
            "[CV]  model__criterion=entropy, model__max_depth=10, model__n_estimators=100, total=   0.3s\n",
            "[CV] model__criterion=entropy, model__max_depth=10, model__n_estimators=100 \n",
            "[CV]  model__criterion=entropy, model__max_depth=10, model__n_estimators=100, total=   0.3s\n",
            "[CV] model__criterion=entropy, model__max_depth=10, model__n_estimators=100 \n",
            "[CV]  model__criterion=entropy, model__max_depth=10, model__n_estimators=100, total=   0.3s\n",
            "[CV] model__criterion=entropy, model__max_depth=10, model__n_estimators=100 \n",
            "[CV]  model__criterion=entropy, model__max_depth=10, model__n_estimators=100, total=   0.3s\n",
            "[CV] model__criterion=entropy, model__max_depth=10, model__n_estimators=100 \n",
            "[CV]  model__criterion=entropy, model__max_depth=10, model__n_estimators=100, total=   0.3s\n",
            "[CV] model__criterion=entropy, model__max_depth=10, model__n_estimators=50 \n",
            "[CV]  model__criterion=entropy, model__max_depth=10, model__n_estimators=50, total=   0.2s\n",
            "[CV] model__criterion=entropy, model__max_depth=10, model__n_estimators=50 \n",
            "[CV]  model__criterion=entropy, model__max_depth=10, model__n_estimators=50, total=   0.2s\n",
            "[CV] model__criterion=entropy, model__max_depth=10, model__n_estimators=50 \n",
            "[CV]  model__criterion=entropy, model__max_depth=10, model__n_estimators=50, total=   0.2s\n",
            "[CV] model__criterion=entropy, model__max_depth=10, model__n_estimators=50 \n",
            "[CV]  model__criterion=entropy, model__max_depth=10, model__n_estimators=50, total=   0.2s\n",
            "[CV] model__criterion=entropy, model__max_depth=10, model__n_estimators=50 \n",
            "[CV]  model__criterion=entropy, model__max_depth=10, model__n_estimators=50, total=   0.2s\n"
          ],
          "name": "stdout"
        },
        {
          "output_type": "stream",
          "text": [
            "[Parallel(n_jobs=-2)]: Done  60 out of  60 | elapsed:   14.1s finished\n"
          ],
          "name": "stderr"
        },
        {
          "output_type": "stream",
          "text": [
            "Fitting 5 folds for each of 12 candidates, totalling 60 fits\n",
            "[CV] model__criterion=gini, model__max_depth=None, model__n_estimators=100 \n"
          ],
          "name": "stdout"
        },
        {
          "output_type": "stream",
          "text": [
            "[Parallel(n_jobs=-2)]: Using backend SequentialBackend with 1 concurrent workers.\n"
          ],
          "name": "stderr"
        },
        {
          "output_type": "stream",
          "text": [
            "[CV]  model__criterion=gini, model__max_depth=None, model__n_estimators=100, total=   0.3s\n",
            "[CV] model__criterion=gini, model__max_depth=None, model__n_estimators=100 \n"
          ],
          "name": "stdout"
        },
        {
          "output_type": "stream",
          "text": [
            "[Parallel(n_jobs=-2)]: Done   1 out of   1 | elapsed:    0.3s remaining:    0.0s\n"
          ],
          "name": "stderr"
        },
        {
          "output_type": "stream",
          "text": [
            "[CV]  model__criterion=gini, model__max_depth=None, model__n_estimators=100, total=   0.3s\n",
            "[CV] model__criterion=gini, model__max_depth=None, model__n_estimators=100 \n",
            "[CV]  model__criterion=gini, model__max_depth=None, model__n_estimators=100, total=   0.3s\n",
            "[CV] model__criterion=gini, model__max_depth=None, model__n_estimators=100 \n",
            "[CV]  model__criterion=gini, model__max_depth=None, model__n_estimators=100, total=   0.3s\n",
            "[CV] model__criterion=gini, model__max_depth=None, model__n_estimators=100 \n",
            "[CV]  model__criterion=gini, model__max_depth=None, model__n_estimators=100, total=   0.3s\n",
            "[CV] model__criterion=gini, model__max_depth=None, model__n_estimators=50 \n",
            "[CV]  model__criterion=gini, model__max_depth=None, model__n_estimators=50, total=   0.2s\n",
            "[CV] model__criterion=gini, model__max_depth=None, model__n_estimators=50 \n",
            "[CV]  model__criterion=gini, model__max_depth=None, model__n_estimators=50, total=   0.2s\n",
            "[CV] model__criterion=gini, model__max_depth=None, model__n_estimators=50 \n",
            "[CV]  model__criterion=gini, model__max_depth=None, model__n_estimators=50, total=   0.2s\n",
            "[CV] model__criterion=gini, model__max_depth=None, model__n_estimators=50 \n",
            "[CV]  model__criterion=gini, model__max_depth=None, model__n_estimators=50, total=   0.2s\n",
            "[CV] model__criterion=gini, model__max_depth=None, model__n_estimators=50 \n",
            "[CV]  model__criterion=gini, model__max_depth=None, model__n_estimators=50, total=   0.2s\n",
            "[CV] model__criterion=gini, model__max_depth=5, model__n_estimators=100 \n",
            "[CV]  model__criterion=gini, model__max_depth=5, model__n_estimators=100, total=   0.3s\n",
            "[CV] model__criterion=gini, model__max_depth=5, model__n_estimators=100 \n",
            "[CV]  model__criterion=gini, model__max_depth=5, model__n_estimators=100, total=   0.3s\n",
            "[CV] model__criterion=gini, model__max_depth=5, model__n_estimators=100 \n",
            "[CV]  model__criterion=gini, model__max_depth=5, model__n_estimators=100, total=   0.3s\n",
            "[CV] model__criterion=gini, model__max_depth=5, model__n_estimators=100 \n",
            "[CV]  model__criterion=gini, model__max_depth=5, model__n_estimators=100, total=   0.3s\n",
            "[CV] model__criterion=gini, model__max_depth=5, model__n_estimators=100 \n",
            "[CV]  model__criterion=gini, model__max_depth=5, model__n_estimators=100, total=   0.3s\n",
            "[CV] model__criterion=gini, model__max_depth=5, model__n_estimators=50 \n",
            "[CV]  model__criterion=gini, model__max_depth=5, model__n_estimators=50, total=   0.2s\n",
            "[CV] model__criterion=gini, model__max_depth=5, model__n_estimators=50 \n",
            "[CV]  model__criterion=gini, model__max_depth=5, model__n_estimators=50, total=   0.2s\n",
            "[CV] model__criterion=gini, model__max_depth=5, model__n_estimators=50 \n",
            "[CV]  model__criterion=gini, model__max_depth=5, model__n_estimators=50, total=   0.2s\n",
            "[CV] model__criterion=gini, model__max_depth=5, model__n_estimators=50 \n",
            "[CV]  model__criterion=gini, model__max_depth=5, model__n_estimators=50, total=   0.2s\n",
            "[CV] model__criterion=gini, model__max_depth=5, model__n_estimators=50 \n",
            "[CV]  model__criterion=gini, model__max_depth=5, model__n_estimators=50, total=   0.2s\n",
            "[CV] model__criterion=gini, model__max_depth=10, model__n_estimators=100 \n",
            "[CV]  model__criterion=gini, model__max_depth=10, model__n_estimators=100, total=   0.3s\n",
            "[CV] model__criterion=gini, model__max_depth=10, model__n_estimators=100 \n",
            "[CV]  model__criterion=gini, model__max_depth=10, model__n_estimators=100, total=   0.3s\n",
            "[CV] model__criterion=gini, model__max_depth=10, model__n_estimators=100 \n",
            "[CV]  model__criterion=gini, model__max_depth=10, model__n_estimators=100, total=   0.3s\n",
            "[CV] model__criterion=gini, model__max_depth=10, model__n_estimators=100 \n",
            "[CV]  model__criterion=gini, model__max_depth=10, model__n_estimators=100, total=   0.3s\n",
            "[CV] model__criterion=gini, model__max_depth=10, model__n_estimators=100 \n",
            "[CV]  model__criterion=gini, model__max_depth=10, model__n_estimators=100, total=   0.3s\n",
            "[CV] model__criterion=gini, model__max_depth=10, model__n_estimators=50 \n",
            "[CV]  model__criterion=gini, model__max_depth=10, model__n_estimators=50, total=   0.2s\n",
            "[CV] model__criterion=gini, model__max_depth=10, model__n_estimators=50 \n",
            "[CV]  model__criterion=gini, model__max_depth=10, model__n_estimators=50, total=   0.2s\n",
            "[CV] model__criterion=gini, model__max_depth=10, model__n_estimators=50 \n",
            "[CV]  model__criterion=gini, model__max_depth=10, model__n_estimators=50, total=   0.2s\n",
            "[CV] model__criterion=gini, model__max_depth=10, model__n_estimators=50 \n",
            "[CV]  model__criterion=gini, model__max_depth=10, model__n_estimators=50, total=   0.2s\n",
            "[CV] model__criterion=gini, model__max_depth=10, model__n_estimators=50 \n",
            "[CV]  model__criterion=gini, model__max_depth=10, model__n_estimators=50, total=   0.2s\n",
            "[CV] model__criterion=entropy, model__max_depth=None, model__n_estimators=100 \n",
            "[CV]  model__criterion=entropy, model__max_depth=None, model__n_estimators=100, total=   0.3s\n",
            "[CV] model__criterion=entropy, model__max_depth=None, model__n_estimators=100 \n",
            "[CV]  model__criterion=entropy, model__max_depth=None, model__n_estimators=100, total=   0.3s\n",
            "[CV] model__criterion=entropy, model__max_depth=None, model__n_estimators=100 \n",
            "[CV]  model__criterion=entropy, model__max_depth=None, model__n_estimators=100, total=   0.3s\n",
            "[CV] model__criterion=entropy, model__max_depth=None, model__n_estimators=100 \n",
            "[CV]  model__criterion=entropy, model__max_depth=None, model__n_estimators=100, total=   0.3s\n",
            "[CV] model__criterion=entropy, model__max_depth=None, model__n_estimators=100 \n",
            "[CV]  model__criterion=entropy, model__max_depth=None, model__n_estimators=100, total=   0.3s\n",
            "[CV] model__criterion=entropy, model__max_depth=None, model__n_estimators=50 \n",
            "[CV]  model__criterion=entropy, model__max_depth=None, model__n_estimators=50, total=   0.2s\n",
            "[CV] model__criterion=entropy, model__max_depth=None, model__n_estimators=50 \n",
            "[CV]  model__criterion=entropy, model__max_depth=None, model__n_estimators=50, total=   0.2s\n",
            "[CV] model__criterion=entropy, model__max_depth=None, model__n_estimators=50 \n",
            "[CV]  model__criterion=entropy, model__max_depth=None, model__n_estimators=50, total=   0.2s\n",
            "[CV] model__criterion=entropy, model__max_depth=None, model__n_estimators=50 \n",
            "[CV]  model__criterion=entropy, model__max_depth=None, model__n_estimators=50, total=   0.2s\n",
            "[CV] model__criterion=entropy, model__max_depth=None, model__n_estimators=50 \n",
            "[CV]  model__criterion=entropy, model__max_depth=None, model__n_estimators=50, total=   0.2s\n",
            "[CV] model__criterion=entropy, model__max_depth=5, model__n_estimators=100 \n",
            "[CV]  model__criterion=entropy, model__max_depth=5, model__n_estimators=100, total=   0.3s\n",
            "[CV] model__criterion=entropy, model__max_depth=5, model__n_estimators=100 \n",
            "[CV]  model__criterion=entropy, model__max_depth=5, model__n_estimators=100, total=   0.3s\n",
            "[CV] model__criterion=entropy, model__max_depth=5, model__n_estimators=100 \n",
            "[CV]  model__criterion=entropy, model__max_depth=5, model__n_estimators=100, total=   0.3s\n",
            "[CV] model__criterion=entropy, model__max_depth=5, model__n_estimators=100 \n",
            "[CV]  model__criterion=entropy, model__max_depth=5, model__n_estimators=100, total=   0.3s\n",
            "[CV] model__criterion=entropy, model__max_depth=5, model__n_estimators=100 \n",
            "[CV]  model__criterion=entropy, model__max_depth=5, model__n_estimators=100, total=   0.3s\n",
            "[CV] model__criterion=entropy, model__max_depth=5, model__n_estimators=50 \n",
            "[CV]  model__criterion=entropy, model__max_depth=5, model__n_estimators=50, total=   0.2s\n",
            "[CV] model__criterion=entropy, model__max_depth=5, model__n_estimators=50 \n",
            "[CV]  model__criterion=entropy, model__max_depth=5, model__n_estimators=50, total=   0.2s\n",
            "[CV] model__criterion=entropy, model__max_depth=5, model__n_estimators=50 \n",
            "[CV]  model__criterion=entropy, model__max_depth=5, model__n_estimators=50, total=   0.2s\n",
            "[CV] model__criterion=entropy, model__max_depth=5, model__n_estimators=50 \n",
            "[CV]  model__criterion=entropy, model__max_depth=5, model__n_estimators=50, total=   0.2s\n",
            "[CV] model__criterion=entropy, model__max_depth=5, model__n_estimators=50 \n",
            "[CV]  model__criterion=entropy, model__max_depth=5, model__n_estimators=50, total=   0.2s\n",
            "[CV] model__criterion=entropy, model__max_depth=10, model__n_estimators=100 \n",
            "[CV]  model__criterion=entropy, model__max_depth=10, model__n_estimators=100, total=   0.3s\n",
            "[CV] model__criterion=entropy, model__max_depth=10, model__n_estimators=100 \n",
            "[CV]  model__criterion=entropy, model__max_depth=10, model__n_estimators=100, total=   0.3s\n",
            "[CV] model__criterion=entropy, model__max_depth=10, model__n_estimators=100 \n",
            "[CV]  model__criterion=entropy, model__max_depth=10, model__n_estimators=100, total=   0.3s\n",
            "[CV] model__criterion=entropy, model__max_depth=10, model__n_estimators=100 \n",
            "[CV]  model__criterion=entropy, model__max_depth=10, model__n_estimators=100, total=   0.3s\n",
            "[CV] model__criterion=entropy, model__max_depth=10, model__n_estimators=100 \n",
            "[CV]  model__criterion=entropy, model__max_depth=10, model__n_estimators=100, total=   0.3s\n",
            "[CV] model__criterion=entropy, model__max_depth=10, model__n_estimators=50 \n",
            "[CV]  model__criterion=entropy, model__max_depth=10, model__n_estimators=50, total=   0.2s\n",
            "[CV] model__criterion=entropy, model__max_depth=10, model__n_estimators=50 \n",
            "[CV]  model__criterion=entropy, model__max_depth=10, model__n_estimators=50, total=   0.2s\n",
            "[CV] model__criterion=entropy, model__max_depth=10, model__n_estimators=50 \n",
            "[CV]  model__criterion=entropy, model__max_depth=10, model__n_estimators=50, total=   0.2s\n",
            "[CV] model__criterion=entropy, model__max_depth=10, model__n_estimators=50 \n",
            "[CV]  model__criterion=entropy, model__max_depth=10, model__n_estimators=50, total=   0.2s\n",
            "[CV] model__criterion=entropy, model__max_depth=10, model__n_estimators=50 \n",
            "[CV]  model__criterion=entropy, model__max_depth=10, model__n_estimators=50, total=   0.2s\n"
          ],
          "name": "stdout"
        },
        {
          "output_type": "stream",
          "text": [
            "[Parallel(n_jobs=-2)]: Done  60 out of  60 | elapsed:   14.0s finished\n"
          ],
          "name": "stderr"
        },
        {
          "output_type": "stream",
          "text": [
            "Fitting 5 folds for each of 12 candidates, totalling 60 fits\n",
            "[CV] model__criterion=gini, model__max_depth=None, model__n_estimators=100 \n"
          ],
          "name": "stdout"
        },
        {
          "output_type": "stream",
          "text": [
            "[Parallel(n_jobs=-2)]: Using backend SequentialBackend with 1 concurrent workers.\n"
          ],
          "name": "stderr"
        },
        {
          "output_type": "stream",
          "text": [
            "[CV]  model__criterion=gini, model__max_depth=None, model__n_estimators=100, total=   0.3s\n",
            "[CV] model__criterion=gini, model__max_depth=None, model__n_estimators=100 \n"
          ],
          "name": "stdout"
        },
        {
          "output_type": "stream",
          "text": [
            "[Parallel(n_jobs=-2)]: Done   1 out of   1 | elapsed:    0.3s remaining:    0.0s\n"
          ],
          "name": "stderr"
        },
        {
          "output_type": "stream",
          "text": [
            "[CV]  model__criterion=gini, model__max_depth=None, model__n_estimators=100, total=   0.3s\n",
            "[CV] model__criterion=gini, model__max_depth=None, model__n_estimators=100 \n",
            "[CV]  model__criterion=gini, model__max_depth=None, model__n_estimators=100, total=   0.3s\n",
            "[CV] model__criterion=gini, model__max_depth=None, model__n_estimators=100 \n",
            "[CV]  model__criterion=gini, model__max_depth=None, model__n_estimators=100, total=   0.3s\n",
            "[CV] model__criterion=gini, model__max_depth=None, model__n_estimators=100 \n",
            "[CV]  model__criterion=gini, model__max_depth=None, model__n_estimators=100, total=   0.3s\n",
            "[CV] model__criterion=gini, model__max_depth=None, model__n_estimators=50 \n",
            "[CV]  model__criterion=gini, model__max_depth=None, model__n_estimators=50, total=   0.2s\n",
            "[CV] model__criterion=gini, model__max_depth=None, model__n_estimators=50 \n",
            "[CV]  model__criterion=gini, model__max_depth=None, model__n_estimators=50, total=   0.2s\n",
            "[CV] model__criterion=gini, model__max_depth=None, model__n_estimators=50 \n",
            "[CV]  model__criterion=gini, model__max_depth=None, model__n_estimators=50, total=   0.2s\n",
            "[CV] model__criterion=gini, model__max_depth=None, model__n_estimators=50 \n",
            "[CV]  model__criterion=gini, model__max_depth=None, model__n_estimators=50, total=   0.2s\n",
            "[CV] model__criterion=gini, model__max_depth=None, model__n_estimators=50 \n",
            "[CV]  model__criterion=gini, model__max_depth=None, model__n_estimators=50, total=   0.2s\n",
            "[CV] model__criterion=gini, model__max_depth=5, model__n_estimators=100 \n",
            "[CV]  model__criterion=gini, model__max_depth=5, model__n_estimators=100, total=   0.3s\n",
            "[CV] model__criterion=gini, model__max_depth=5, model__n_estimators=100 \n",
            "[CV]  model__criterion=gini, model__max_depth=5, model__n_estimators=100, total=   0.3s\n",
            "[CV] model__criterion=gini, model__max_depth=5, model__n_estimators=100 \n",
            "[CV]  model__criterion=gini, model__max_depth=5, model__n_estimators=100, total=   0.3s\n",
            "[CV] model__criterion=gini, model__max_depth=5, model__n_estimators=100 \n",
            "[CV]  model__criterion=gini, model__max_depth=5, model__n_estimators=100, total=   0.3s\n",
            "[CV] model__criterion=gini, model__max_depth=5, model__n_estimators=100 \n",
            "[CV]  model__criterion=gini, model__max_depth=5, model__n_estimators=100, total=   0.3s\n",
            "[CV] model__criterion=gini, model__max_depth=5, model__n_estimators=50 \n",
            "[CV]  model__criterion=gini, model__max_depth=5, model__n_estimators=50, total=   0.2s\n",
            "[CV] model__criterion=gini, model__max_depth=5, model__n_estimators=50 \n",
            "[CV]  model__criterion=gini, model__max_depth=5, model__n_estimators=50, total=   0.2s\n",
            "[CV] model__criterion=gini, model__max_depth=5, model__n_estimators=50 \n",
            "[CV]  model__criterion=gini, model__max_depth=5, model__n_estimators=50, total=   0.2s\n",
            "[CV] model__criterion=gini, model__max_depth=5, model__n_estimators=50 \n",
            "[CV]  model__criterion=gini, model__max_depth=5, model__n_estimators=50, total=   0.2s\n",
            "[CV] model__criterion=gini, model__max_depth=5, model__n_estimators=50 \n",
            "[CV]  model__criterion=gini, model__max_depth=5, model__n_estimators=50, total=   0.2s\n",
            "[CV] model__criterion=gini, model__max_depth=10, model__n_estimators=100 \n",
            "[CV]  model__criterion=gini, model__max_depth=10, model__n_estimators=100, total=   0.3s\n",
            "[CV] model__criterion=gini, model__max_depth=10, model__n_estimators=100 \n",
            "[CV]  model__criterion=gini, model__max_depth=10, model__n_estimators=100, total=   0.3s\n",
            "[CV] model__criterion=gini, model__max_depth=10, model__n_estimators=100 \n",
            "[CV]  model__criterion=gini, model__max_depth=10, model__n_estimators=100, total=   0.3s\n",
            "[CV] model__criterion=gini, model__max_depth=10, model__n_estimators=100 \n",
            "[CV]  model__criterion=gini, model__max_depth=10, model__n_estimators=100, total=   0.3s\n",
            "[CV] model__criterion=gini, model__max_depth=10, model__n_estimators=100 \n",
            "[CV]  model__criterion=gini, model__max_depth=10, model__n_estimators=100, total=   0.3s\n",
            "[CV] model__criterion=gini, model__max_depth=10, model__n_estimators=50 \n",
            "[CV]  model__criterion=gini, model__max_depth=10, model__n_estimators=50, total=   0.2s\n",
            "[CV] model__criterion=gini, model__max_depth=10, model__n_estimators=50 \n",
            "[CV]  model__criterion=gini, model__max_depth=10, model__n_estimators=50, total=   0.2s\n",
            "[CV] model__criterion=gini, model__max_depth=10, model__n_estimators=50 \n",
            "[CV]  model__criterion=gini, model__max_depth=10, model__n_estimators=50, total=   0.2s\n",
            "[CV] model__criterion=gini, model__max_depth=10, model__n_estimators=50 \n",
            "[CV]  model__criterion=gini, model__max_depth=10, model__n_estimators=50, total=   0.2s\n",
            "[CV] model__criterion=gini, model__max_depth=10, model__n_estimators=50 \n",
            "[CV]  model__criterion=gini, model__max_depth=10, model__n_estimators=50, total=   0.2s\n",
            "[CV] model__criterion=entropy, model__max_depth=None, model__n_estimators=100 \n",
            "[CV]  model__criterion=entropy, model__max_depth=None, model__n_estimators=100, total=   0.3s\n",
            "[CV] model__criterion=entropy, model__max_depth=None, model__n_estimators=100 \n",
            "[CV]  model__criterion=entropy, model__max_depth=None, model__n_estimators=100, total=   0.3s\n",
            "[CV] model__criterion=entropy, model__max_depth=None, model__n_estimators=100 \n",
            "[CV]  model__criterion=entropy, model__max_depth=None, model__n_estimators=100, total=   0.3s\n",
            "[CV] model__criterion=entropy, model__max_depth=None, model__n_estimators=100 \n",
            "[CV]  model__criterion=entropy, model__max_depth=None, model__n_estimators=100, total=   0.3s\n",
            "[CV] model__criterion=entropy, model__max_depth=None, model__n_estimators=100 \n",
            "[CV]  model__criterion=entropy, model__max_depth=None, model__n_estimators=100, total=   0.3s\n",
            "[CV] model__criterion=entropy, model__max_depth=None, model__n_estimators=50 \n",
            "[CV]  model__criterion=entropy, model__max_depth=None, model__n_estimators=50, total=   0.2s\n",
            "[CV] model__criterion=entropy, model__max_depth=None, model__n_estimators=50 \n",
            "[CV]  model__criterion=entropy, model__max_depth=None, model__n_estimators=50, total=   0.2s\n",
            "[CV] model__criterion=entropy, model__max_depth=None, model__n_estimators=50 \n",
            "[CV]  model__criterion=entropy, model__max_depth=None, model__n_estimators=50, total=   0.2s\n",
            "[CV] model__criterion=entropy, model__max_depth=None, model__n_estimators=50 \n",
            "[CV]  model__criterion=entropy, model__max_depth=None, model__n_estimators=50, total=   0.2s\n",
            "[CV] model__criterion=entropy, model__max_depth=None, model__n_estimators=50 \n",
            "[CV]  model__criterion=entropy, model__max_depth=None, model__n_estimators=50, total=   0.2s\n",
            "[CV] model__criterion=entropy, model__max_depth=5, model__n_estimators=100 \n",
            "[CV]  model__criterion=entropy, model__max_depth=5, model__n_estimators=100, total=   0.3s\n",
            "[CV] model__criterion=entropy, model__max_depth=5, model__n_estimators=100 \n",
            "[CV]  model__criterion=entropy, model__max_depth=5, model__n_estimators=100, total=   0.3s\n",
            "[CV] model__criterion=entropy, model__max_depth=5, model__n_estimators=100 \n",
            "[CV]  model__criterion=entropy, model__max_depth=5, model__n_estimators=100, total=   0.3s\n",
            "[CV] model__criterion=entropy, model__max_depth=5, model__n_estimators=100 \n",
            "[CV]  model__criterion=entropy, model__max_depth=5, model__n_estimators=100, total=   0.3s\n",
            "[CV] model__criterion=entropy, model__max_depth=5, model__n_estimators=100 \n",
            "[CV]  model__criterion=entropy, model__max_depth=5, model__n_estimators=100, total=   0.3s\n",
            "[CV] model__criterion=entropy, model__max_depth=5, model__n_estimators=50 \n",
            "[CV]  model__criterion=entropy, model__max_depth=5, model__n_estimators=50, total=   0.2s\n",
            "[CV] model__criterion=entropy, model__max_depth=5, model__n_estimators=50 \n",
            "[CV]  model__criterion=entropy, model__max_depth=5, model__n_estimators=50, total=   0.2s\n",
            "[CV] model__criterion=entropy, model__max_depth=5, model__n_estimators=50 \n",
            "[CV]  model__criterion=entropy, model__max_depth=5, model__n_estimators=50, total=   0.2s\n",
            "[CV] model__criterion=entropy, model__max_depth=5, model__n_estimators=50 \n",
            "[CV]  model__criterion=entropy, model__max_depth=5, model__n_estimators=50, total=   0.2s\n",
            "[CV] model__criterion=entropy, model__max_depth=5, model__n_estimators=50 \n",
            "[CV]  model__criterion=entropy, model__max_depth=5, model__n_estimators=50, total=   0.2s\n",
            "[CV] model__criterion=entropy, model__max_depth=10, model__n_estimators=100 \n",
            "[CV]  model__criterion=entropy, model__max_depth=10, model__n_estimators=100, total=   0.3s\n",
            "[CV] model__criterion=entropy, model__max_depth=10, model__n_estimators=100 \n",
            "[CV]  model__criterion=entropy, model__max_depth=10, model__n_estimators=100, total=   0.3s\n",
            "[CV] model__criterion=entropy, model__max_depth=10, model__n_estimators=100 \n",
            "[CV]  model__criterion=entropy, model__max_depth=10, model__n_estimators=100, total=   0.3s\n",
            "[CV] model__criterion=entropy, model__max_depth=10, model__n_estimators=100 \n",
            "[CV]  model__criterion=entropy, model__max_depth=10, model__n_estimators=100, total=   0.3s\n",
            "[CV] model__criterion=entropy, model__max_depth=10, model__n_estimators=100 \n",
            "[CV]  model__criterion=entropy, model__max_depth=10, model__n_estimators=100, total=   0.3s\n",
            "[CV] model__criterion=entropy, model__max_depth=10, model__n_estimators=50 \n",
            "[CV]  model__criterion=entropy, model__max_depth=10, model__n_estimators=50, total=   0.2s\n",
            "[CV] model__criterion=entropy, model__max_depth=10, model__n_estimators=50 \n",
            "[CV]  model__criterion=entropy, model__max_depth=10, model__n_estimators=50, total=   0.2s\n",
            "[CV] model__criterion=entropy, model__max_depth=10, model__n_estimators=50 \n",
            "[CV]  model__criterion=entropy, model__max_depth=10, model__n_estimators=50, total=   0.2s\n",
            "[CV] model__criterion=entropy, model__max_depth=10, model__n_estimators=50 \n",
            "[CV]  model__criterion=entropy, model__max_depth=10, model__n_estimators=50, total=   0.2s\n",
            "[CV] model__criterion=entropy, model__max_depth=10, model__n_estimators=50 \n",
            "[CV]  model__criterion=entropy, model__max_depth=10, model__n_estimators=50, total=   0.2s\n"
          ],
          "name": "stdout"
        },
        {
          "output_type": "stream",
          "text": [
            "[Parallel(n_jobs=-2)]: Done  60 out of  60 | elapsed:   14.0s finished\n"
          ],
          "name": "stderr"
        },
        {
          "output_type": "stream",
          "text": [
            "Fitting 5 folds for each of 12 candidates, totalling 60 fits\n",
            "[CV] model__criterion=gini, model__max_depth=None, model__n_estimators=100 \n"
          ],
          "name": "stdout"
        },
        {
          "output_type": "stream",
          "text": [
            "[Parallel(n_jobs=-2)]: Using backend SequentialBackend with 1 concurrent workers.\n"
          ],
          "name": "stderr"
        },
        {
          "output_type": "stream",
          "text": [
            "[CV]  model__criterion=gini, model__max_depth=None, model__n_estimators=100, total=   0.3s\n",
            "[CV] model__criterion=gini, model__max_depth=None, model__n_estimators=100 \n"
          ],
          "name": "stdout"
        },
        {
          "output_type": "stream",
          "text": [
            "[Parallel(n_jobs=-2)]: Done   1 out of   1 | elapsed:    0.3s remaining:    0.0s\n"
          ],
          "name": "stderr"
        },
        {
          "output_type": "stream",
          "text": [
            "[CV]  model__criterion=gini, model__max_depth=None, model__n_estimators=100, total=   0.3s\n",
            "[CV] model__criterion=gini, model__max_depth=None, model__n_estimators=100 \n",
            "[CV]  model__criterion=gini, model__max_depth=None, model__n_estimators=100, total=   0.3s\n",
            "[CV] model__criterion=gini, model__max_depth=None, model__n_estimators=100 \n",
            "[CV]  model__criterion=gini, model__max_depth=None, model__n_estimators=100, total=   0.3s\n",
            "[CV] model__criterion=gini, model__max_depth=None, model__n_estimators=100 \n",
            "[CV]  model__criterion=gini, model__max_depth=None, model__n_estimators=100, total=   0.3s\n",
            "[CV] model__criterion=gini, model__max_depth=None, model__n_estimators=50 \n",
            "[CV]  model__criterion=gini, model__max_depth=None, model__n_estimators=50, total=   0.2s\n",
            "[CV] model__criterion=gini, model__max_depth=None, model__n_estimators=50 \n",
            "[CV]  model__criterion=gini, model__max_depth=None, model__n_estimators=50, total=   0.2s\n",
            "[CV] model__criterion=gini, model__max_depth=None, model__n_estimators=50 \n",
            "[CV]  model__criterion=gini, model__max_depth=None, model__n_estimators=50, total=   0.2s\n",
            "[CV] model__criterion=gini, model__max_depth=None, model__n_estimators=50 \n",
            "[CV]  model__criterion=gini, model__max_depth=None, model__n_estimators=50, total=   0.2s\n",
            "[CV] model__criterion=gini, model__max_depth=None, model__n_estimators=50 \n",
            "[CV]  model__criterion=gini, model__max_depth=None, model__n_estimators=50, total=   0.2s\n",
            "[CV] model__criterion=gini, model__max_depth=5, model__n_estimators=100 \n",
            "[CV]  model__criterion=gini, model__max_depth=5, model__n_estimators=100, total=   0.3s\n",
            "[CV] model__criterion=gini, model__max_depth=5, model__n_estimators=100 \n",
            "[CV]  model__criterion=gini, model__max_depth=5, model__n_estimators=100, total=   0.3s\n",
            "[CV] model__criterion=gini, model__max_depth=5, model__n_estimators=100 \n",
            "[CV]  model__criterion=gini, model__max_depth=5, model__n_estimators=100, total=   0.3s\n",
            "[CV] model__criterion=gini, model__max_depth=5, model__n_estimators=100 \n",
            "[CV]  model__criterion=gini, model__max_depth=5, model__n_estimators=100, total=   0.3s\n",
            "[CV] model__criterion=gini, model__max_depth=5, model__n_estimators=100 \n",
            "[CV]  model__criterion=gini, model__max_depth=5, model__n_estimators=100, total=   0.3s\n",
            "[CV] model__criterion=gini, model__max_depth=5, model__n_estimators=50 \n",
            "[CV]  model__criterion=gini, model__max_depth=5, model__n_estimators=50, total=   0.2s\n",
            "[CV] model__criterion=gini, model__max_depth=5, model__n_estimators=50 \n",
            "[CV]  model__criterion=gini, model__max_depth=5, model__n_estimators=50, total=   0.2s\n",
            "[CV] model__criterion=gini, model__max_depth=5, model__n_estimators=50 \n",
            "[CV]  model__criterion=gini, model__max_depth=5, model__n_estimators=50, total=   0.2s\n",
            "[CV] model__criterion=gini, model__max_depth=5, model__n_estimators=50 \n",
            "[CV]  model__criterion=gini, model__max_depth=5, model__n_estimators=50, total=   0.2s\n",
            "[CV] model__criterion=gini, model__max_depth=5, model__n_estimators=50 \n",
            "[CV]  model__criterion=gini, model__max_depth=5, model__n_estimators=50, total=   0.2s\n",
            "[CV] model__criterion=gini, model__max_depth=10, model__n_estimators=100 \n",
            "[CV]  model__criterion=gini, model__max_depth=10, model__n_estimators=100, total=   0.3s\n",
            "[CV] model__criterion=gini, model__max_depth=10, model__n_estimators=100 \n",
            "[CV]  model__criterion=gini, model__max_depth=10, model__n_estimators=100, total=   0.3s\n",
            "[CV] model__criterion=gini, model__max_depth=10, model__n_estimators=100 \n",
            "[CV]  model__criterion=gini, model__max_depth=10, model__n_estimators=100, total=   0.3s\n",
            "[CV] model__criterion=gini, model__max_depth=10, model__n_estimators=100 \n",
            "[CV]  model__criterion=gini, model__max_depth=10, model__n_estimators=100, total=   0.3s\n",
            "[CV] model__criterion=gini, model__max_depth=10, model__n_estimators=100 \n",
            "[CV]  model__criterion=gini, model__max_depth=10, model__n_estimators=100, total=   0.3s\n",
            "[CV] model__criterion=gini, model__max_depth=10, model__n_estimators=50 \n",
            "[CV]  model__criterion=gini, model__max_depth=10, model__n_estimators=50, total=   0.2s\n",
            "[CV] model__criterion=gini, model__max_depth=10, model__n_estimators=50 \n",
            "[CV]  model__criterion=gini, model__max_depth=10, model__n_estimators=50, total=   0.2s\n",
            "[CV] model__criterion=gini, model__max_depth=10, model__n_estimators=50 \n",
            "[CV]  model__criterion=gini, model__max_depth=10, model__n_estimators=50, total=   0.2s\n",
            "[CV] model__criterion=gini, model__max_depth=10, model__n_estimators=50 \n",
            "[CV]  model__criterion=gini, model__max_depth=10, model__n_estimators=50, total=   0.2s\n",
            "[CV] model__criterion=gini, model__max_depth=10, model__n_estimators=50 \n",
            "[CV]  model__criterion=gini, model__max_depth=10, model__n_estimators=50, total=   0.2s\n",
            "[CV] model__criterion=entropy, model__max_depth=None, model__n_estimators=100 \n",
            "[CV]  model__criterion=entropy, model__max_depth=None, model__n_estimators=100, total=   0.3s\n",
            "[CV] model__criterion=entropy, model__max_depth=None, model__n_estimators=100 \n",
            "[CV]  model__criterion=entropy, model__max_depth=None, model__n_estimators=100, total=   0.3s\n",
            "[CV] model__criterion=entropy, model__max_depth=None, model__n_estimators=100 \n",
            "[CV]  model__criterion=entropy, model__max_depth=None, model__n_estimators=100, total=   0.3s\n",
            "[CV] model__criterion=entropy, model__max_depth=None, model__n_estimators=100 \n",
            "[CV]  model__criterion=entropy, model__max_depth=None, model__n_estimators=100, total=   0.3s\n",
            "[CV] model__criterion=entropy, model__max_depth=None, model__n_estimators=100 \n",
            "[CV]  model__criterion=entropy, model__max_depth=None, model__n_estimators=100, total=   0.3s\n",
            "[CV] model__criterion=entropy, model__max_depth=None, model__n_estimators=50 \n",
            "[CV]  model__criterion=entropy, model__max_depth=None, model__n_estimators=50, total=   0.2s\n",
            "[CV] model__criterion=entropy, model__max_depth=None, model__n_estimators=50 \n",
            "[CV]  model__criterion=entropy, model__max_depth=None, model__n_estimators=50, total=   0.2s\n",
            "[CV] model__criterion=entropy, model__max_depth=None, model__n_estimators=50 \n",
            "[CV]  model__criterion=entropy, model__max_depth=None, model__n_estimators=50, total=   0.2s\n",
            "[CV] model__criterion=entropy, model__max_depth=None, model__n_estimators=50 \n",
            "[CV]  model__criterion=entropy, model__max_depth=None, model__n_estimators=50, total=   0.2s\n",
            "[CV] model__criterion=entropy, model__max_depth=None, model__n_estimators=50 \n",
            "[CV]  model__criterion=entropy, model__max_depth=None, model__n_estimators=50, total=   0.2s\n",
            "[CV] model__criterion=entropy, model__max_depth=5, model__n_estimators=100 \n",
            "[CV]  model__criterion=entropy, model__max_depth=5, model__n_estimators=100, total=   0.3s\n",
            "[CV] model__criterion=entropy, model__max_depth=5, model__n_estimators=100 \n",
            "[CV]  model__criterion=entropy, model__max_depth=5, model__n_estimators=100, total=   0.3s\n",
            "[CV] model__criterion=entropy, model__max_depth=5, model__n_estimators=100 \n",
            "[CV]  model__criterion=entropy, model__max_depth=5, model__n_estimators=100, total=   0.3s\n",
            "[CV] model__criterion=entropy, model__max_depth=5, model__n_estimators=100 \n",
            "[CV]  model__criterion=entropy, model__max_depth=5, model__n_estimators=100, total=   0.3s\n",
            "[CV] model__criterion=entropy, model__max_depth=5, model__n_estimators=100 \n",
            "[CV]  model__criterion=entropy, model__max_depth=5, model__n_estimators=100, total=   0.3s\n",
            "[CV] model__criterion=entropy, model__max_depth=5, model__n_estimators=50 \n",
            "[CV]  model__criterion=entropy, model__max_depth=5, model__n_estimators=50, total=   0.2s\n",
            "[CV] model__criterion=entropy, model__max_depth=5, model__n_estimators=50 \n",
            "[CV]  model__criterion=entropy, model__max_depth=5, model__n_estimators=50, total=   0.2s\n",
            "[CV] model__criterion=entropy, model__max_depth=5, model__n_estimators=50 \n",
            "[CV]  model__criterion=entropy, model__max_depth=5, model__n_estimators=50, total=   0.2s\n",
            "[CV] model__criterion=entropy, model__max_depth=5, model__n_estimators=50 \n",
            "[CV]  model__criterion=entropy, model__max_depth=5, model__n_estimators=50, total=   0.2s\n",
            "[CV] model__criterion=entropy, model__max_depth=5, model__n_estimators=50 \n",
            "[CV]  model__criterion=entropy, model__max_depth=5, model__n_estimators=50, total=   0.2s\n",
            "[CV] model__criterion=entropy, model__max_depth=10, model__n_estimators=100 \n",
            "[CV]  model__criterion=entropy, model__max_depth=10, model__n_estimators=100, total=   0.3s\n",
            "[CV] model__criterion=entropy, model__max_depth=10, model__n_estimators=100 \n",
            "[CV]  model__criterion=entropy, model__max_depth=10, model__n_estimators=100, total=   0.3s\n",
            "[CV] model__criterion=entropy, model__max_depth=10, model__n_estimators=100 \n",
            "[CV]  model__criterion=entropy, model__max_depth=10, model__n_estimators=100, total=   0.3s\n",
            "[CV] model__criterion=entropy, model__max_depth=10, model__n_estimators=100 \n",
            "[CV]  model__criterion=entropy, model__max_depth=10, model__n_estimators=100, total=   0.3s\n",
            "[CV] model__criterion=entropy, model__max_depth=10, model__n_estimators=100 \n",
            "[CV]  model__criterion=entropy, model__max_depth=10, model__n_estimators=100, total=   0.3s\n",
            "[CV] model__criterion=entropy, model__max_depth=10, model__n_estimators=50 \n",
            "[CV]  model__criterion=entropy, model__max_depth=10, model__n_estimators=50, total=   0.2s\n",
            "[CV] model__criterion=entropy, model__max_depth=10, model__n_estimators=50 \n",
            "[CV]  model__criterion=entropy, model__max_depth=10, model__n_estimators=50, total=   0.2s\n",
            "[CV] model__criterion=entropy, model__max_depth=10, model__n_estimators=50 \n",
            "[CV]  model__criterion=entropy, model__max_depth=10, model__n_estimators=50, total=   0.2s\n",
            "[CV] model__criterion=entropy, model__max_depth=10, model__n_estimators=50 \n",
            "[CV]  model__criterion=entropy, model__max_depth=10, model__n_estimators=50, total=   0.2s\n",
            "[CV] model__criterion=entropy, model__max_depth=10, model__n_estimators=50 \n",
            "[CV]  model__criterion=entropy, model__max_depth=10, model__n_estimators=50, total=   0.2s\n"
          ],
          "name": "stdout"
        },
        {
          "output_type": "stream",
          "text": [
            "[Parallel(n_jobs=-2)]: Done  60 out of  60 | elapsed:   14.0s finished\n"
          ],
          "name": "stderr"
        },
        {
          "output_type": "stream",
          "text": [
            "Fitting 5 folds for each of 12 candidates, totalling 60 fits\n",
            "[CV] model__criterion=gini, model__max_depth=None, model__n_estimators=100 \n"
          ],
          "name": "stdout"
        },
        {
          "output_type": "stream",
          "text": [
            "[Parallel(n_jobs=-2)]: Using backend SequentialBackend with 1 concurrent workers.\n"
          ],
          "name": "stderr"
        },
        {
          "output_type": "stream",
          "text": [
            "[CV]  model__criterion=gini, model__max_depth=None, model__n_estimators=100, total=   0.3s\n",
            "[CV] model__criterion=gini, model__max_depth=None, model__n_estimators=100 \n"
          ],
          "name": "stdout"
        },
        {
          "output_type": "stream",
          "text": [
            "[Parallel(n_jobs=-2)]: Done   1 out of   1 | elapsed:    0.3s remaining:    0.0s\n"
          ],
          "name": "stderr"
        },
        {
          "output_type": "stream",
          "text": [
            "[CV]  model__criterion=gini, model__max_depth=None, model__n_estimators=100, total=   0.3s\n",
            "[CV] model__criterion=gini, model__max_depth=None, model__n_estimators=100 \n",
            "[CV]  model__criterion=gini, model__max_depth=None, model__n_estimators=100, total=   0.3s\n",
            "[CV] model__criterion=gini, model__max_depth=None, model__n_estimators=100 \n",
            "[CV]  model__criterion=gini, model__max_depth=None, model__n_estimators=100, total=   0.2s\n",
            "[CV] model__criterion=gini, model__max_depth=None, model__n_estimators=100 \n",
            "[CV]  model__criterion=gini, model__max_depth=None, model__n_estimators=100, total=   0.3s\n",
            "[CV] model__criterion=gini, model__max_depth=None, model__n_estimators=50 \n",
            "[CV]  model__criterion=gini, model__max_depth=None, model__n_estimators=50, total=   0.2s\n",
            "[CV] model__criterion=gini, model__max_depth=None, model__n_estimators=50 \n",
            "[CV]  model__criterion=gini, model__max_depth=None, model__n_estimators=50, total=   0.2s\n",
            "[CV] model__criterion=gini, model__max_depth=None, model__n_estimators=50 \n",
            "[CV]  model__criterion=gini, model__max_depth=None, model__n_estimators=50, total=   0.2s\n",
            "[CV] model__criterion=gini, model__max_depth=None, model__n_estimators=50 \n",
            "[CV]  model__criterion=gini, model__max_depth=None, model__n_estimators=50, total=   0.2s\n",
            "[CV] model__criterion=gini, model__max_depth=None, model__n_estimators=50 \n",
            "[CV]  model__criterion=gini, model__max_depth=None, model__n_estimators=50, total=   0.2s\n",
            "[CV] model__criterion=gini, model__max_depth=5, model__n_estimators=100 \n",
            "[CV]  model__criterion=gini, model__max_depth=5, model__n_estimators=100, total=   0.3s\n",
            "[CV] model__criterion=gini, model__max_depth=5, model__n_estimators=100 \n",
            "[CV]  model__criterion=gini, model__max_depth=5, model__n_estimators=100, total=   0.3s\n",
            "[CV] model__criterion=gini, model__max_depth=5, model__n_estimators=100 \n",
            "[CV]  model__criterion=gini, model__max_depth=5, model__n_estimators=100, total=   0.3s\n",
            "[CV] model__criterion=gini, model__max_depth=5, model__n_estimators=100 \n",
            "[CV]  model__criterion=gini, model__max_depth=5, model__n_estimators=100, total=   0.3s\n",
            "[CV] model__criterion=gini, model__max_depth=5, model__n_estimators=100 \n",
            "[CV]  model__criterion=gini, model__max_depth=5, model__n_estimators=100, total=   0.3s\n",
            "[CV] model__criterion=gini, model__max_depth=5, model__n_estimators=50 \n",
            "[CV]  model__criterion=gini, model__max_depth=5, model__n_estimators=50, total=   0.2s\n",
            "[CV] model__criterion=gini, model__max_depth=5, model__n_estimators=50 \n",
            "[CV]  model__criterion=gini, model__max_depth=5, model__n_estimators=50, total=   0.2s\n",
            "[CV] model__criterion=gini, model__max_depth=5, model__n_estimators=50 \n",
            "[CV]  model__criterion=gini, model__max_depth=5, model__n_estimators=50, total=   0.2s\n",
            "[CV] model__criterion=gini, model__max_depth=5, model__n_estimators=50 \n",
            "[CV]  model__criterion=gini, model__max_depth=5, model__n_estimators=50, total=   0.2s\n",
            "[CV] model__criterion=gini, model__max_depth=5, model__n_estimators=50 \n",
            "[CV]  model__criterion=gini, model__max_depth=5, model__n_estimators=50, total=   0.2s\n",
            "[CV] model__criterion=gini, model__max_depth=10, model__n_estimators=100 \n",
            "[CV]  model__criterion=gini, model__max_depth=10, model__n_estimators=100, total=   0.3s\n",
            "[CV] model__criterion=gini, model__max_depth=10, model__n_estimators=100 \n",
            "[CV]  model__criterion=gini, model__max_depth=10, model__n_estimators=100, total=   0.3s\n",
            "[CV] model__criterion=gini, model__max_depth=10, model__n_estimators=100 \n",
            "[CV]  model__criterion=gini, model__max_depth=10, model__n_estimators=100, total=   0.3s\n",
            "[CV] model__criterion=gini, model__max_depth=10, model__n_estimators=100 \n",
            "[CV]  model__criterion=gini, model__max_depth=10, model__n_estimators=100, total=   0.3s\n",
            "[CV] model__criterion=gini, model__max_depth=10, model__n_estimators=100 \n",
            "[CV]  model__criterion=gini, model__max_depth=10, model__n_estimators=100, total=   0.3s\n",
            "[CV] model__criterion=gini, model__max_depth=10, model__n_estimators=50 \n",
            "[CV]  model__criterion=gini, model__max_depth=10, model__n_estimators=50, total=   0.2s\n",
            "[CV] model__criterion=gini, model__max_depth=10, model__n_estimators=50 \n",
            "[CV]  model__criterion=gini, model__max_depth=10, model__n_estimators=50, total=   0.2s\n",
            "[CV] model__criterion=gini, model__max_depth=10, model__n_estimators=50 \n",
            "[CV]  model__criterion=gini, model__max_depth=10, model__n_estimators=50, total=   0.2s\n",
            "[CV] model__criterion=gini, model__max_depth=10, model__n_estimators=50 \n",
            "[CV]  model__criterion=gini, model__max_depth=10, model__n_estimators=50, total=   0.2s\n",
            "[CV] model__criterion=gini, model__max_depth=10, model__n_estimators=50 \n",
            "[CV]  model__criterion=gini, model__max_depth=10, model__n_estimators=50, total=   0.2s\n",
            "[CV] model__criterion=entropy, model__max_depth=None, model__n_estimators=100 \n",
            "[CV]  model__criterion=entropy, model__max_depth=None, model__n_estimators=100, total=   0.3s\n",
            "[CV] model__criterion=entropy, model__max_depth=None, model__n_estimators=100 \n",
            "[CV]  model__criterion=entropy, model__max_depth=None, model__n_estimators=100, total=   0.3s\n",
            "[CV] model__criterion=entropy, model__max_depth=None, model__n_estimators=100 \n",
            "[CV]  model__criterion=entropy, model__max_depth=None, model__n_estimators=100, total=   0.3s\n",
            "[CV] model__criterion=entropy, model__max_depth=None, model__n_estimators=100 \n",
            "[CV]  model__criterion=entropy, model__max_depth=None, model__n_estimators=100, total=   0.3s\n",
            "[CV] model__criterion=entropy, model__max_depth=None, model__n_estimators=100 \n",
            "[CV]  model__criterion=entropy, model__max_depth=None, model__n_estimators=100, total=   0.3s\n",
            "[CV] model__criterion=entropy, model__max_depth=None, model__n_estimators=50 \n",
            "[CV]  model__criterion=entropy, model__max_depth=None, model__n_estimators=50, total=   0.2s\n",
            "[CV] model__criterion=entropy, model__max_depth=None, model__n_estimators=50 \n",
            "[CV]  model__criterion=entropy, model__max_depth=None, model__n_estimators=50, total=   0.2s\n",
            "[CV] model__criterion=entropy, model__max_depth=None, model__n_estimators=50 \n",
            "[CV]  model__criterion=entropy, model__max_depth=None, model__n_estimators=50, total=   0.2s\n",
            "[CV] model__criterion=entropy, model__max_depth=None, model__n_estimators=50 \n",
            "[CV]  model__criterion=entropy, model__max_depth=None, model__n_estimators=50, total=   0.2s\n",
            "[CV] model__criterion=entropy, model__max_depth=None, model__n_estimators=50 \n",
            "[CV]  model__criterion=entropy, model__max_depth=None, model__n_estimators=50, total=   0.2s\n",
            "[CV] model__criterion=entropy, model__max_depth=5, model__n_estimators=100 \n",
            "[CV]  model__criterion=entropy, model__max_depth=5, model__n_estimators=100, total=   0.3s\n",
            "[CV] model__criterion=entropy, model__max_depth=5, model__n_estimators=100 \n",
            "[CV]  model__criterion=entropy, model__max_depth=5, model__n_estimators=100, total=   0.3s\n",
            "[CV] model__criterion=entropy, model__max_depth=5, model__n_estimators=100 \n",
            "[CV]  model__criterion=entropy, model__max_depth=5, model__n_estimators=100, total=   0.3s\n",
            "[CV] model__criterion=entropy, model__max_depth=5, model__n_estimators=100 \n",
            "[CV]  model__criterion=entropy, model__max_depth=5, model__n_estimators=100, total=   0.3s\n",
            "[CV] model__criterion=entropy, model__max_depth=5, model__n_estimators=100 \n",
            "[CV]  model__criterion=entropy, model__max_depth=5, model__n_estimators=100, total=   0.3s\n",
            "[CV] model__criterion=entropy, model__max_depth=5, model__n_estimators=50 \n",
            "[CV]  model__criterion=entropy, model__max_depth=5, model__n_estimators=50, total=   0.2s\n",
            "[CV] model__criterion=entropy, model__max_depth=5, model__n_estimators=50 \n",
            "[CV]  model__criterion=entropy, model__max_depth=5, model__n_estimators=50, total=   0.2s\n",
            "[CV] model__criterion=entropy, model__max_depth=5, model__n_estimators=50 \n",
            "[CV]  model__criterion=entropy, model__max_depth=5, model__n_estimators=50, total=   0.2s\n",
            "[CV] model__criterion=entropy, model__max_depth=5, model__n_estimators=50 \n",
            "[CV]  model__criterion=entropy, model__max_depth=5, model__n_estimators=50, total=   0.2s\n",
            "[CV] model__criterion=entropy, model__max_depth=5, model__n_estimators=50 \n",
            "[CV]  model__criterion=entropy, model__max_depth=5, model__n_estimators=50, total=   0.2s\n",
            "[CV] model__criterion=entropy, model__max_depth=10, model__n_estimators=100 \n",
            "[CV]  model__criterion=entropy, model__max_depth=10, model__n_estimators=100, total=   0.3s\n",
            "[CV] model__criterion=entropy, model__max_depth=10, model__n_estimators=100 \n",
            "[CV]  model__criterion=entropy, model__max_depth=10, model__n_estimators=100, total=   0.3s\n",
            "[CV] model__criterion=entropy, model__max_depth=10, model__n_estimators=100 \n",
            "[CV]  model__criterion=entropy, model__max_depth=10, model__n_estimators=100, total=   0.3s\n",
            "[CV] model__criterion=entropy, model__max_depth=10, model__n_estimators=100 \n",
            "[CV]  model__criterion=entropy, model__max_depth=10, model__n_estimators=100, total=   0.3s\n",
            "[CV] model__criterion=entropy, model__max_depth=10, model__n_estimators=100 \n",
            "[CV]  model__criterion=entropy, model__max_depth=10, model__n_estimators=100, total=   0.3s\n",
            "[CV] model__criterion=entropy, model__max_depth=10, model__n_estimators=50 \n",
            "[CV]  model__criterion=entropy, model__max_depth=10, model__n_estimators=50, total=   0.2s\n",
            "[CV] model__criterion=entropy, model__max_depth=10, model__n_estimators=50 \n",
            "[CV]  model__criterion=entropy, model__max_depth=10, model__n_estimators=50, total=   0.2s\n",
            "[CV] model__criterion=entropy, model__max_depth=10, model__n_estimators=50 \n",
            "[CV]  model__criterion=entropy, model__max_depth=10, model__n_estimators=50, total=   0.2s\n",
            "[CV] model__criterion=entropy, model__max_depth=10, model__n_estimators=50 \n",
            "[CV]  model__criterion=entropy, model__max_depth=10, model__n_estimators=50, total=   0.2s\n",
            "[CV] model__criterion=entropy, model__max_depth=10, model__n_estimators=50 \n",
            "[CV]  model__criterion=entropy, model__max_depth=10, model__n_estimators=50, total=   0.2s\n"
          ],
          "name": "stdout"
        },
        {
          "output_type": "stream",
          "text": [
            "[Parallel(n_jobs=-2)]: Done  60 out of  60 | elapsed:   14.1s finished\n"
          ],
          "name": "stderr"
        },
        {
          "output_type": "stream",
          "text": [
            "Fitting 5 folds for each of 12 candidates, totalling 60 fits\n",
            "[CV] model__criterion=gini, model__max_depth=None, model__splitter=best \n",
            "[CV]  model__criterion=gini, model__max_depth=None, model__splitter=best, total=   0.0s\n",
            "[CV] model__criterion=gini, model__max_depth=None, model__splitter=best \n",
            "[CV]  model__criterion=gini, model__max_depth=None, model__splitter=best, total=   0.0s\n",
            "[CV] model__criterion=gini, model__max_depth=None, model__splitter=best \n",
            "[CV]  model__criterion=gini, model__max_depth=None, model__splitter=best, total=   0.0s\n",
            "[CV] model__criterion=gini, model__max_depth=None, model__splitter=best \n",
            "[CV]  model__criterion=gini, model__max_depth=None, model__splitter=best, total=   0.0s\n",
            "[CV] model__criterion=gini, model__max_depth=None, model__splitter=best \n",
            "[CV]  model__criterion=gini, model__max_depth=None, model__splitter=best, total=   0.0s\n",
            "[CV] model__criterion=gini, model__max_depth=None, model__splitter=random \n",
            "[CV]  model__criterion=gini, model__max_depth=None, model__splitter=random, total=   0.0s\n",
            "[CV] model__criterion=gini, model__max_depth=None, model__splitter=random \n",
            "[CV]  model__criterion=gini, model__max_depth=None, model__splitter=random, total=   0.0s\n",
            "[CV] model__criterion=gini, model__max_depth=None, model__splitter=random \n",
            "[CV]  model__criterion=gini, model__max_depth=None, model__splitter=random, total=   0.0s\n",
            "[CV] model__criterion=gini, model__max_depth=None, model__splitter=random \n",
            "[CV]  model__criterion=gini, model__max_depth=None, model__splitter=random, total=   0.0s\n",
            "[CV] model__criterion=gini, model__max_depth=None, model__splitter=random \n",
            "[CV]  model__criterion=gini, model__max_depth=None, model__splitter=random, total=   0.0s\n",
            "[CV] model__criterion=gini, model__max_depth=3, model__splitter=best .\n",
            "[CV]  model__criterion=gini, model__max_depth=3, model__splitter=best, total=   0.0s\n",
            "[CV] model__criterion=gini, model__max_depth=3, model__splitter=best .\n",
            "[CV]  model__criterion=gini, model__max_depth=3, model__splitter=best, total=   0.0s\n",
            "[CV] model__criterion=gini, model__max_depth=3, model__splitter=best .\n",
            "[CV]  model__criterion=gini, model__max_depth=3, model__splitter=best, total=   0.0s\n",
            "[CV] model__criterion=gini, model__max_depth=3, model__splitter=best .\n",
            "[CV]  model__criterion=gini, model__max_depth=3, model__splitter=best, total=   0.0s\n",
            "[CV] model__criterion=gini, model__max_depth=3, model__splitter=best .\n",
            "[CV]  model__criterion=gini, model__max_depth=3, model__splitter=best, total=   0.0s\n",
            "[CV] model__criterion=gini, model__max_depth=3, model__splitter=random \n",
            "[CV]  model__criterion=gini, model__max_depth=3, model__splitter=random, total=   0.0s\n",
            "[CV] model__criterion=gini, model__max_depth=3, model__splitter=random \n",
            "[CV]  model__criterion=gini, model__max_depth=3, model__splitter=random, total=   0.0s\n",
            "[CV] model__criterion=gini, model__max_depth=3, model__splitter=random \n",
            "[CV]  model__criterion=gini, model__max_depth=3, model__splitter=random, total=   0.0s\n",
            "[CV] model__criterion=gini, model__max_depth=3, model__splitter=random \n",
            "[CV]  model__criterion=gini, model__max_depth=3, model__splitter=random, total=   0.0s\n",
            "[CV] model__criterion=gini, model__max_depth=3, model__splitter=random \n",
            "[CV]  model__criterion=gini, model__max_depth=3, model__splitter=random, total=   0.0s\n",
            "[CV] model__criterion=gini, model__max_depth=10, model__splitter=best \n",
            "[CV]  model__criterion=gini, model__max_depth=10, model__splitter=best, total=   0.0s\n",
            "[CV] model__criterion=gini, model__max_depth=10, model__splitter=best \n",
            "[CV]  model__criterion=gini, model__max_depth=10, model__splitter=best, total=   0.0s\n",
            "[CV] model__criterion=gini, model__max_depth=10, model__splitter=best \n",
            "[CV]  model__criterion=gini, model__max_depth=10, model__splitter=best, total=   0.0s\n",
            "[CV] model__criterion=gini, model__max_depth=10, model__splitter=best \n",
            "[CV]  model__criterion=gini, model__max_depth=10, model__splitter=best, total=   0.0s\n",
            "[CV] model__criterion=gini, model__max_depth=10, model__splitter=best \n",
            "[CV]  model__criterion=gini, model__max_depth=10, model__splitter=best, total=   0.0s\n",
            "[CV] model__criterion=gini, model__max_depth=10, model__splitter=random \n",
            "[CV]  model__criterion=gini, model__max_depth=10, model__splitter=random, total=   0.0s\n",
            "[CV] model__criterion=gini, model__max_depth=10, model__splitter=random \n",
            "[CV]  model__criterion=gini, model__max_depth=10, model__splitter=random, total=   0.0s\n",
            "[CV] model__criterion=gini, model__max_depth=10, model__splitter=random \n",
            "[CV]  model__criterion=gini, model__max_depth=10, model__splitter=random, total=   0.0s\n",
            "[CV] model__criterion=gini, model__max_depth=10, model__splitter=random \n",
            "[CV]  model__criterion=gini, model__max_depth=10, model__splitter=random, total=   0.0s\n",
            "[CV] model__criterion=gini, model__max_depth=10, model__splitter=random \n",
            "[CV]  model__criterion=gini, model__max_depth=10, model__splitter=random, total=   0.0s\n",
            "[CV] model__criterion=entropy, model__max_depth=None, model__splitter=best \n",
            "[CV]  model__criterion=entropy, model__max_depth=None, model__splitter=best, total=   0.0s\n",
            "[CV] model__criterion=entropy, model__max_depth=None, model__splitter=best \n"
          ],
          "name": "stdout"
        },
        {
          "output_type": "stream",
          "text": [
            "[Parallel(n_jobs=-2)]: Using backend SequentialBackend with 1 concurrent workers.\n",
            "[Parallel(n_jobs=-2)]: Done   1 out of   1 | elapsed:    0.0s remaining:    0.0s\n"
          ],
          "name": "stderr"
        },
        {
          "output_type": "stream",
          "text": [
            "[CV]  model__criterion=entropy, model__max_depth=None, model__splitter=best, total=   0.0s\n",
            "[CV] model__criterion=entropy, model__max_depth=None, model__splitter=best \n",
            "[CV]  model__criterion=entropy, model__max_depth=None, model__splitter=best, total=   0.0s\n",
            "[CV] model__criterion=entropy, model__max_depth=None, model__splitter=best \n",
            "[CV]  model__criterion=entropy, model__max_depth=None, model__splitter=best, total=   0.0s\n",
            "[CV] model__criterion=entropy, model__max_depth=None, model__splitter=best \n",
            "[CV]  model__criterion=entropy, model__max_depth=None, model__splitter=best, total=   0.0s\n",
            "[CV] model__criterion=entropy, model__max_depth=None, model__splitter=random \n",
            "[CV]  model__criterion=entropy, model__max_depth=None, model__splitter=random, total=   0.0s\n",
            "[CV] model__criterion=entropy, model__max_depth=None, model__splitter=random \n",
            "[CV]  model__criterion=entropy, model__max_depth=None, model__splitter=random, total=   0.0s\n",
            "[CV] model__criterion=entropy, model__max_depth=None, model__splitter=random \n",
            "[CV]  model__criterion=entropy, model__max_depth=None, model__splitter=random, total=   0.0s\n",
            "[CV] model__criterion=entropy, model__max_depth=None, model__splitter=random \n",
            "[CV]  model__criterion=entropy, model__max_depth=None, model__splitter=random, total=   0.0s\n",
            "[CV] model__criterion=entropy, model__max_depth=None, model__splitter=random \n",
            "[CV]  model__criterion=entropy, model__max_depth=None, model__splitter=random, total=   0.0s\n",
            "[CV] model__criterion=entropy, model__max_depth=3, model__splitter=best \n",
            "[CV]  model__criterion=entropy, model__max_depth=3, model__splitter=best, total=   0.0s\n",
            "[CV] model__criterion=entropy, model__max_depth=3, model__splitter=best \n",
            "[CV]  model__criterion=entropy, model__max_depth=3, model__splitter=best, total=   0.0s\n",
            "[CV] model__criterion=entropy, model__max_depth=3, model__splitter=best \n",
            "[CV]  model__criterion=entropy, model__max_depth=3, model__splitter=best, total=   0.0s\n",
            "[CV] model__criterion=entropy, model__max_depth=3, model__splitter=best \n",
            "[CV]  model__criterion=entropy, model__max_depth=3, model__splitter=best, total=   0.0s\n",
            "[CV] model__criterion=entropy, model__max_depth=3, model__splitter=best \n",
            "[CV]  model__criterion=entropy, model__max_depth=3, model__splitter=best, total=   0.0s\n",
            "[CV] model__criterion=entropy, model__max_depth=3, model__splitter=random \n",
            "[CV]  model__criterion=entropy, model__max_depth=3, model__splitter=random, total=   0.0s\n",
            "[CV] model__criterion=entropy, model__max_depth=3, model__splitter=random \n",
            "[CV]  model__criterion=entropy, model__max_depth=3, model__splitter=random, total=   0.0s\n",
            "[CV] model__criterion=entropy, model__max_depth=3, model__splitter=random \n",
            "[CV]  model__criterion=entropy, model__max_depth=3, model__splitter=random, total=   0.0s\n",
            "[CV] model__criterion=entropy, model__max_depth=3, model__splitter=random \n",
            "[CV]  model__criterion=entropy, model__max_depth=3, model__splitter=random, total=   0.0s\n",
            "[CV] model__criterion=entropy, model__max_depth=3, model__splitter=random \n",
            "[CV]  model__criterion=entropy, model__max_depth=3, model__splitter=random, total=   0.0s\n",
            "[CV] model__criterion=entropy, model__max_depth=10, model__splitter=best \n",
            "[CV]  model__criterion=entropy, model__max_depth=10, model__splitter=best, total=   0.0s\n",
            "[CV] model__criterion=entropy, model__max_depth=10, model__splitter=best \n",
            "[CV]  model__criterion=entropy, model__max_depth=10, model__splitter=best, total=   0.0s\n",
            "[CV] model__criterion=entropy, model__max_depth=10, model__splitter=best \n",
            "[CV]  model__criterion=entropy, model__max_depth=10, model__splitter=best, total=   0.0s\n",
            "[CV] model__criterion=entropy, model__max_depth=10, model__splitter=best \n",
            "[CV]  model__criterion=entropy, model__max_depth=10, model__splitter=best, total=   0.0s\n",
            "[CV] model__criterion=entropy, model__max_depth=10, model__splitter=best \n",
            "[CV]  model__criterion=entropy, model__max_depth=10, model__splitter=best, total=   0.0s\n",
            "[CV] model__criterion=entropy, model__max_depth=10, model__splitter=random \n",
            "[CV]  model__criterion=entropy, model__max_depth=10, model__splitter=random, total=   0.0s\n",
            "[CV] model__criterion=entropy, model__max_depth=10, model__splitter=random \n",
            "[CV]  model__criterion=entropy, model__max_depth=10, model__splitter=random, total=   0.0s\n",
            "[CV] model__criterion=entropy, model__max_depth=10, model__splitter=random \n",
            "[CV]  model__criterion=entropy, model__max_depth=10, model__splitter=random, total=   0.0s\n",
            "[CV] model__criterion=entropy, model__max_depth=10, model__splitter=random \n",
            "[CV]  model__criterion=entropy, model__max_depth=10, model__splitter=random, total=   0.0s\n",
            "[CV] model__criterion=entropy, model__max_depth=10, model__splitter=random \n",
            "[CV]  model__criterion=entropy, model__max_depth=10, model__splitter=random, total=   0.0s\n"
          ],
          "name": "stdout"
        },
        {
          "output_type": "stream",
          "text": [
            "[Parallel(n_jobs=-2)]: Done  60 out of  60 | elapsed:    0.4s finished\n",
            "[Parallel(n_jobs=-2)]: Using backend SequentialBackend with 1 concurrent workers.\n",
            "[Parallel(n_jobs=-2)]: Done   1 out of   1 | elapsed:    0.0s remaining:    0.0s\n"
          ],
          "name": "stderr"
        },
        {
          "output_type": "stream",
          "text": [
            "Fitting 5 folds for each of 12 candidates, totalling 60 fits\n",
            "[CV] model__criterion=gini, model__max_depth=None, model__splitter=best \n",
            "[CV]  model__criterion=gini, model__max_depth=None, model__splitter=best, total=   0.0s\n",
            "[CV] model__criterion=gini, model__max_depth=None, model__splitter=best \n",
            "[CV]  model__criterion=gini, model__max_depth=None, model__splitter=best, total=   0.0s\n",
            "[CV] model__criterion=gini, model__max_depth=None, model__splitter=best \n",
            "[CV]  model__criterion=gini, model__max_depth=None, model__splitter=best, total=   0.0s\n",
            "[CV] model__criterion=gini, model__max_depth=None, model__splitter=best \n",
            "[CV]  model__criterion=gini, model__max_depth=None, model__splitter=best, total=   0.0s\n",
            "[CV] model__criterion=gini, model__max_depth=None, model__splitter=best \n",
            "[CV]  model__criterion=gini, model__max_depth=None, model__splitter=best, total=   0.0s\n",
            "[CV] model__criterion=gini, model__max_depth=None, model__splitter=random \n",
            "[CV]  model__criterion=gini, model__max_depth=None, model__splitter=random, total=   0.0s\n",
            "[CV] model__criterion=gini, model__max_depth=None, model__splitter=random \n",
            "[CV]  model__criterion=gini, model__max_depth=None, model__splitter=random, total=   0.0s\n",
            "[CV] model__criterion=gini, model__max_depth=None, model__splitter=random \n",
            "[CV]  model__criterion=gini, model__max_depth=None, model__splitter=random, total=   0.0s\n",
            "[CV] model__criterion=gini, model__max_depth=None, model__splitter=random \n",
            "[CV]  model__criterion=gini, model__max_depth=None, model__splitter=random, total=   0.0s\n",
            "[CV] model__criterion=gini, model__max_depth=None, model__splitter=random \n",
            "[CV]  model__criterion=gini, model__max_depth=None, model__splitter=random, total=   0.0s\n",
            "[CV] model__criterion=gini, model__max_depth=3, model__splitter=best .\n",
            "[CV]  model__criterion=gini, model__max_depth=3, model__splitter=best, total=   0.0s\n",
            "[CV] model__criterion=gini, model__max_depth=3, model__splitter=best .\n",
            "[CV]  model__criterion=gini, model__max_depth=3, model__splitter=best, total=   0.0s\n",
            "[CV] model__criterion=gini, model__max_depth=3, model__splitter=best .\n",
            "[CV]  model__criterion=gini, model__max_depth=3, model__splitter=best, total=   0.0s\n",
            "[CV] model__criterion=gini, model__max_depth=3, model__splitter=best .\n",
            "[CV]  model__criterion=gini, model__max_depth=3, model__splitter=best, total=   0.0s\n",
            "[CV] model__criterion=gini, model__max_depth=3, model__splitter=best .\n",
            "[CV]  model__criterion=gini, model__max_depth=3, model__splitter=best, total=   0.0s\n",
            "[CV] model__criterion=gini, model__max_depth=3, model__splitter=random \n",
            "[CV]  model__criterion=gini, model__max_depth=3, model__splitter=random, total=   0.0s\n",
            "[CV] model__criterion=gini, model__max_depth=3, model__splitter=random \n",
            "[CV]  model__criterion=gini, model__max_depth=3, model__splitter=random, total=   0.0s\n",
            "[CV] model__criterion=gini, model__max_depth=3, model__splitter=random \n",
            "[CV]  model__criterion=gini, model__max_depth=3, model__splitter=random, total=   0.0s\n",
            "[CV] model__criterion=gini, model__max_depth=3, model__splitter=random \n",
            "[CV]  model__criterion=gini, model__max_depth=3, model__splitter=random, total=   0.0s\n",
            "[CV] model__criterion=gini, model__max_depth=3, model__splitter=random \n",
            "[CV]  model__criterion=gini, model__max_depth=3, model__splitter=random, total=   0.0s\n",
            "[CV] model__criterion=gini, model__max_depth=10, model__splitter=best \n",
            "[CV]  model__criterion=gini, model__max_depth=10, model__splitter=best, total=   0.0s\n",
            "[CV] model__criterion=gini, model__max_depth=10, model__splitter=best \n",
            "[CV]  model__criterion=gini, model__max_depth=10, model__splitter=best, total=   0.0s\n",
            "[CV] model__criterion=gini, model__max_depth=10, model__splitter=best \n",
            "[CV]  model__criterion=gini, model__max_depth=10, model__splitter=best, total=   0.0s\n",
            "[CV] model__criterion=gini, model__max_depth=10, model__splitter=best \n",
            "[CV]  model__criterion=gini, model__max_depth=10, model__splitter=best, total=   0.0s\n",
            "[CV] model__criterion=gini, model__max_depth=10, model__splitter=best \n",
            "[CV]  model__criterion=gini, model__max_depth=10, model__splitter=best, total=   0.0s\n",
            "[CV] model__criterion=gini, model__max_depth=10, model__splitter=random \n",
            "[CV]  model__criterion=gini, model__max_depth=10, model__splitter=random, total=   0.0s\n",
            "[CV] model__criterion=gini, model__max_depth=10, model__splitter=random \n",
            "[CV]  model__criterion=gini, model__max_depth=10, model__splitter=random, total=   0.0s\n",
            "[CV] model__criterion=gini, model__max_depth=10, model__splitter=random \n",
            "[CV]  model__criterion=gini, model__max_depth=10, model__splitter=random, total=   0.0s\n",
            "[CV] model__criterion=gini, model__max_depth=10, model__splitter=random \n",
            "[CV]  model__criterion=gini, model__max_depth=10, model__splitter=random, total=   0.0s\n",
            "[CV] model__criterion=gini, model__max_depth=10, model__splitter=random \n",
            "[CV]  model__criterion=gini, model__max_depth=10, model__splitter=random, total=   0.0s\n",
            "[CV] model__criterion=entropy, model__max_depth=None, model__splitter=best \n",
            "[CV]  model__criterion=entropy, model__max_depth=None, model__splitter=best, total=   0.0s\n",
            "[CV] model__criterion=entropy, model__max_depth=None, model__splitter=best \n",
            "[CV]  model__criterion=entropy, model__max_depth=None, model__splitter=best, total=   0.0s\n",
            "[CV] model__criterion=entropy, model__max_depth=None, model__splitter=best \n",
            "[CV]  model__criterion=entropy, model__max_depth=None, model__splitter=best, total=   0.0s\n",
            "[CV] model__criterion=entropy, model__max_depth=None, model__splitter=best \n",
            "[CV]  model__criterion=entropy, model__max_depth=None, model__splitter=best, total=   0.0s\n",
            "[CV] model__criterion=entropy, model__max_depth=None, model__splitter=best \n",
            "[CV]  model__criterion=entropy, model__max_depth=None, model__splitter=best, total=   0.0s\n",
            "[CV] model__criterion=entropy, model__max_depth=None, model__splitter=random \n",
            "[CV]  model__criterion=entropy, model__max_depth=None, model__splitter=random, total=   0.0s\n",
            "[CV] model__criterion=entropy, model__max_depth=None, model__splitter=random \n",
            "[CV]  model__criterion=entropy, model__max_depth=None, model__splitter=random, total=   0.0s\n",
            "[CV] model__criterion=entropy, model__max_depth=None, model__splitter=random \n",
            "[CV]  model__criterion=entropy, model__max_depth=None, model__splitter=random, total=   0.0s\n",
            "[CV] model__criterion=entropy, model__max_depth=None, model__splitter=random \n",
            "[CV]  model__criterion=entropy, model__max_depth=None, model__splitter=random, total=   0.0s\n",
            "[CV] model__criterion=entropy, model__max_depth=None, model__splitter=random \n",
            "[CV]  model__criterion=entropy, model__max_depth=None, model__splitter=random, total=   0.0s\n",
            "[CV] model__criterion=entropy, model__max_depth=3, model__splitter=best \n",
            "[CV]  model__criterion=entropy, model__max_depth=3, model__splitter=best, total=   0.0s\n",
            "[CV] model__criterion=entropy, model__max_depth=3, model__splitter=best \n",
            "[CV]  model__criterion=entropy, model__max_depth=3, model__splitter=best, total=   0.0s\n",
            "[CV] model__criterion=entropy, model__max_depth=3, model__splitter=best \n",
            "[CV]  model__criterion=entropy, model__max_depth=3, model__splitter=best, total=   0.0s\n",
            "[CV] model__criterion=entropy, model__max_depth=3, model__splitter=best \n",
            "[CV]  model__criterion=entropy, model__max_depth=3, model__splitter=best, total=   0.0s\n",
            "[CV] model__criterion=entropy, model__max_depth=3, model__splitter=best \n",
            "[CV]  model__criterion=entropy, model__max_depth=3, model__splitter=best, total=   0.0s\n",
            "[CV] model__criterion=entropy, model__max_depth=3, model__splitter=random \n",
            "[CV]  model__criterion=entropy, model__max_depth=3, model__splitter=random, total=   0.0s\n",
            "[CV] model__criterion=entropy, model__max_depth=3, model__splitter=random \n",
            "[CV]  model__criterion=entropy, model__max_depth=3, model__splitter=random, total=   0.0s\n",
            "[CV] model__criterion=entropy, model__max_depth=3, model__splitter=random \n",
            "[CV]  model__criterion=entropy, model__max_depth=3, model__splitter=random, total=   0.0s\n",
            "[CV] model__criterion=entropy, model__max_depth=3, model__splitter=random \n",
            "[CV]  model__criterion=entropy, model__max_depth=3, model__splitter=random, total=   0.0s\n",
            "[CV] model__criterion=entropy, model__max_depth=3, model__splitter=random \n",
            "[CV]  model__criterion=entropy, model__max_depth=3, model__splitter=random, total=   0.0s\n",
            "[CV] model__criterion=entropy, model__max_depth=10, model__splitter=best \n",
            "[CV]  model__criterion=entropy, model__max_depth=10, model__splitter=best, total=   0.0s\n",
            "[CV] model__criterion=entropy, model__max_depth=10, model__splitter=best \n",
            "[CV]  model__criterion=entropy, model__max_depth=10, model__splitter=best, total=   0.0s\n",
            "[CV] model__criterion=entropy, model__max_depth=10, model__splitter=best \n",
            "[CV]  model__criterion=entropy, model__max_depth=10, model__splitter=best, total=   0.0s\n",
            "[CV] model__criterion=entropy, model__max_depth=10, model__splitter=best \n",
            "[CV]  model__criterion=entropy, model__max_depth=10, model__splitter=best, total=   0.0s\n",
            "[CV] model__criterion=entropy, model__max_depth=10, model__splitter=best \n",
            "[CV]  model__criterion=entropy, model__max_depth=10, model__splitter=best, total=   0.0s\n",
            "[CV] model__criterion=entropy, model__max_depth=10, model__splitter=random \n",
            "[CV]  model__criterion=entropy, model__max_depth=10, model__splitter=random, total=   0.0s\n",
            "[CV] model__criterion=entropy, model__max_depth=10, model__splitter=random \n",
            "[CV]  model__criterion=entropy, model__max_depth=10, model__splitter=random, total=   0.0s\n",
            "[CV] model__criterion=entropy, model__max_depth=10, model__splitter=random \n",
            "[CV]  model__criterion=entropy, model__max_depth=10, model__splitter=random, total=   0.0s\n",
            "[CV] model__criterion=entropy, model__max_depth=10, model__splitter=random \n",
            "[CV]  model__criterion=entropy, model__max_depth=10, model__splitter=random, total=   0.0s\n",
            "[CV] model__criterion=entropy, model__max_depth=10, model__splitter=random \n",
            "[CV]  model__criterion=entropy, model__max_depth=10, model__splitter=random, total=   0.0s\n",
            "Fitting 5 folds for each of 12 candidates, totalling 60 fits\n",
            "[CV] model__criterion=gini, model__max_depth=None, model__splitter=best \n",
            "[CV]  model__criterion=gini, model__max_depth=None, model__splitter=best, total=   0.0s\n",
            "[CV] model__criterion=gini, model__max_depth=None, model__splitter=best \n"
          ],
          "name": "stdout"
        },
        {
          "output_type": "stream",
          "text": [
            "[Parallel(n_jobs=-2)]: Done  60 out of  60 | elapsed:    0.4s finished\n",
            "[Parallel(n_jobs=-2)]: Using backend SequentialBackend with 1 concurrent workers.\n",
            "[Parallel(n_jobs=-2)]: Done   1 out of   1 | elapsed:    0.0s remaining:    0.0s\n"
          ],
          "name": "stderr"
        },
        {
          "output_type": "stream",
          "text": [
            "[CV]  model__criterion=gini, model__max_depth=None, model__splitter=best, total=   0.0s\n",
            "[CV] model__criterion=gini, model__max_depth=None, model__splitter=best \n",
            "[CV]  model__criterion=gini, model__max_depth=None, model__splitter=best, total=   0.0s\n",
            "[CV] model__criterion=gini, model__max_depth=None, model__splitter=best \n",
            "[CV]  model__criterion=gini, model__max_depth=None, model__splitter=best, total=   0.0s\n",
            "[CV] model__criterion=gini, model__max_depth=None, model__splitter=best \n",
            "[CV]  model__criterion=gini, model__max_depth=None, model__splitter=best, total=   0.0s\n",
            "[CV] model__criterion=gini, model__max_depth=None, model__splitter=random \n",
            "[CV]  model__criterion=gini, model__max_depth=None, model__splitter=random, total=   0.0s\n",
            "[CV] model__criterion=gini, model__max_depth=None, model__splitter=random \n",
            "[CV]  model__criterion=gini, model__max_depth=None, model__splitter=random, total=   0.0s\n",
            "[CV] model__criterion=gini, model__max_depth=None, model__splitter=random \n",
            "[CV]  model__criterion=gini, model__max_depth=None, model__splitter=random, total=   0.0s\n",
            "[CV] model__criterion=gini, model__max_depth=None, model__splitter=random \n",
            "[CV]  model__criterion=gini, model__max_depth=None, model__splitter=random, total=   0.0s\n",
            "[CV] model__criterion=gini, model__max_depth=None, model__splitter=random \n",
            "[CV]  model__criterion=gini, model__max_depth=None, model__splitter=random, total=   0.0s\n",
            "[CV] model__criterion=gini, model__max_depth=3, model__splitter=best .\n",
            "[CV]  model__criterion=gini, model__max_depth=3, model__splitter=best, total=   0.0s\n",
            "[CV] model__criterion=gini, model__max_depth=3, model__splitter=best .\n",
            "[CV]  model__criterion=gini, model__max_depth=3, model__splitter=best, total=   0.0s\n",
            "[CV] model__criterion=gini, model__max_depth=3, model__splitter=best .\n",
            "[CV]  model__criterion=gini, model__max_depth=3, model__splitter=best, total=   0.0s\n",
            "[CV] model__criterion=gini, model__max_depth=3, model__splitter=best .\n",
            "[CV]  model__criterion=gini, model__max_depth=3, model__splitter=best, total=   0.0s\n",
            "[CV] model__criterion=gini, model__max_depth=3, model__splitter=best .\n",
            "[CV]  model__criterion=gini, model__max_depth=3, model__splitter=best, total=   0.0s\n",
            "[CV] model__criterion=gini, model__max_depth=3, model__splitter=random \n",
            "[CV]  model__criterion=gini, model__max_depth=3, model__splitter=random, total=   0.0s\n",
            "[CV] model__criterion=gini, model__max_depth=3, model__splitter=random \n",
            "[CV]  model__criterion=gini, model__max_depth=3, model__splitter=random, total=   0.0s\n",
            "[CV] model__criterion=gini, model__max_depth=3, model__splitter=random \n",
            "[CV]  model__criterion=gini, model__max_depth=3, model__splitter=random, total=   0.0s\n",
            "[CV] model__criterion=gini, model__max_depth=3, model__splitter=random \n",
            "[CV]  model__criterion=gini, model__max_depth=3, model__splitter=random, total=   0.0s\n",
            "[CV] model__criterion=gini, model__max_depth=3, model__splitter=random \n",
            "[CV]  model__criterion=gini, model__max_depth=3, model__splitter=random, total=   0.0s\n",
            "[CV] model__criterion=gini, model__max_depth=10, model__splitter=best \n",
            "[CV]  model__criterion=gini, model__max_depth=10, model__splitter=best, total=   0.0s\n",
            "[CV] model__criterion=gini, model__max_depth=10, model__splitter=best \n",
            "[CV]  model__criterion=gini, model__max_depth=10, model__splitter=best, total=   0.0s\n",
            "[CV] model__criterion=gini, model__max_depth=10, model__splitter=best \n",
            "[CV]  model__criterion=gini, model__max_depth=10, model__splitter=best, total=   0.0s\n",
            "[CV] model__criterion=gini, model__max_depth=10, model__splitter=best \n",
            "[CV]  model__criterion=gini, model__max_depth=10, model__splitter=best, total=   0.0s\n",
            "[CV] model__criterion=gini, model__max_depth=10, model__splitter=best \n",
            "[CV]  model__criterion=gini, model__max_depth=10, model__splitter=best, total=   0.0s\n",
            "[CV] model__criterion=gini, model__max_depth=10, model__splitter=random \n",
            "[CV]  model__criterion=gini, model__max_depth=10, model__splitter=random, total=   0.0s\n",
            "[CV] model__criterion=gini, model__max_depth=10, model__splitter=random \n",
            "[CV]  model__criterion=gini, model__max_depth=10, model__splitter=random, total=   0.0s\n",
            "[CV] model__criterion=gini, model__max_depth=10, model__splitter=random \n",
            "[CV]  model__criterion=gini, model__max_depth=10, model__splitter=random, total=   0.0s\n",
            "[CV] model__criterion=gini, model__max_depth=10, model__splitter=random \n",
            "[CV]  model__criterion=gini, model__max_depth=10, model__splitter=random, total=   0.0s\n",
            "[CV] model__criterion=gini, model__max_depth=10, model__splitter=random \n",
            "[CV]  model__criterion=gini, model__max_depth=10, model__splitter=random, total=   0.0s\n",
            "[CV] model__criterion=entropy, model__max_depth=None, model__splitter=best \n",
            "[CV]  model__criterion=entropy, model__max_depth=None, model__splitter=best, total=   0.0s\n",
            "[CV] model__criterion=entropy, model__max_depth=None, model__splitter=best \n",
            "[CV]  model__criterion=entropy, model__max_depth=None, model__splitter=best, total=   0.0s\n",
            "[CV] model__criterion=entropy, model__max_depth=None, model__splitter=best \n",
            "[CV]  model__criterion=entropy, model__max_depth=None, model__splitter=best, total=   0.0s\n",
            "[CV] model__criterion=entropy, model__max_depth=None, model__splitter=best \n",
            "[CV]  model__criterion=entropy, model__max_depth=None, model__splitter=best, total=   0.0s\n",
            "[CV] model__criterion=entropy, model__max_depth=None, model__splitter=best \n",
            "[CV]  model__criterion=entropy, model__max_depth=None, model__splitter=best, total=   0.0s\n",
            "[CV] model__criterion=entropy, model__max_depth=None, model__splitter=random \n",
            "[CV]  model__criterion=entropy, model__max_depth=None, model__splitter=random, total=   0.0s\n",
            "[CV] model__criterion=entropy, model__max_depth=None, model__splitter=random \n",
            "[CV]  model__criterion=entropy, model__max_depth=None, model__splitter=random, total=   0.0s\n",
            "[CV] model__criterion=entropy, model__max_depth=None, model__splitter=random \n",
            "[CV]  model__criterion=entropy, model__max_depth=None, model__splitter=random, total=   0.0s\n",
            "[CV] model__criterion=entropy, model__max_depth=None, model__splitter=random \n",
            "[CV]  model__criterion=entropy, model__max_depth=None, model__splitter=random, total=   0.0s\n",
            "[CV] model__criterion=entropy, model__max_depth=None, model__splitter=random \n",
            "[CV]  model__criterion=entropy, model__max_depth=None, model__splitter=random, total=   0.0s\n",
            "[CV] model__criterion=entropy, model__max_depth=3, model__splitter=best \n",
            "[CV]  model__criterion=entropy, model__max_depth=3, model__splitter=best, total=   0.0s\n",
            "[CV] model__criterion=entropy, model__max_depth=3, model__splitter=best \n",
            "[CV]  model__criterion=entropy, model__max_depth=3, model__splitter=best, total=   0.0s\n",
            "[CV] model__criterion=entropy, model__max_depth=3, model__splitter=best \n",
            "[CV]  model__criterion=entropy, model__max_depth=3, model__splitter=best, total=   0.0s\n",
            "[CV] model__criterion=entropy, model__max_depth=3, model__splitter=best \n",
            "[CV]  model__criterion=entropy, model__max_depth=3, model__splitter=best, total=   0.0s\n",
            "[CV] model__criterion=entropy, model__max_depth=3, model__splitter=best \n",
            "[CV]  model__criterion=entropy, model__max_depth=3, model__splitter=best, total=   0.0s\n",
            "[CV] model__criterion=entropy, model__max_depth=3, model__splitter=random \n",
            "[CV]  model__criterion=entropy, model__max_depth=3, model__splitter=random, total=   0.0s\n",
            "[CV] model__criterion=entropy, model__max_depth=3, model__splitter=random \n",
            "[CV]  model__criterion=entropy, model__max_depth=3, model__splitter=random, total=   0.0s\n",
            "[CV] model__criterion=entropy, model__max_depth=3, model__splitter=random \n",
            "[CV]  model__criterion=entropy, model__max_depth=3, model__splitter=random, total=   0.0s\n",
            "[CV] model__criterion=entropy, model__max_depth=3, model__splitter=random \n",
            "[CV]  model__criterion=entropy, model__max_depth=3, model__splitter=random, total=   0.0s\n",
            "[CV] model__criterion=entropy, model__max_depth=3, model__splitter=random \n",
            "[CV]  model__criterion=entropy, model__max_depth=3, model__splitter=random, total=   0.0s\n",
            "[CV] model__criterion=entropy, model__max_depth=10, model__splitter=best \n",
            "[CV]  model__criterion=entropy, model__max_depth=10, model__splitter=best, total=   0.0s\n",
            "[CV] model__criterion=entropy, model__max_depth=10, model__splitter=best \n",
            "[CV]  model__criterion=entropy, model__max_depth=10, model__splitter=best, total=   0.0s\n",
            "[CV] model__criterion=entropy, model__max_depth=10, model__splitter=best \n",
            "[CV]  model__criterion=entropy, model__max_depth=10, model__splitter=best, total=   0.0s\n",
            "[CV] model__criterion=entropy, model__max_depth=10, model__splitter=best \n",
            "[CV]  model__criterion=entropy, model__max_depth=10, model__splitter=best, total=   0.0s\n",
            "[CV] model__criterion=entropy, model__max_depth=10, model__splitter=best \n",
            "[CV]  model__criterion=entropy, model__max_depth=10, model__splitter=best, total=   0.0s\n",
            "[CV] model__criterion=entropy, model__max_depth=10, model__splitter=random \n",
            "[CV]  model__criterion=entropy, model__max_depth=10, model__splitter=random, total=   0.0s\n",
            "[CV] model__criterion=entropy, model__max_depth=10, model__splitter=random \n",
            "[CV]  model__criterion=entropy, model__max_depth=10, model__splitter=random, total=   0.0s\n",
            "[CV] model__criterion=entropy, model__max_depth=10, model__splitter=random \n",
            "[CV]  model__criterion=entropy, model__max_depth=10, model__splitter=random, total=   0.0s\n",
            "[CV] model__criterion=entropy, model__max_depth=10, model__splitter=random \n",
            "[CV]  model__criterion=entropy, model__max_depth=10, model__splitter=random, total=   0.0s\n",
            "[CV] model__criterion=entropy, model__max_depth=10, model__splitter=random \n",
            "[CV]  model__criterion=entropy, model__max_depth=10, model__splitter=random, total=   0.0s\n",
            "Fitting 5 folds for each of 12 candidates, totalling 60 fits\n",
            "[CV] model__criterion=gini, model__max_depth=None, model__splitter=best \n",
            "[CV]  model__criterion=gini, model__max_depth=None, model__splitter=best, total=   0.0s\n",
            "[CV] model__criterion=gini, model__max_depth=None, model__splitter=best \n",
            "[CV]  model__criterion=gini, model__max_depth=None, model__splitter=best, total=   0.0s\n",
            "[CV] model__criterion=gini, model__max_depth=None, model__splitter=best \n"
          ],
          "name": "stdout"
        },
        {
          "output_type": "stream",
          "text": [
            "[Parallel(n_jobs=-2)]: Done  60 out of  60 | elapsed:    0.4s finished\n",
            "[Parallel(n_jobs=-2)]: Using backend SequentialBackend with 1 concurrent workers.\n",
            "[Parallel(n_jobs=-2)]: Done   1 out of   1 | elapsed:    0.0s remaining:    0.0s\n"
          ],
          "name": "stderr"
        },
        {
          "output_type": "stream",
          "text": [
            "[CV]  model__criterion=gini, model__max_depth=None, model__splitter=best, total=   0.0s\n",
            "[CV] model__criterion=gini, model__max_depth=None, model__splitter=best \n",
            "[CV]  model__criterion=gini, model__max_depth=None, model__splitter=best, total=   0.0s\n",
            "[CV] model__criterion=gini, model__max_depth=None, model__splitter=best \n",
            "[CV]  model__criterion=gini, model__max_depth=None, model__splitter=best, total=   0.0s\n",
            "[CV] model__criterion=gini, model__max_depth=None, model__splitter=random \n",
            "[CV]  model__criterion=gini, model__max_depth=None, model__splitter=random, total=   0.0s\n",
            "[CV] model__criterion=gini, model__max_depth=None, model__splitter=random \n",
            "[CV]  model__criterion=gini, model__max_depth=None, model__splitter=random, total=   0.0s\n",
            "[CV] model__criterion=gini, model__max_depth=None, model__splitter=random \n",
            "[CV]  model__criterion=gini, model__max_depth=None, model__splitter=random, total=   0.0s\n",
            "[CV] model__criterion=gini, model__max_depth=None, model__splitter=random \n",
            "[CV]  model__criterion=gini, model__max_depth=None, model__splitter=random, total=   0.0s\n",
            "[CV] model__criterion=gini, model__max_depth=None, model__splitter=random \n",
            "[CV]  model__criterion=gini, model__max_depth=None, model__splitter=random, total=   0.0s\n",
            "[CV] model__criterion=gini, model__max_depth=3, model__splitter=best .\n",
            "[CV]  model__criterion=gini, model__max_depth=3, model__splitter=best, total=   0.0s\n",
            "[CV] model__criterion=gini, model__max_depth=3, model__splitter=best .\n",
            "[CV]  model__criterion=gini, model__max_depth=3, model__splitter=best, total=   0.0s\n",
            "[CV] model__criterion=gini, model__max_depth=3, model__splitter=best .\n",
            "[CV]  model__criterion=gini, model__max_depth=3, model__splitter=best, total=   0.0s\n",
            "[CV] model__criterion=gini, model__max_depth=3, model__splitter=best .\n",
            "[CV]  model__criterion=gini, model__max_depth=3, model__splitter=best, total=   0.0s\n",
            "[CV] model__criterion=gini, model__max_depth=3, model__splitter=best .\n",
            "[CV]  model__criterion=gini, model__max_depth=3, model__splitter=best, total=   0.0s\n",
            "[CV] model__criterion=gini, model__max_depth=3, model__splitter=random \n",
            "[CV]  model__criterion=gini, model__max_depth=3, model__splitter=random, total=   0.0s\n",
            "[CV] model__criterion=gini, model__max_depth=3, model__splitter=random \n",
            "[CV]  model__criterion=gini, model__max_depth=3, model__splitter=random, total=   0.0s\n",
            "[CV] model__criterion=gini, model__max_depth=3, model__splitter=random \n",
            "[CV]  model__criterion=gini, model__max_depth=3, model__splitter=random, total=   0.0s\n",
            "[CV] model__criterion=gini, model__max_depth=3, model__splitter=random \n",
            "[CV]  model__criterion=gini, model__max_depth=3, model__splitter=random, total=   0.0s\n",
            "[CV] model__criterion=gini, model__max_depth=3, model__splitter=random \n",
            "[CV]  model__criterion=gini, model__max_depth=3, model__splitter=random, total=   0.0s\n",
            "[CV] model__criterion=gini, model__max_depth=10, model__splitter=best \n",
            "[CV]  model__criterion=gini, model__max_depth=10, model__splitter=best, total=   0.0s\n",
            "[CV] model__criterion=gini, model__max_depth=10, model__splitter=best \n",
            "[CV]  model__criterion=gini, model__max_depth=10, model__splitter=best, total=   0.0s\n",
            "[CV] model__criterion=gini, model__max_depth=10, model__splitter=best \n",
            "[CV]  model__criterion=gini, model__max_depth=10, model__splitter=best, total=   0.0s\n",
            "[CV] model__criterion=gini, model__max_depth=10, model__splitter=best \n",
            "[CV]  model__criterion=gini, model__max_depth=10, model__splitter=best, total=   0.0s\n",
            "[CV] model__criterion=gini, model__max_depth=10, model__splitter=best \n",
            "[CV]  model__criterion=gini, model__max_depth=10, model__splitter=best, total=   0.0s\n",
            "[CV] model__criterion=gini, model__max_depth=10, model__splitter=random \n",
            "[CV]  model__criterion=gini, model__max_depth=10, model__splitter=random, total=   0.0s\n",
            "[CV] model__criterion=gini, model__max_depth=10, model__splitter=random \n",
            "[CV]  model__criterion=gini, model__max_depth=10, model__splitter=random, total=   0.0s\n",
            "[CV] model__criterion=gini, model__max_depth=10, model__splitter=random \n",
            "[CV]  model__criterion=gini, model__max_depth=10, model__splitter=random, total=   0.0s\n",
            "[CV] model__criterion=gini, model__max_depth=10, model__splitter=random \n",
            "[CV]  model__criterion=gini, model__max_depth=10, model__splitter=random, total=   0.0s\n",
            "[CV] model__criterion=gini, model__max_depth=10, model__splitter=random \n",
            "[CV]  model__criterion=gini, model__max_depth=10, model__splitter=random, total=   0.0s\n",
            "[CV] model__criterion=entropy, model__max_depth=None, model__splitter=best \n",
            "[CV]  model__criterion=entropy, model__max_depth=None, model__splitter=best, total=   0.0s\n",
            "[CV] model__criterion=entropy, model__max_depth=None, model__splitter=best \n",
            "[CV]  model__criterion=entropy, model__max_depth=None, model__splitter=best, total=   0.0s\n",
            "[CV] model__criterion=entropy, model__max_depth=None, model__splitter=best \n",
            "[CV]  model__criterion=entropy, model__max_depth=None, model__splitter=best, total=   0.0s\n",
            "[CV] model__criterion=entropy, model__max_depth=None, model__splitter=best \n",
            "[CV]  model__criterion=entropy, model__max_depth=None, model__splitter=best, total=   0.0s\n",
            "[CV] model__criterion=entropy, model__max_depth=None, model__splitter=best \n",
            "[CV]  model__criterion=entropy, model__max_depth=None, model__splitter=best, total=   0.0s\n",
            "[CV] model__criterion=entropy, model__max_depth=None, model__splitter=random \n",
            "[CV]  model__criterion=entropy, model__max_depth=None, model__splitter=random, total=   0.0s\n",
            "[CV] model__criterion=entropy, model__max_depth=None, model__splitter=random \n",
            "[CV]  model__criterion=entropy, model__max_depth=None, model__splitter=random, total=   0.0s\n",
            "[CV] model__criterion=entropy, model__max_depth=None, model__splitter=random \n",
            "[CV]  model__criterion=entropy, model__max_depth=None, model__splitter=random, total=   0.0s\n",
            "[CV] model__criterion=entropy, model__max_depth=None, model__splitter=random \n",
            "[CV]  model__criterion=entropy, model__max_depth=None, model__splitter=random, total=   0.0s\n",
            "[CV] model__criterion=entropy, model__max_depth=None, model__splitter=random \n",
            "[CV]  model__criterion=entropy, model__max_depth=None, model__splitter=random, total=   0.0s\n",
            "[CV] model__criterion=entropy, model__max_depth=3, model__splitter=best \n",
            "[CV]  model__criterion=entropy, model__max_depth=3, model__splitter=best, total=   0.0s\n",
            "[CV] model__criterion=entropy, model__max_depth=3, model__splitter=best \n",
            "[CV]  model__criterion=entropy, model__max_depth=3, model__splitter=best, total=   0.0s\n",
            "[CV] model__criterion=entropy, model__max_depth=3, model__splitter=best \n",
            "[CV]  model__criterion=entropy, model__max_depth=3, model__splitter=best, total=   0.0s\n",
            "[CV] model__criterion=entropy, model__max_depth=3, model__splitter=best \n",
            "[CV]  model__criterion=entropy, model__max_depth=3, model__splitter=best, total=   0.0s\n",
            "[CV] model__criterion=entropy, model__max_depth=3, model__splitter=best \n",
            "[CV]  model__criterion=entropy, model__max_depth=3, model__splitter=best, total=   0.0s\n",
            "[CV] model__criterion=entropy, model__max_depth=3, model__splitter=random \n",
            "[CV]  model__criterion=entropy, model__max_depth=3, model__splitter=random, total=   0.0s\n",
            "[CV] model__criterion=entropy, model__max_depth=3, model__splitter=random \n",
            "[CV]  model__criterion=entropy, model__max_depth=3, model__splitter=random, total=   0.0s\n",
            "[CV] model__criterion=entropy, model__max_depth=3, model__splitter=random \n",
            "[CV]  model__criterion=entropy, model__max_depth=3, model__splitter=random, total=   0.0s\n",
            "[CV] model__criterion=entropy, model__max_depth=3, model__splitter=random \n",
            "[CV]  model__criterion=entropy, model__max_depth=3, model__splitter=random, total=   0.0s\n",
            "[CV] model__criterion=entropy, model__max_depth=3, model__splitter=random \n",
            "[CV]  model__criterion=entropy, model__max_depth=3, model__splitter=random, total=   0.0s\n",
            "[CV] model__criterion=entropy, model__max_depth=10, model__splitter=best \n",
            "[CV]  model__criterion=entropy, model__max_depth=10, model__splitter=best, total=   0.0s\n",
            "[CV] model__criterion=entropy, model__max_depth=10, model__splitter=best \n",
            "[CV]  model__criterion=entropy, model__max_depth=10, model__splitter=best, total=   0.0s\n",
            "[CV] model__criterion=entropy, model__max_depth=10, model__splitter=best \n",
            "[CV]  model__criterion=entropy, model__max_depth=10, model__splitter=best, total=   0.0s\n",
            "[CV] model__criterion=entropy, model__max_depth=10, model__splitter=best \n",
            "[CV]  model__criterion=entropy, model__max_depth=10, model__splitter=best, total=   0.0s\n",
            "[CV] model__criterion=entropy, model__max_depth=10, model__splitter=best \n",
            "[CV]  model__criterion=entropy, model__max_depth=10, model__splitter=best, total=   0.0s\n",
            "[CV] model__criterion=entropy, model__max_depth=10, model__splitter=random \n",
            "[CV]  model__criterion=entropy, model__max_depth=10, model__splitter=random, total=   0.0s\n",
            "[CV] model__criterion=entropy, model__max_depth=10, model__splitter=random \n",
            "[CV]  model__criterion=entropy, model__max_depth=10, model__splitter=random, total=   0.0s\n",
            "[CV] model__criterion=entropy, model__max_depth=10, model__splitter=random \n",
            "[CV]  model__criterion=entropy, model__max_depth=10, model__splitter=random, total=   0.0s\n",
            "[CV] model__criterion=entropy, model__max_depth=10, model__splitter=random \n",
            "[CV]  model__criterion=entropy, model__max_depth=10, model__splitter=random, total=   0.0s\n",
            "[CV] model__criterion=entropy, model__max_depth=10, model__splitter=random \n",
            "[CV]  model__criterion=entropy, model__max_depth=10, model__splitter=random, total=   0.0s\n",
            "Fitting 5 folds for each of 12 candidates, totalling 60 fits\n",
            "[CV] model__criterion=gini, model__max_depth=None, model__splitter=best \n",
            "[CV]  model__criterion=gini, model__max_depth=None, model__splitter=best, total=   0.0s\n",
            "[CV] model__criterion=gini, model__max_depth=None, model__splitter=best \n",
            "[CV]  model__criterion=gini, model__max_depth=None, model__splitter=best, total=   0.0s\n",
            "[CV] model__criterion=gini, model__max_depth=None, model__splitter=best \n",
            "[CV]  model__criterion=gini, model__max_depth=None, model__splitter=best, total=   0.0s\n",
            "[CV] model__criterion=gini, model__max_depth=None, model__splitter=best \n"
          ],
          "name": "stdout"
        },
        {
          "output_type": "stream",
          "text": [
            "[Parallel(n_jobs=-2)]: Done  60 out of  60 | elapsed:    0.4s finished\n",
            "[Parallel(n_jobs=-2)]: Using backend SequentialBackend with 1 concurrent workers.\n",
            "[Parallel(n_jobs=-2)]: Done   1 out of   1 | elapsed:    0.0s remaining:    0.0s\n"
          ],
          "name": "stderr"
        },
        {
          "output_type": "stream",
          "text": [
            "[CV]  model__criterion=gini, model__max_depth=None, model__splitter=best, total=   0.0s\n",
            "[CV] model__criterion=gini, model__max_depth=None, model__splitter=best \n",
            "[CV]  model__criterion=gini, model__max_depth=None, model__splitter=best, total=   0.0s\n",
            "[CV] model__criterion=gini, model__max_depth=None, model__splitter=random \n",
            "[CV]  model__criterion=gini, model__max_depth=None, model__splitter=random, total=   0.0s\n",
            "[CV] model__criterion=gini, model__max_depth=None, model__splitter=random \n",
            "[CV]  model__criterion=gini, model__max_depth=None, model__splitter=random, total=   0.0s\n",
            "[CV] model__criterion=gini, model__max_depth=None, model__splitter=random \n",
            "[CV]  model__criterion=gini, model__max_depth=None, model__splitter=random, total=   0.0s\n",
            "[CV] model__criterion=gini, model__max_depth=None, model__splitter=random \n",
            "[CV]  model__criterion=gini, model__max_depth=None, model__splitter=random, total=   0.0s\n",
            "[CV] model__criterion=gini, model__max_depth=None, model__splitter=random \n",
            "[CV]  model__criterion=gini, model__max_depth=None, model__splitter=random, total=   0.0s\n",
            "[CV] model__criterion=gini, model__max_depth=3, model__splitter=best .\n",
            "[CV]  model__criterion=gini, model__max_depth=3, model__splitter=best, total=   0.0s\n",
            "[CV] model__criterion=gini, model__max_depth=3, model__splitter=best .\n",
            "[CV]  model__criterion=gini, model__max_depth=3, model__splitter=best, total=   0.0s\n",
            "[CV] model__criterion=gini, model__max_depth=3, model__splitter=best .\n",
            "[CV]  model__criterion=gini, model__max_depth=3, model__splitter=best, total=   0.0s\n",
            "[CV] model__criterion=gini, model__max_depth=3, model__splitter=best .\n",
            "[CV]  model__criterion=gini, model__max_depth=3, model__splitter=best, total=   0.0s\n",
            "[CV] model__criterion=gini, model__max_depth=3, model__splitter=best .\n",
            "[CV]  model__criterion=gini, model__max_depth=3, model__splitter=best, total=   0.0s\n",
            "[CV] model__criterion=gini, model__max_depth=3, model__splitter=random \n",
            "[CV]  model__criterion=gini, model__max_depth=3, model__splitter=random, total=   0.0s\n",
            "[CV] model__criterion=gini, model__max_depth=3, model__splitter=random \n",
            "[CV]  model__criterion=gini, model__max_depth=3, model__splitter=random, total=   0.0s\n",
            "[CV] model__criterion=gini, model__max_depth=3, model__splitter=random \n",
            "[CV]  model__criterion=gini, model__max_depth=3, model__splitter=random, total=   0.0s\n",
            "[CV] model__criterion=gini, model__max_depth=3, model__splitter=random \n",
            "[CV]  model__criterion=gini, model__max_depth=3, model__splitter=random, total=   0.0s\n",
            "[CV] model__criterion=gini, model__max_depth=3, model__splitter=random \n",
            "[CV]  model__criterion=gini, model__max_depth=3, model__splitter=random, total=   0.0s\n",
            "[CV] model__criterion=gini, model__max_depth=10, model__splitter=best \n",
            "[CV]  model__criterion=gini, model__max_depth=10, model__splitter=best, total=   0.0s\n",
            "[CV] model__criterion=gini, model__max_depth=10, model__splitter=best \n",
            "[CV]  model__criterion=gini, model__max_depth=10, model__splitter=best, total=   0.0s\n",
            "[CV] model__criterion=gini, model__max_depth=10, model__splitter=best \n",
            "[CV]  model__criterion=gini, model__max_depth=10, model__splitter=best, total=   0.0s\n",
            "[CV] model__criterion=gini, model__max_depth=10, model__splitter=best \n",
            "[CV]  model__criterion=gini, model__max_depth=10, model__splitter=best, total=   0.0s\n",
            "[CV] model__criterion=gini, model__max_depth=10, model__splitter=best \n",
            "[CV]  model__criterion=gini, model__max_depth=10, model__splitter=best, total=   0.0s\n",
            "[CV] model__criterion=gini, model__max_depth=10, model__splitter=random \n",
            "[CV]  model__criterion=gini, model__max_depth=10, model__splitter=random, total=   0.0s\n",
            "[CV] model__criterion=gini, model__max_depth=10, model__splitter=random \n",
            "[CV]  model__criterion=gini, model__max_depth=10, model__splitter=random, total=   0.0s\n",
            "[CV] model__criterion=gini, model__max_depth=10, model__splitter=random \n",
            "[CV]  model__criterion=gini, model__max_depth=10, model__splitter=random, total=   0.0s\n",
            "[CV] model__criterion=gini, model__max_depth=10, model__splitter=random \n",
            "[CV]  model__criterion=gini, model__max_depth=10, model__splitter=random, total=   0.0s\n",
            "[CV] model__criterion=gini, model__max_depth=10, model__splitter=random \n",
            "[CV]  model__criterion=gini, model__max_depth=10, model__splitter=random, total=   0.0s\n",
            "[CV] model__criterion=entropy, model__max_depth=None, model__splitter=best \n",
            "[CV]  model__criterion=entropy, model__max_depth=None, model__splitter=best, total=   0.0s\n",
            "[CV] model__criterion=entropy, model__max_depth=None, model__splitter=best \n",
            "[CV]  model__criterion=entropy, model__max_depth=None, model__splitter=best, total=   0.0s\n",
            "[CV] model__criterion=entropy, model__max_depth=None, model__splitter=best \n",
            "[CV]  model__criterion=entropy, model__max_depth=None, model__splitter=best, total=   0.0s\n",
            "[CV] model__criterion=entropy, model__max_depth=None, model__splitter=best \n",
            "[CV]  model__criterion=entropy, model__max_depth=None, model__splitter=best, total=   0.0s\n",
            "[CV] model__criterion=entropy, model__max_depth=None, model__splitter=best \n",
            "[CV]  model__criterion=entropy, model__max_depth=None, model__splitter=best, total=   0.0s\n",
            "[CV] model__criterion=entropy, model__max_depth=None, model__splitter=random \n",
            "[CV]  model__criterion=entropy, model__max_depth=None, model__splitter=random, total=   0.0s\n",
            "[CV] model__criterion=entropy, model__max_depth=None, model__splitter=random \n",
            "[CV]  model__criterion=entropy, model__max_depth=None, model__splitter=random, total=   0.0s\n",
            "[CV] model__criterion=entropy, model__max_depth=None, model__splitter=random \n",
            "[CV]  model__criterion=entropy, model__max_depth=None, model__splitter=random, total=   0.0s\n",
            "[CV] model__criterion=entropy, model__max_depth=None, model__splitter=random \n",
            "[CV]  model__criterion=entropy, model__max_depth=None, model__splitter=random, total=   0.0s\n",
            "[CV] model__criterion=entropy, model__max_depth=None, model__splitter=random \n",
            "[CV]  model__criterion=entropy, model__max_depth=None, model__splitter=random, total=   0.0s\n",
            "[CV] model__criterion=entropy, model__max_depth=3, model__splitter=best \n",
            "[CV]  model__criterion=entropy, model__max_depth=3, model__splitter=best, total=   0.0s\n",
            "[CV] model__criterion=entropy, model__max_depth=3, model__splitter=best \n",
            "[CV]  model__criterion=entropy, model__max_depth=3, model__splitter=best, total=   0.0s\n",
            "[CV] model__criterion=entropy, model__max_depth=3, model__splitter=best \n",
            "[CV]  model__criterion=entropy, model__max_depth=3, model__splitter=best, total=   0.0s\n",
            "[CV] model__criterion=entropy, model__max_depth=3, model__splitter=best \n",
            "[CV]  model__criterion=entropy, model__max_depth=3, model__splitter=best, total=   0.0s\n",
            "[CV] model__criterion=entropy, model__max_depth=3, model__splitter=best \n",
            "[CV]  model__criterion=entropy, model__max_depth=3, model__splitter=best, total=   0.0s\n",
            "[CV] model__criterion=entropy, model__max_depth=3, model__splitter=random \n",
            "[CV]  model__criterion=entropy, model__max_depth=3, model__splitter=random, total=   0.0s\n",
            "[CV] model__criterion=entropy, model__max_depth=3, model__splitter=random \n",
            "[CV]  model__criterion=entropy, model__max_depth=3, model__splitter=random, total=   0.0s\n",
            "[CV] model__criterion=entropy, model__max_depth=3, model__splitter=random \n",
            "[CV]  model__criterion=entropy, model__max_depth=3, model__splitter=random, total=   0.0s\n",
            "[CV] model__criterion=entropy, model__max_depth=3, model__splitter=random \n",
            "[CV]  model__criterion=entropy, model__max_depth=3, model__splitter=random, total=   0.0s\n",
            "[CV] model__criterion=entropy, model__max_depth=3, model__splitter=random \n",
            "[CV]  model__criterion=entropy, model__max_depth=3, model__splitter=random, total=   0.0s\n",
            "[CV] model__criterion=entropy, model__max_depth=10, model__splitter=best \n",
            "[CV]  model__criterion=entropy, model__max_depth=10, model__splitter=best, total=   0.0s\n",
            "[CV] model__criterion=entropy, model__max_depth=10, model__splitter=best \n",
            "[CV]  model__criterion=entropy, model__max_depth=10, model__splitter=best, total=   0.0s\n",
            "[CV] model__criterion=entropy, model__max_depth=10, model__splitter=best \n",
            "[CV]  model__criterion=entropy, model__max_depth=10, model__splitter=best, total=   0.0s\n",
            "[CV] model__criterion=entropy, model__max_depth=10, model__splitter=best \n",
            "[CV]  model__criterion=entropy, model__max_depth=10, model__splitter=best, total=   0.0s\n",
            "[CV] model__criterion=entropy, model__max_depth=10, model__splitter=best \n",
            "[CV]  model__criterion=entropy, model__max_depth=10, model__splitter=best, total=   0.0s\n",
            "[CV] model__criterion=entropy, model__max_depth=10, model__splitter=random \n",
            "[CV]  model__criterion=entropy, model__max_depth=10, model__splitter=random, total=   0.0s\n",
            "[CV] model__criterion=entropy, model__max_depth=10, model__splitter=random \n",
            "[CV]  model__criterion=entropy, model__max_depth=10, model__splitter=random, total=   0.0s\n",
            "[CV] model__criterion=entropy, model__max_depth=10, model__splitter=random \n",
            "[CV]  model__criterion=entropy, model__max_depth=10, model__splitter=random, total=   0.0s\n",
            "[CV] model__criterion=entropy, model__max_depth=10, model__splitter=random \n",
            "[CV]  model__criterion=entropy, model__max_depth=10, model__splitter=random, total=   0.0s\n",
            "[CV] model__criterion=entropy, model__max_depth=10, model__splitter=random \n",
            "[CV]  model__criterion=entropy, model__max_depth=10, model__splitter=random, total=   0.0s\n"
          ],
          "name": "stdout"
        },
        {
          "output_type": "stream",
          "text": [
            "[Parallel(n_jobs=-2)]: Done  60 out of  60 | elapsed:    0.4s finished\n"
          ],
          "name": "stderr"
        },
        {
          "output_type": "execute_result",
          "data": {
            "text/plain": [
              "StackingClassifier(cv=None,\n",
              "                   estimators=[('GB',\n",
              "                                GridSearchCV(cv=5, error_score=nan,\n",
              "                                             estimator=Pipeline(memory=None,\n",
              "                                                                steps=[('feat_selection',\n",
              "                                                                        SelectFromModel(estimator=GradientBoostingClassifier(ccp_alpha=0.0,\n",
              "                                                                                                                             criterion='friedman_mse',\n",
              "                                                                                                                             init=None,\n",
              "                                                                                                                             learning_rate=0.1,\n",
              "                                                                                                                             loss='deviance',\n",
              "                                                                                                                             max_depth=3,\n",
              "                                                                                                                             max_features=None,\n",
              "                                                                                                                             max_leaf_nodes=None,\n",
              "                                                                                                                             min_impurity_decrease=0.0,\n",
              "                                                                                                                             min...\n",
              "                                             return_train_score=False,\n",
              "                                             scoring=None, verbose=2))],\n",
              "                   final_estimator=LogisticRegression(C=1.0, class_weight=None,\n",
              "                                                      dual=False,\n",
              "                                                      fit_intercept=True,\n",
              "                                                      intercept_scaling=1,\n",
              "                                                      l1_ratio=None,\n",
              "                                                      max_iter=100,\n",
              "                                                      multi_class='auto',\n",
              "                                                      n_jobs=None, penalty='l2',\n",
              "                                                      random_state=None,\n",
              "                                                      solver='liblinear',\n",
              "                                                      tol=0.0001, verbose=0,\n",
              "                                                      warm_start=False),\n",
              "                   n_jobs=None, passthrough=False, stack_method='auto',\n",
              "                   verbose=0)"
            ]
          },
          "metadata": {
            "tags": []
          },
          "execution_count": 117
        }
      ]
    },
    {
      "cell_type": "code",
      "metadata": {
        "id": "8LSSaElGpy0q",
        "colab": {
          "base_uri": "https://localhost:8080/"
        },
        "outputId": "00cdd4d4-7d2c-4255-ad51-9af71dfbcddb"
      },
      "source": [
        "from sklearn.metrics import classification_report\n",
        "print( classification_report(y_test, ClfIrisStacking.predict(X_test)) )"
      ],
      "execution_count": 118,
      "outputs": [
        {
          "output_type": "stream",
          "text": [
            "              precision    recall  f1-score   support\n",
            "\n",
            "           0       1.00      1.00      1.00        10\n",
            "           1       0.83      1.00      0.91        10\n",
            "           2       1.00      0.80      0.89        10\n",
            "\n",
            "    accuracy                           0.93        30\n",
            "   macro avg       0.94      0.93      0.93        30\n",
            "weighted avg       0.94      0.93      0.93        30\n",
            "\n"
          ],
          "name": "stdout"
        }
      ]
    },
    {
      "cell_type": "code",
      "metadata": {
        "id": "n_DUK62tUHtA"
      },
      "source": [
        ""
      ],
      "execution_count": 138,
      "outputs": []
    },
    {
      "cell_type": "code",
      "metadata": {
        "id": "W-SUVqVXXslV"
      },
      "source": [
        ""
      ],
      "execution_count": null,
      "outputs": []
    }
  ]
}