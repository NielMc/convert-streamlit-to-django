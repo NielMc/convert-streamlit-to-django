{
  "nbformat": 4,
  "nbformat_minor": 0,
  "metadata": {
    "colab": {
      "name": "Stacking Pipelines.ipynb",
      "provenance": [],
      "collapsed_sections": [],
      "toc_visible": true,
      "authorship_tag": "ABX9TyPebypFhiZYsnZV5Pv9/9FW"
    },
    "kernelspec": {
      "name": "python3",
      "display_name": "Python 3"
    },
    "language_info": {
      "name": "python"
    }
  },
  "cells": [
    {
      "cell_type": "markdown",
      "metadata": {
        "id": "n5gbVGPNZWPR"
      },
      "source": [
        "* Import repo"
      ]
    },
    {
      "cell_type": "code",
      "metadata": {
        "id": "fsIRBPkQY-vt",
        "outputId": "f87a9508-b52c-4592-8724-22b3586b7e39",
        "colab": {
          "base_uri": "https://localhost:8080/"
        }
      },
      "source": [
        "!git clone https://github.com/FernandoDoreto/convert-streamlit-to-django.git"
      ],
      "execution_count": 1,
      "outputs": [
        {
          "output_type": "stream",
          "text": [
            "Cloning into 'convert-streamlit-to-django'...\n",
            "remote: Enumerating objects: 420, done.\u001b[K\n",
            "remote: Counting objects: 100% (420/420), done.\u001b[K\n",
            "remote: Compressing objects: 100% (306/306), done.\u001b[K\n",
            "remote: Total 420 (delta 194), reused 287 (delta 86), pack-reused 0\u001b[K\n",
            "Receiving objects: 100% (420/420), 371.03 KiB | 3.12 MiB/s, done.\n",
            "Resolving deltas: 100% (194/194), done.\n"
          ],
          "name": "stdout"
        }
      ]
    },
    {
      "cell_type": "code",
      "metadata": {
        "id": "-v6jSgUoZMkV",
        "outputId": "f394fdd7-7411-478b-ff55-eb248b6c941b",
        "colab": {
          "base_uri": "https://localhost:8080/"
        }
      },
      "source": [
        "%cd /content/convert-streamlit-to-django"
      ],
      "execution_count": 2,
      "outputs": [
        {
          "output_type": "stream",
          "text": [
            "/content/convert-streamlit-to-django\n"
          ],
          "name": "stdout"
        }
      ]
    },
    {
      "cell_type": "code",
      "metadata": {
        "id": "qEIV0cHtZUUH",
        "outputId": "1b1c4696-f1d3-434b-cdac-6ebe77420276",
        "colab": {
          "base_uri": "https://localhost:8080/",
          "height": 35
        }
      },
      "source": [
        "pwd"
      ],
      "execution_count": 3,
      "outputs": [
        {
          "output_type": "execute_result",
          "data": {
            "application/vnd.google.colaboratory.intrinsic+json": {
              "type": "string"
            },
            "text/plain": [
              "'/content/convert-streamlit-to-django'"
            ]
          },
          "metadata": {
            "tags": []
          },
          "execution_count": 3
        }
      ]
    },
    {
      "cell_type": "code",
      "metadata": {
        "id": "dpPJS2YmZU2P"
      },
      "source": [
        ""
      ],
      "execution_count": null,
      "outputs": []
    },
    {
      "cell_type": "markdown",
      "metadata": {
        "id": "BFyUM3AUZcye"
      },
      "source": [
        "* Load dataset"
      ]
    },
    {
      "cell_type": "code",
      "metadata": {
        "id": "Cop0CpQuZrKc"
      },
      "source": [
        "pip install streamlit"
      ],
      "execution_count": null,
      "outputs": []
    },
    {
      "cell_type": "code",
      "metadata": {
        "id": "IZVRbgK4Ze-f"
      },
      "source": [
        "from src.processing.data_management import LoadIrisDataset"
      ],
      "execution_count": 3,
      "outputs": []
    },
    {
      "cell_type": "code",
      "metadata": {
        "id": "jayxAhv3ZuMn"
      },
      "source": [
        "import os\n",
        "os.kill(os.getpid(), 9)"
      ],
      "execution_count": null,
      "outputs": []
    },
    {
      "cell_type": "code",
      "metadata": {
        "id": "CTpNrYWrabB8"
      },
      "source": [
        "df = LoadIrisDataset()"
      ],
      "execution_count": 5,
      "outputs": []
    },
    {
      "cell_type": "code",
      "metadata": {
        "id": "ipkI6MYmg7TI"
      },
      "source": [
        ""
      ],
      "execution_count": 33,
      "outputs": []
    },
    {
      "cell_type": "markdown",
      "metadata": {
        "id": "5yJr5dNiautq"
      },
      "source": [
        "* Train Test split"
      ]
    },
    {
      "cell_type": "code",
      "metadata": {
        "id": "JumJM7znakWR"
      },
      "source": [
        "from app_pages.page_ml_ClfIrisSpecies import ML_ClfIrisSpeciesBody\n",
        "from config import config\n",
        "from src.processing.data_management import TrainTestSplit\n",
        "from src.machine_learning.train_pipeline import TrainPipeline_ClfIrisSpecies\n",
        "import src.machine_learning.pipeline as pipeline"
      ],
      "execution_count": 12,
      "outputs": []
    },
    {
      "cell_type": "code",
      "metadata": {
        "id": "Wp5nl2pHaxMy"
      },
      "source": [
        " X_train, X_test,y_train, y_test = TrainTestSplit(df=df,\n",
        "                                                  TARGET=config.ClfIrisSpecies_TARGET)"
      ],
      "execution_count": 34,
      "outputs": []
    },
    {
      "cell_type": "markdown",
      "metadata": {
        "id": "6NM6PH_3bsIK"
      },
      "source": [
        "* Grid Search on 1 pipeline"
      ]
    },
    {
      "cell_type": "code",
      "metadata": {
        "id": "r2QTcEfHbSqf"
      },
      "source": [
        "from config import config\n",
        "from sklearn.pipeline import Pipeline\n",
        "from sklearn.feature_selection import SelectFromModel\n",
        "from sklearn.preprocessing import StandardScaler\n",
        "from sklearn.tree import DecisionTreeClassifier \n",
        "\n",
        "\n",
        "ClfIrisSpecies_DT = Pipeline(\n",
        "    [       \n",
        "        (\"feat_selection\",SelectFromModel(DecisionTreeClassifier())),\n",
        "        (\"feat_scaling\",StandardScaler()),\n",
        "        (\"model\", DecisionTreeClassifier())\n",
        "    ]\n",
        ")\n"
      ],
      "execution_count": 44,
      "outputs": []
    },
    {
      "cell_type": "code",
      "metadata": {
        "id": "uf-4n9nZecEJ"
      },
      "source": [
        "from sklearn.model_selection import GridSearchCV\n",
        "_parameters = {\n",
        "    'model__splitter': [\"best\",\"random\"],\n",
        "    'model__max_depth': [None,3,5,10],\n",
        "    'model__criterion': [\"gini\", \"entropy\"]\n",
        "}\n",
        "\n",
        "\n",
        "_pipe = GridSearchCV(\n",
        "\t\testimator = ClfIrisSpecies_DT,\n",
        "\t\tparam_grid = _parameters, \n",
        "\t\tcv = 5,   \n",
        "\t\tn_jobs = -2,\n",
        "\t\tverbose = 2\n",
        "\t\t)"
      ],
      "execution_count": 61,
      "outputs": []
    },
    {
      "cell_type": "code",
      "metadata": {
        "id": "_2VbAbZHecnz",
        "outputId": "261ff5c6-2294-406e-b3ed-d6bedd136f32",
        "colab": {
          "base_uri": "https://localhost:8080/"
        }
      },
      "source": [
        "_pipe.fit(X_train, y_train)"
      ],
      "execution_count": 62,
      "outputs": [
        {
          "output_type": "execute_result",
          "data": {
            "text/plain": [
              "GridSearchCV(cv=5, error_score=nan,\n",
              "             estimator=Pipeline(memory=None,\n",
              "                                steps=[('feat_selection',\n",
              "                                        SelectFromModel(estimator=DecisionTreeClassifier(ccp_alpha=0.0,\n",
              "                                                                                         class_weight=None,\n",
              "                                                                                         criterion='gini',\n",
              "                                                                                         max_depth=None,\n",
              "                                                                                         max_features=None,\n",
              "                                                                                         max_leaf_nodes=None,\n",
              "                                                                                         min_impurity_decrease=0.0,\n",
              "                                                                                         min_impurity_split=None,\n",
              "                                                                                         min_samples_leaf=1,\n",
              "                                                                                         min_samples_split=2,\n",
              "                                                                                         min_weight_fraction_...\n",
              "                                                               min_samples_split=2,\n",
              "                                                               min_weight_fraction_leaf=0.0,\n",
              "                                                               presort='deprecated',\n",
              "                                                               random_state=None,\n",
              "                                                               splitter='best'))],\n",
              "                                verbose=False),\n",
              "             iid='deprecated', n_jobs=None,\n",
              "             param_grid={'model__criterion': ['gini', 'entropy'],\n",
              "                         'model__max_depth': [None, 3, 5, 10],\n",
              "                         'model__splitter': ['best', 'random']},\n",
              "             pre_dispatch='2*n_jobs', refit=True, return_train_score=False,\n",
              "             scoring=None, verbose=0)"
            ]
          },
          "metadata": {
            "tags": []
          },
          "execution_count": 62
        }
      ]
    },
    {
      "cell_type": "code",
      "metadata": {
        "id": "-5GHuutxfpyD",
        "outputId": "103d6699-afb8-4adf-fcd0-64c796cadfe3",
        "colab": {
          "base_uri": "https://localhost:8080/"
        }
      },
      "source": [
        "_pipe.best_estimator_"
      ],
      "execution_count": 63,
      "outputs": [
        {
          "output_type": "execute_result",
          "data": {
            "text/plain": [
              "Pipeline(memory=None,\n",
              "         steps=[('feat_selection',\n",
              "                 SelectFromModel(estimator=DecisionTreeClassifier(ccp_alpha=0.0,\n",
              "                                                                  class_weight=None,\n",
              "                                                                  criterion='gini',\n",
              "                                                                  max_depth=None,\n",
              "                                                                  max_features=None,\n",
              "                                                                  max_leaf_nodes=None,\n",
              "                                                                  min_impurity_decrease=0.0,\n",
              "                                                                  min_impurity_split=None,\n",
              "                                                                  min_samples_leaf=1,\n",
              "                                                                  min_samples_split=2,\n",
              "                                                                  min_weight_fraction_leaf=0.0,\n",
              "                                                                  presort='deprecated',\n",
              "                                                                  random_state=N...\n",
              "                 StandardScaler(copy=True, with_mean=True, with_std=True)),\n",
              "                ('model',\n",
              "                 DecisionTreeClassifier(ccp_alpha=0.0, class_weight=None,\n",
              "                                        criterion='gini', max_depth=None,\n",
              "                                        max_features=None, max_leaf_nodes=None,\n",
              "                                        min_impurity_decrease=0.0,\n",
              "                                        min_impurity_split=None,\n",
              "                                        min_samples_leaf=1, min_samples_split=2,\n",
              "                                        min_weight_fraction_leaf=0.0,\n",
              "                                        presort='deprecated', random_state=None,\n",
              "                                        splitter='best'))],\n",
              "         verbose=False)"
            ]
          },
          "metadata": {
            "tags": []
          },
          "execution_count": 63
        }
      ]
    },
    {
      "cell_type": "markdown",
      "metadata": {
        "id": "bo88lAxHbwJe"
      },
      "source": [
        "* Grid Search on Stacking pipeline"
      ]
    },
    {
      "cell_type": "code",
      "metadata": {
        "id": "OFnoNBUFbT50"
      },
      "source": [
        ""
      ],
      "execution_count": 63,
      "outputs": []
    },
    {
      "cell_type": "code",
      "metadata": {
        "id": "2DzRWLe8bfeX"
      },
      "source": [
        ""
      ],
      "execution_count": 63,
      "outputs": []
    },
    {
      "cell_type": "code",
      "metadata": {
        "id": "O20QBKEljusR"
      },
      "source": [
        ""
      ],
      "execution_count": 63,
      "outputs": []
    },
    {
      "cell_type": "code",
      "metadata": {
        "id": "fioy3-mlju3P"
      },
      "source": [
        ""
      ],
      "execution_count": null,
      "outputs": []
    }
  ]
}