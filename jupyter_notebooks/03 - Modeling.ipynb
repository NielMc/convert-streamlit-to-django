{
  "nbformat": 4,
  "nbformat_minor": 0,
  "metadata": {
    "colab": {
      "name": "Stacking Pipelines.ipynb",
      "provenance": [],
      "collapsed_sections": [],
      "toc_visible": true,
      "authorship_tag": "ABX9TyO9eRuHkUi+Nh/EaxAPB9Iz"
    },
    "kernelspec": {
      "name": "python3",
      "display_name": "Python 3"
    },
    "language_info": {
      "name": "python"
    },
    "accelerator": "GPU"
  },
  "cells": [
    {
      "cell_type": "markdown",
      "metadata": {
        "id": "n5gbVGPNZWPR"
      },
      "source": [
        "# Import repo"
      ]
    },
    {
      "cell_type": "code",
      "metadata": {
        "colab": {
          "base_uri": "https://localhost:8080/"
        },
        "id": "fsIRBPkQY-vt",
        "outputId": "c52e2214-a89f-4f2c-e080-38269335b2a2"
      },
      "source": [
        "!git clone https://github.com/FernandoRocha88/convert-streamlit-to-django.git"
      ],
      "execution_count": 1,
      "outputs": [
        {
          "output_type": "stream",
          "text": [
            "Cloning into 'convert-streamlit-to-django'...\n",
            "remote: Enumerating objects: 547, done.\u001b[K\n",
            "remote: Counting objects: 100% (547/547), done.\u001b[K\n",
            "remote: Compressing objects: 100% (408/408), done.\u001b[K\n",
            "remote: Total 547 (delta 264), reused 349 (delta 107), pack-reused 0\u001b[K\n",
            "Receiving objects: 100% (547/547), 406.43 KiB | 2.86 MiB/s, done.\n",
            "Resolving deltas: 100% (264/264), done.\n"
          ],
          "name": "stdout"
        }
      ]
    },
    {
      "cell_type": "code",
      "metadata": {
        "colab": {
          "base_uri": "https://localhost:8080/"
        },
        "id": "-v6jSgUoZMkV",
        "outputId": "ddb1ccc5-6a50-412a-c12f-7c7cfcae4136"
      },
      "source": [
        "%cd /content/convert-streamlit-to-django/streamlit"
      ],
      "execution_count": 3,
      "outputs": [
        {
          "output_type": "stream",
          "text": [
            "/content/convert-streamlit-to-django/streamlit\n"
          ],
          "name": "stdout"
        }
      ]
    },
    {
      "cell_type": "code",
      "metadata": {
        "colab": {
          "base_uri": "https://localhost:8080/",
          "height": 35
        },
        "id": "qEIV0cHtZUUH",
        "outputId": "7c1c3f46-820c-403f-b396-01d01b7cb0ef"
      },
      "source": [
        "pwd"
      ],
      "execution_count": 4,
      "outputs": [
        {
          "output_type": "execute_result",
          "data": {
            "application/vnd.google.colaboratory.intrinsic+json": {
              "type": "string"
            },
            "text/plain": [
              "'/content/convert-streamlit-to-django/streamlit'"
            ]
          },
          "metadata": {
            "tags": []
          },
          "execution_count": 4
        }
      ]
    },
    {
      "cell_type": "code",
      "metadata": {
        "id": "dpPJS2YmZU2P"
      },
      "source": [
        ""
      ],
      "execution_count": null,
      "outputs": []
    },
    {
      "cell_type": "markdown",
      "metadata": {
        "id": "BFyUM3AUZcye"
      },
      "source": [
        "# Load dataset"
      ]
    },
    {
      "cell_type": "code",
      "metadata": {
        "id": "5SW9PbC6E0SS"
      },
      "source": [
        "! pip install streamlit"
      ],
      "execution_count": null,
      "outputs": []
    },
    {
      "cell_type": "code",
      "metadata": {
        "id": "IZVRbgK4Ze-f"
      },
      "source": [
        "from src.processing.data_management import LoadIrisDataset"
      ],
      "execution_count": 5,
      "outputs": []
    },
    {
      "cell_type": "code",
      "metadata": {
        "id": "CTpNrYWrabB8",
        "colab": {
          "base_uri": "https://localhost:8080/",
          "height": 197
        },
        "outputId": "cd7db56f-eefd-4303-e5ea-a6f07754e90d"
      },
      "source": [
        "df = LoadIrisDataset()\n",
        "df.head()"
      ],
      "execution_count": 6,
      "outputs": [
        {
          "output_type": "execute_result",
          "data": {
            "text/html": [
              "<div>\n",
              "<style scoped>\n",
              "    .dataframe tbody tr th:only-of-type {\n",
              "        vertical-align: middle;\n",
              "    }\n",
              "\n",
              "    .dataframe tbody tr th {\n",
              "        vertical-align: top;\n",
              "    }\n",
              "\n",
              "    .dataframe thead th {\n",
              "        text-align: right;\n",
              "    }\n",
              "</style>\n",
              "<table border=\"1\" class=\"dataframe\">\n",
              "  <thead>\n",
              "    <tr style=\"text-align: right;\">\n",
              "      <th></th>\n",
              "      <th>sepal length (cm)</th>\n",
              "      <th>sepal width (cm)</th>\n",
              "      <th>petal length (cm)</th>\n",
              "      <th>petal width (cm)</th>\n",
              "      <th>Species</th>\n",
              "    </tr>\n",
              "  </thead>\n",
              "  <tbody>\n",
              "    <tr>\n",
              "      <th>0</th>\n",
              "      <td>5.1</td>\n",
              "      <td>3.5</td>\n",
              "      <td>1.4</td>\n",
              "      <td>0.2</td>\n",
              "      <td>0</td>\n",
              "    </tr>\n",
              "    <tr>\n",
              "      <th>1</th>\n",
              "      <td>4.9</td>\n",
              "      <td>3.0</td>\n",
              "      <td>1.4</td>\n",
              "      <td>0.2</td>\n",
              "      <td>0</td>\n",
              "    </tr>\n",
              "    <tr>\n",
              "      <th>2</th>\n",
              "      <td>4.7</td>\n",
              "      <td>3.2</td>\n",
              "      <td>1.3</td>\n",
              "      <td>0.2</td>\n",
              "      <td>0</td>\n",
              "    </tr>\n",
              "    <tr>\n",
              "      <th>3</th>\n",
              "      <td>4.6</td>\n",
              "      <td>3.1</td>\n",
              "      <td>1.5</td>\n",
              "      <td>0.2</td>\n",
              "      <td>0</td>\n",
              "    </tr>\n",
              "    <tr>\n",
              "      <th>4</th>\n",
              "      <td>5.0</td>\n",
              "      <td>3.6</td>\n",
              "      <td>1.4</td>\n",
              "      <td>0.2</td>\n",
              "      <td>0</td>\n",
              "    </tr>\n",
              "  </tbody>\n",
              "</table>\n",
              "</div>"
            ],
            "text/plain": [
              "   sepal length (cm)  sepal width (cm)  ...  petal width (cm)  Species\n",
              "0                5.1               3.5  ...               0.2        0\n",
              "1                4.9               3.0  ...               0.2        0\n",
              "2                4.7               3.2  ...               0.2        0\n",
              "3                4.6               3.1  ...               0.2        0\n",
              "4                5.0               3.6  ...               0.2        0\n",
              "\n",
              "[5 rows x 5 columns]"
            ]
          },
          "metadata": {
            "tags": []
          },
          "execution_count": 6
        }
      ]
    },
    {
      "cell_type": "markdown",
      "metadata": {
        "id": "5yJr5dNiautq"
      },
      "source": [
        "* Train Test split"
      ]
    },
    {
      "cell_type": "code",
      "metadata": {
        "id": "JumJM7znakWR"
      },
      "source": [
        "from config import config\n",
        "from src.processing.data_management import TrainTestSplit"
      ],
      "execution_count": null,
      "outputs": []
    },
    {
      "cell_type": "code",
      "metadata": {
        "id": "Wp5nl2pHaxMy"
      },
      "source": [
        " X_train, X_test,y_train, y_test = TrainTestSplit(df=df,TARGET=config.ClfIrisSpecies_TARGET)"
      ],
      "execution_count": null,
      "outputs": []
    },
    {
      "cell_type": "code",
      "metadata": {
        "id": "8qOHD-TSPDbn"
      },
      "source": [
        ""
      ],
      "execution_count": null,
      "outputs": []
    },
    {
      "cell_type": "markdown",
      "metadata": {
        "id": "6NM6PH_3bsIK"
      },
      "source": [
        "# Grid Search on 1 pipeline"
      ]
    },
    {
      "cell_type": "code",
      "metadata": {
        "id": "r2QTcEfHbSqf"
      },
      "source": [
        "from config import config\n",
        "from sklearn.pipeline import Pipeline\n",
        "from sklearn.feature_selection import SelectFromModel\n",
        "from sklearn.preprocessing import StandardScaler\n",
        "from sklearn.tree import DecisionTreeClassifier \n",
        "from sklearn.model_selection import GridSearchCV\n",
        "\n",
        "ClfIrisSpecies_DT = Pipeline(\n",
        "    [       \n",
        "        (\"feat_selection\",SelectFromModel(DecisionTreeClassifier(random_state=config.RANDOM_STATE))),\n",
        "        (\"feat_scaling\",StandardScaler()),\n",
        "        (\"model\", DecisionTreeClassifier(random_state=config.RANDOM_STATE))\n",
        "    ]\n",
        ")\n",
        "\n",
        "\n",
        "_parameters = {\n",
        "    'model__splitter': [\"best\",\"random\"],\n",
        "    'model__max_depth': [None,3,5,10],\n",
        "    'model__criterion': [\"gini\", \"entropy\"]\n",
        "}\n",
        "\n",
        "\n",
        "_pipe = GridSearchCV(\n",
        "\t\testimator = ClfIrisSpecies_DT,\n",
        "\t\tparam_grid = _parameters, \n",
        "\t\tcv=5,n_jobs=-2,verbose=2)"
      ],
      "execution_count": null,
      "outputs": []
    },
    {
      "cell_type": "code",
      "metadata": {
        "colab": {
          "base_uri": "https://localhost:8080/"
        },
        "id": "_2VbAbZHecnz",
        "outputId": "561de682-9de1-4f6d-e4f7-32a37f6b5f75"
      },
      "source": [
        "_pipe.fit(X_train, y_train)"
      ],
      "execution_count": null,
      "outputs": [
        {
          "output_type": "stream",
          "text": [
            "Fitting 5 folds for each of 16 candidates, totalling 80 fits\n",
            "[CV] model__criterion=gini, model__max_depth=None, model__splitter=best \n",
            "[CV]  model__criterion=gini, model__max_depth=None, model__splitter=best, total=   0.0s\n",
            "[CV] model__criterion=gini, model__max_depth=None, model__splitter=best \n",
            "[CV]  model__criterion=gini, model__max_depth=None, model__splitter=best, total=   0.0s\n",
            "[CV] model__criterion=gini, model__max_depth=None, model__splitter=best \n",
            "[CV]  model__criterion=gini, model__max_depth=None, model__splitter=best, total=   0.0s\n",
            "[CV] model__criterion=gini, model__max_depth=None, model__splitter=best \n",
            "[CV]  model__criterion=gini, model__max_depth=None, model__splitter=best, total=   0.0s\n",
            "[CV] model__criterion=gini, model__max_depth=None, model__splitter=best \n",
            "[CV]  model__criterion=gini, model__max_depth=None, model__splitter=best, total=   0.0s\n",
            "[CV] model__criterion=gini, model__max_depth=None, model__splitter=random \n",
            "[CV]  model__criterion=gini, model__max_depth=None, model__splitter=random, total=   0.0s\n",
            "[CV] model__criterion=gini, model__max_depth=None, model__splitter=random \n",
            "[CV]  model__criterion=gini, model__max_depth=None, model__splitter=random, total=   0.0s\n",
            "[CV] model__criterion=gini, model__max_depth=None, model__splitter=random \n",
            "[CV]  model__criterion=gini, model__max_depth=None, model__splitter=random, total=   0.0s\n",
            "[CV] model__criterion=gini, model__max_depth=None, model__splitter=random \n",
            "[CV]  model__criterion=gini, model__max_depth=None, model__splitter=random, total=   0.0s\n",
            "[CV] model__criterion=gini, model__max_depth=None, model__splitter=random \n",
            "[CV]  model__criterion=gini, model__max_depth=None, model__splitter=random, total=   0.0s\n",
            "[CV] model__criterion=gini, model__max_depth=3, model__splitter=best .\n",
            "[CV]  model__criterion=gini, model__max_depth=3, model__splitter=best, total=   0.0s\n",
            "[CV] model__criterion=gini, model__max_depth=3, model__splitter=best .\n",
            "[CV]  model__criterion=gini, model__max_depth=3, model__splitter=best, total=   0.0s\n",
            "[CV] model__criterion=gini, model__max_depth=3, model__splitter=best .\n",
            "[CV]  model__criterion=gini, model__max_depth=3, model__splitter=best, total=   0.0s\n",
            "[CV] model__criterion=gini, model__max_depth=3, model__splitter=best .\n",
            "[CV]  model__criterion=gini, model__max_depth=3, model__splitter=best, total=   0.0s\n",
            "[CV] model__criterion=gini, model__max_depth=3, model__splitter=best .\n",
            "[CV]  model__criterion=gini, model__max_depth=3, model__splitter=best, total=   0.0s\n",
            "[CV] model__criterion=gini, model__max_depth=3, model__splitter=random \n",
            "[CV]  model__criterion=gini, model__max_depth=3, model__splitter=random, total=   0.0s\n",
            "[CV] model__criterion=gini, model__max_depth=3, model__splitter=random \n",
            "[CV]  model__criterion=gini, model__max_depth=3, model__splitter=random, total=   0.0s\n",
            "[CV] model__criterion=gini, model__max_depth=3, model__splitter=random \n",
            "[CV]  model__criterion=gini, model__max_depth=3, model__splitter=random, total=   0.0s\n",
            "[CV] model__criterion=gini, model__max_depth=3, model__splitter=random \n",
            "[CV]  model__criterion=gini, model__max_depth=3, model__splitter=random, total=   0.0s\n",
            "[CV] model__criterion=gini, model__max_depth=3, model__splitter=random \n",
            "[CV]  model__criterion=gini, model__max_depth=3, model__splitter=random, total=   0.0s\n",
            "[CV] model__criterion=gini, model__max_depth=5, model__splitter=best .\n",
            "[CV]  model__criterion=gini, model__max_depth=5, model__splitter=best, total=   0.0s\n",
            "[CV] model__criterion=gini, model__max_depth=5, model__splitter=best .\n",
            "[CV]  model__criterion=gini, model__max_depth=5, model__splitter=best, total=   0.0s\n",
            "[CV] model__criterion=gini, model__max_depth=5, model__splitter=best .\n",
            "[CV]  model__criterion=gini, model__max_depth=5, model__splitter=best, total=   0.0s\n",
            "[CV] model__criterion=gini, model__max_depth=5, model__splitter=best .\n",
            "[CV]  model__criterion=gini, model__max_depth=5, model__splitter=best, total=   0.0s\n",
            "[CV] model__criterion=gini, model__max_depth=5, model__splitter=best .\n",
            "[CV]  model__criterion=gini, model__max_depth=5, model__splitter=best, total=   0.0s\n",
            "[CV] model__criterion=gini, model__max_depth=5, model__splitter=random \n",
            "[CV]  model__criterion=gini, model__max_depth=5, model__splitter=random, total=   0.0s\n",
            "[CV] model__criterion=gini, model__max_depth=5, model__splitter=random \n",
            "[CV]  model__criterion=gini, model__max_depth=5, model__splitter=random, total=   0.0s\n",
            "[CV] model__criterion=gini, model__max_depth=5, model__splitter=random \n",
            "[CV]  model__criterion=gini, model__max_depth=5, model__splitter=random, total=   0.0s\n",
            "[CV] model__criterion=gini, model__max_depth=5, model__splitter=random \n",
            "[CV]  model__criterion=gini, model__max_depth=5, model__splitter=random, total=   0.0s\n",
            "[CV] model__criterion=gini, model__max_depth=5, model__splitter=random \n",
            "[CV]  model__criterion=gini, model__max_depth=5, model__splitter=random, total=   0.0s\n",
            "[CV] model__criterion=gini, model__max_depth=10, model__splitter=best \n"
          ],
          "name": "stdout"
        },
        {
          "output_type": "stream",
          "text": [
            "[Parallel(n_jobs=-2)]: Using backend SequentialBackend with 1 concurrent workers.\n",
            "[Parallel(n_jobs=-2)]: Done   1 out of   1 | elapsed:    0.0s remaining:    0.0s\n"
          ],
          "name": "stderr"
        },
        {
          "output_type": "stream",
          "text": [
            "[CV]  model__criterion=gini, model__max_depth=10, model__splitter=best, total=   0.0s\n",
            "[CV] model__criterion=gini, model__max_depth=10, model__splitter=best \n",
            "[CV]  model__criterion=gini, model__max_depth=10, model__splitter=best, total=   0.0s\n",
            "[CV] model__criterion=gini, model__max_depth=10, model__splitter=best \n",
            "[CV]  model__criterion=gini, model__max_depth=10, model__splitter=best, total=   0.0s\n",
            "[CV] model__criterion=gini, model__max_depth=10, model__splitter=best \n",
            "[CV]  model__criterion=gini, model__max_depth=10, model__splitter=best, total=   0.0s\n",
            "[CV] model__criterion=gini, model__max_depth=10, model__splitter=best \n",
            "[CV]  model__criterion=gini, model__max_depth=10, model__splitter=best, total=   0.0s\n",
            "[CV] model__criterion=gini, model__max_depth=10, model__splitter=random \n",
            "[CV]  model__criterion=gini, model__max_depth=10, model__splitter=random, total=   0.0s\n",
            "[CV] model__criterion=gini, model__max_depth=10, model__splitter=random \n",
            "[CV]  model__criterion=gini, model__max_depth=10, model__splitter=random, total=   0.0s\n",
            "[CV] model__criterion=gini, model__max_depth=10, model__splitter=random \n",
            "[CV]  model__criterion=gini, model__max_depth=10, model__splitter=random, total=   0.0s\n",
            "[CV] model__criterion=gini, model__max_depth=10, model__splitter=random \n",
            "[CV]  model__criterion=gini, model__max_depth=10, model__splitter=random, total=   0.0s\n",
            "[CV] model__criterion=gini, model__max_depth=10, model__splitter=random \n",
            "[CV]  model__criterion=gini, model__max_depth=10, model__splitter=random, total=   0.0s\n",
            "[CV] model__criterion=entropy, model__max_depth=None, model__splitter=best \n",
            "[CV]  model__criterion=entropy, model__max_depth=None, model__splitter=best, total=   0.0s\n",
            "[CV] model__criterion=entropy, model__max_depth=None, model__splitter=best \n",
            "[CV]  model__criterion=entropy, model__max_depth=None, model__splitter=best, total=   0.0s\n",
            "[CV] model__criterion=entropy, model__max_depth=None, model__splitter=best \n",
            "[CV]  model__criterion=entropy, model__max_depth=None, model__splitter=best, total=   0.0s\n",
            "[CV] model__criterion=entropy, model__max_depth=None, model__splitter=best \n",
            "[CV]  model__criterion=entropy, model__max_depth=None, model__splitter=best, total=   0.0s\n",
            "[CV] model__criterion=entropy, model__max_depth=None, model__splitter=best \n",
            "[CV]  model__criterion=entropy, model__max_depth=None, model__splitter=best, total=   0.0s\n",
            "[CV] model__criterion=entropy, model__max_depth=None, model__splitter=random \n",
            "[CV]  model__criterion=entropy, model__max_depth=None, model__splitter=random, total=   0.0s\n",
            "[CV] model__criterion=entropy, model__max_depth=None, model__splitter=random \n",
            "[CV]  model__criterion=entropy, model__max_depth=None, model__splitter=random, total=   0.0s\n",
            "[CV] model__criterion=entropy, model__max_depth=None, model__splitter=random \n",
            "[CV]  model__criterion=entropy, model__max_depth=None, model__splitter=random, total=   0.0s\n",
            "[CV] model__criterion=entropy, model__max_depth=None, model__splitter=random \n",
            "[CV]  model__criterion=entropy, model__max_depth=None, model__splitter=random, total=   0.0s\n",
            "[CV] model__criterion=entropy, model__max_depth=None, model__splitter=random \n",
            "[CV]  model__criterion=entropy, model__max_depth=None, model__splitter=random, total=   0.0s\n",
            "[CV] model__criterion=entropy, model__max_depth=3, model__splitter=best \n",
            "[CV]  model__criterion=entropy, model__max_depth=3, model__splitter=best, total=   0.0s\n",
            "[CV] model__criterion=entropy, model__max_depth=3, model__splitter=best \n",
            "[CV]  model__criterion=entropy, model__max_depth=3, model__splitter=best, total=   0.0s\n",
            "[CV] model__criterion=entropy, model__max_depth=3, model__splitter=best \n",
            "[CV]  model__criterion=entropy, model__max_depth=3, model__splitter=best, total=   0.0s\n",
            "[CV] model__criterion=entropy, model__max_depth=3, model__splitter=best \n",
            "[CV]  model__criterion=entropy, model__max_depth=3, model__splitter=best, total=   0.0s\n",
            "[CV] model__criterion=entropy, model__max_depth=3, model__splitter=best \n",
            "[CV]  model__criterion=entropy, model__max_depth=3, model__splitter=best, total=   0.0s\n",
            "[CV] model__criterion=entropy, model__max_depth=3, model__splitter=random \n",
            "[CV]  model__criterion=entropy, model__max_depth=3, model__splitter=random, total=   0.0s\n",
            "[CV] model__criterion=entropy, model__max_depth=3, model__splitter=random \n",
            "[CV]  model__criterion=entropy, model__max_depth=3, model__splitter=random, total=   0.0s\n",
            "[CV] model__criterion=entropy, model__max_depth=3, model__splitter=random \n",
            "[CV]  model__criterion=entropy, model__max_depth=3, model__splitter=random, total=   0.0s\n",
            "[CV] model__criterion=entropy, model__max_depth=3, model__splitter=random \n",
            "[CV]  model__criterion=entropy, model__max_depth=3, model__splitter=random, total=   0.0s\n",
            "[CV] model__criterion=entropy, model__max_depth=3, model__splitter=random \n",
            "[CV]  model__criterion=entropy, model__max_depth=3, model__splitter=random, total=   0.0s\n",
            "[CV] model__criterion=entropy, model__max_depth=5, model__splitter=best \n",
            "[CV]  model__criterion=entropy, model__max_depth=5, model__splitter=best, total=   0.0s\n",
            "[CV] model__criterion=entropy, model__max_depth=5, model__splitter=best \n",
            "[CV]  model__criterion=entropy, model__max_depth=5, model__splitter=best, total=   0.0s\n",
            "[CV] model__criterion=entropy, model__max_depth=5, model__splitter=best \n",
            "[CV]  model__criterion=entropy, model__max_depth=5, model__splitter=best, total=   0.0s\n",
            "[CV] model__criterion=entropy, model__max_depth=5, model__splitter=best \n",
            "[CV]  model__criterion=entropy, model__max_depth=5, model__splitter=best, total=   0.0s\n",
            "[CV] model__criterion=entropy, model__max_depth=5, model__splitter=best \n",
            "[CV]  model__criterion=entropy, model__max_depth=5, model__splitter=best, total=   0.0s\n",
            "[CV] model__criterion=entropy, model__max_depth=5, model__splitter=random \n",
            "[CV]  model__criterion=entropy, model__max_depth=5, model__splitter=random, total=   0.0s\n",
            "[CV] model__criterion=entropy, model__max_depth=5, model__splitter=random \n",
            "[CV]  model__criterion=entropy, model__max_depth=5, model__splitter=random, total=   0.0s\n",
            "[CV] model__criterion=entropy, model__max_depth=5, model__splitter=random \n",
            "[CV]  model__criterion=entropy, model__max_depth=5, model__splitter=random, total=   0.0s\n",
            "[CV] model__criterion=entropy, model__max_depth=5, model__splitter=random \n",
            "[CV]  model__criterion=entropy, model__max_depth=5, model__splitter=random, total=   0.0s\n",
            "[CV] model__criterion=entropy, model__max_depth=5, model__splitter=random \n",
            "[CV]  model__criterion=entropy, model__max_depth=5, model__splitter=random, total=   0.0s\n",
            "[CV] model__criterion=entropy, model__max_depth=10, model__splitter=best \n",
            "[CV]  model__criterion=entropy, model__max_depth=10, model__splitter=best, total=   0.0s\n",
            "[CV] model__criterion=entropy, model__max_depth=10, model__splitter=best \n",
            "[CV]  model__criterion=entropy, model__max_depth=10, model__splitter=best, total=   0.0s\n",
            "[CV] model__criterion=entropy, model__max_depth=10, model__splitter=best \n",
            "[CV]  model__criterion=entropy, model__max_depth=10, model__splitter=best, total=   0.0s\n",
            "[CV] model__criterion=entropy, model__max_depth=10, model__splitter=best \n",
            "[CV]  model__criterion=entropy, model__max_depth=10, model__splitter=best, total=   0.0s\n",
            "[CV] model__criterion=entropy, model__max_depth=10, model__splitter=best \n",
            "[CV]  model__criterion=entropy, model__max_depth=10, model__splitter=best, total=   0.0s\n",
            "[CV] model__criterion=entropy, model__max_depth=10, model__splitter=random \n",
            "[CV]  model__criterion=entropy, model__max_depth=10, model__splitter=random, total=   0.0s\n",
            "[CV] model__criterion=entropy, model__max_depth=10, model__splitter=random \n",
            "[CV]  model__criterion=entropy, model__max_depth=10, model__splitter=random, total=   0.0s\n",
            "[CV] model__criterion=entropy, model__max_depth=10, model__splitter=random \n",
            "[CV]  model__criterion=entropy, model__max_depth=10, model__splitter=random, total=   0.0s\n",
            "[CV] model__criterion=entropy, model__max_depth=10, model__splitter=random \n",
            "[CV]  model__criterion=entropy, model__max_depth=10, model__splitter=random, total=   0.0s\n",
            "[CV] model__criterion=entropy, model__max_depth=10, model__splitter=random \n",
            "[CV]  model__criterion=entropy, model__max_depth=10, model__splitter=random, total=   0.0s\n"
          ],
          "name": "stdout"
        },
        {
          "output_type": "stream",
          "text": [
            "[Parallel(n_jobs=-2)]: Done  80 out of  80 | elapsed:    0.5s finished\n"
          ],
          "name": "stderr"
        },
        {
          "output_type": "execute_result",
          "data": {
            "text/plain": [
              "GridSearchCV(cv=5, error_score=nan,\n",
              "             estimator=Pipeline(memory=None,\n",
              "                                steps=[('feat_selection',\n",
              "                                        SelectFromModel(estimator=DecisionTreeClassifier(ccp_alpha=0.0,\n",
              "                                                                                         class_weight=None,\n",
              "                                                                                         criterion='gini',\n",
              "                                                                                         max_depth=None,\n",
              "                                                                                         max_features=None,\n",
              "                                                                                         max_leaf_nodes=None,\n",
              "                                                                                         min_impurity_decrease=0.0,\n",
              "                                                                                         min_impurity_split=None,\n",
              "                                                                                         min_samples_leaf=1,\n",
              "                                                                                         min_samples_split=2,\n",
              "                                                                                         min_weight_fraction_...\n",
              "                                                               min_samples_leaf=1,\n",
              "                                                               min_samples_split=2,\n",
              "                                                               min_weight_fraction_leaf=0.0,\n",
              "                                                               presort='deprecated',\n",
              "                                                               random_state=0,\n",
              "                                                               splitter='best'))],\n",
              "                                verbose=False),\n",
              "             iid='deprecated', n_jobs=-2,\n",
              "             param_grid={'model__criterion': ['gini', 'entropy'],\n",
              "                         'model__max_depth': [None, 3, 5, 10],\n",
              "                         'model__splitter': ['best', 'random']},\n",
              "             pre_dispatch='2*n_jobs', refit=True, return_train_score=False,\n",
              "             scoring=None, verbose=2)"
            ]
          },
          "metadata": {
            "tags": []
          },
          "execution_count": 60
        }
      ]
    },
    {
      "cell_type": "code",
      "metadata": {
        "colab": {
          "base_uri": "https://localhost:8080/"
        },
        "id": "-5GHuutxfpyD",
        "outputId": "76c8cb90-dd55-43bb-beda-81774757f1be"
      },
      "source": [
        "PipelineToDeploy = _pipe.best_estimator_\n",
        "PipelineToDeploy"
      ],
      "execution_count": null,
      "outputs": [
        {
          "output_type": "execute_result",
          "data": {
            "text/plain": [
              "Pipeline(memory=None,\n",
              "         steps=[('feat_selection',\n",
              "                 SelectFromModel(estimator=DecisionTreeClassifier(ccp_alpha=0.0,\n",
              "                                                                  class_weight=None,\n",
              "                                                                  criterion='gini',\n",
              "                                                                  max_depth=None,\n",
              "                                                                  max_features=None,\n",
              "                                                                  max_leaf_nodes=None,\n",
              "                                                                  min_impurity_decrease=0.0,\n",
              "                                                                  min_impurity_split=None,\n",
              "                                                                  min_samples_leaf=1,\n",
              "                                                                  min_samples_split=2,\n",
              "                                                                  min_weight_fraction_leaf=0.0,\n",
              "                                                                  presort='deprecated',\n",
              "                                                                  random_state=0...\n",
              "                 StandardScaler(copy=True, with_mean=True, with_std=True)),\n",
              "                ('model',\n",
              "                 DecisionTreeClassifier(ccp_alpha=0.0, class_weight=None,\n",
              "                                        criterion='gini', max_depth=None,\n",
              "                                        max_features=None, max_leaf_nodes=None,\n",
              "                                        min_impurity_decrease=0.0,\n",
              "                                        min_impurity_split=None,\n",
              "                                        min_samples_leaf=1, min_samples_split=2,\n",
              "                                        min_weight_fraction_leaf=0.0,\n",
              "                                        presort='deprecated', random_state=0,\n",
              "                                        splitter='best'))],\n",
              "         verbose=False)"
            ]
          },
          "metadata": {
            "tags": []
          },
          "execution_count": 98
        }
      ]
    },
    {
      "cell_type": "code",
      "metadata": {
        "id": "yWtDZiOTae-c",
        "colab": {
          "base_uri": "https://localhost:8080/"
        },
        "outputId": "5b42b114-6c20-43e3-893a-4d8552cba782"
      },
      "source": [
        "_pipe.best_params_"
      ],
      "execution_count": null,
      "outputs": [
        {
          "output_type": "execute_result",
          "data": {
            "text/plain": [
              "{'model__criterion': 'gini',\n",
              " 'model__max_depth': None,\n",
              " 'model__splitter': 'best'}"
            ]
          },
          "metadata": {
            "tags": []
          },
          "execution_count": 70
        }
      ]
    },
    {
      "cell_type": "code",
      "metadata": {
        "id": "_Ja12eaYa8qI",
        "colab": {
          "base_uri": "https://localhost:8080/"
        },
        "outputId": "c206a4e6-d9d2-43d8-e767-b33909454deb"
      },
      "source": [
        "# main features in this pipeline -taken from feat selection step\n",
        "X_train.columns[PipelineToDeploy['feat_selection'].get_support()].to_list()"
      ],
      "execution_count": null,
      "outputs": [
        {
          "output_type": "execute_result",
          "data": {
            "text/plain": [
              "['petal width (cm)']"
            ]
          },
          "metadata": {
            "tags": []
          },
          "execution_count": 99
        }
      ]
    },
    {
      "cell_type": "code",
      "metadata": {
        "id": "cFDWRh_AddEf",
        "colab": {
          "base_uri": "https://localhost:8080/"
        },
        "outputId": "71b2f785-a888-4b00-ab46-543f349334fe"
      },
      "source": [
        "from sklearn.metrics import classification_report\n",
        "print( classification_report(y_test, PipelineToDeploy.predict(X_test)) )"
      ],
      "execution_count": null,
      "outputs": [
        {
          "output_type": "stream",
          "text": [
            "              precision    recall  f1-score   support\n",
            "\n",
            "           0       1.00      1.00      1.00        10\n",
            "           1       0.83      1.00      0.91        10\n",
            "           2       1.00      0.80      0.89        10\n",
            "\n",
            "    accuracy                           0.93        30\n",
            "   macro avg       0.94      0.93      0.93        30\n",
            "weighted avg       0.94      0.93      0.93        30\n",
            "\n"
          ],
          "name": "stdout"
        }
      ]
    }
  ]
}